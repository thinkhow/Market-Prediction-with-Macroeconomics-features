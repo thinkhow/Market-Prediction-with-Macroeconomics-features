{
 "cells": [
  {
   "cell_type": "code",
   "execution_count": 1,
   "metadata": {},
   "outputs": [
    {
     "name": "stderr",
     "output_type": "stream",
     "text": [
      "In C:\\Users\\Malavika\\Anaconda3\\lib\\site-packages\\matplotlib\\mpl-data\\stylelib\\_classic_test.mplstyle: \n",
      "The text.latex.preview rcparam was deprecated in Matplotlib 3.3 and will be removed two minor releases later.\n",
      "In C:\\Users\\Malavika\\Anaconda3\\lib\\site-packages\\matplotlib\\mpl-data\\stylelib\\_classic_test.mplstyle: \n",
      "The mathtext.fallback_to_cm rcparam was deprecated in Matplotlib 3.3 and will be removed two minor releases later.\n",
      "In C:\\Users\\Malavika\\Anaconda3\\lib\\site-packages\\matplotlib\\mpl-data\\stylelib\\_classic_test.mplstyle: Support for setting the 'mathtext.fallback_to_cm' rcParam is deprecated since 3.3 and will be removed two minor releases later; use 'mathtext.fallback : 'cm' instead.\n",
      "In C:\\Users\\Malavika\\Anaconda3\\lib\\site-packages\\matplotlib\\mpl-data\\stylelib\\_classic_test.mplstyle: \n",
      "The validate_bool_maybe_none function was deprecated in Matplotlib 3.3 and will be removed two minor releases later.\n",
      "In C:\\Users\\Malavika\\Anaconda3\\lib\\site-packages\\matplotlib\\mpl-data\\stylelib\\_classic_test.mplstyle: \n",
      "The savefig.jpeg_quality rcparam was deprecated in Matplotlib 3.3 and will be removed two minor releases later.\n",
      "In C:\\Users\\Malavika\\Anaconda3\\lib\\site-packages\\matplotlib\\mpl-data\\stylelib\\_classic_test.mplstyle: \n",
      "The keymap.all_axes rcparam was deprecated in Matplotlib 3.3 and will be removed two minor releases later.\n",
      "In C:\\Users\\Malavika\\Anaconda3\\lib\\site-packages\\matplotlib\\mpl-data\\stylelib\\_classic_test.mplstyle: \n",
      "The animation.avconv_path rcparam was deprecated in Matplotlib 3.3 and will be removed two minor releases later.\n",
      "In C:\\Users\\Malavika\\Anaconda3\\lib\\site-packages\\matplotlib\\mpl-data\\stylelib\\_classic_test.mplstyle: \n",
      "The animation.avconv_args rcparam was deprecated in Matplotlib 3.3 and will be removed two minor releases later.\n"
     ]
    }
   ],
   "source": [
    "import pandas as pd\n",
    "import numpy as np\n",
    "from sklearn.preprocessing import PolynomialFeatures\n",
    "from sklearn.linear_model import LinearRegression\n",
    "from sklearn.preprocessing import FunctionTransformer\n",
    "from numpy import meshgrid\n",
    "\n",
    "## For plotting\n",
    "import matplotlib.pyplot as plt\n",
    "from matplotlib import style\n",
    "import datetime as dt\n",
    "import seaborn as sns\n",
    "sns.set_style(\"whitegrid\")\n"
   ]
  },
  {
   "cell_type": "code",
   "execution_count": 2,
   "metadata": {},
   "outputs": [
    {
     "data": {
      "text/html": [
       "<div>\n",
       "<style scoped>\n",
       "    .dataframe tbody tr th:only-of-type {\n",
       "        vertical-align: middle;\n",
       "    }\n",
       "\n",
       "    .dataframe tbody tr th {\n",
       "        vertical-align: top;\n",
       "    }\n",
       "\n",
       "    .dataframe thead th {\n",
       "        text-align: right;\n",
       "    }\n",
       "</style>\n",
       "<table border=\"1\" class=\"dataframe\">\n",
       "  <thead>\n",
       "    <tr style=\"text-align: right;\">\n",
       "      <th></th>\n",
       "      <th>ds</th>\n",
       "      <th>y</th>\n",
       "      <th>bond</th>\n",
       "      <th>fed funds</th>\n",
       "      <th>fed total assets</th>\n",
       "    </tr>\n",
       "  </thead>\n",
       "  <tbody>\n",
       "    <tr>\n",
       "      <td>10676</td>\n",
       "      <td>1978-01-03</td>\n",
       "      <td>93.82</td>\n",
       "      <td>7.83</td>\n",
       "      <td>6.70</td>\n",
       "      <td>720761.0</td>\n",
       "    </tr>\n",
       "    <tr>\n",
       "      <td>10675</td>\n",
       "      <td>1978-01-04</td>\n",
       "      <td>93.52</td>\n",
       "      <td>7.82</td>\n",
       "      <td>6.70</td>\n",
       "      <td>720761.0</td>\n",
       "    </tr>\n",
       "    <tr>\n",
       "      <td>10674</td>\n",
       "      <td>1978-01-05</td>\n",
       "      <td>92.74</td>\n",
       "      <td>7.83</td>\n",
       "      <td>6.70</td>\n",
       "      <td>720761.0</td>\n",
       "    </tr>\n",
       "    <tr>\n",
       "      <td>10673</td>\n",
       "      <td>1978-01-06</td>\n",
       "      <td>91.62</td>\n",
       "      <td>7.85</td>\n",
       "      <td>6.70</td>\n",
       "      <td>720761.0</td>\n",
       "    </tr>\n",
       "    <tr>\n",
       "      <td>10672</td>\n",
       "      <td>1978-01-09</td>\n",
       "      <td>90.64</td>\n",
       "      <td>8.01</td>\n",
       "      <td>6.70</td>\n",
       "      <td>720761.0</td>\n",
       "    </tr>\n",
       "    <tr>\n",
       "      <td>...</td>\n",
       "      <td>...</td>\n",
       "      <td>...</td>\n",
       "      <td>...</td>\n",
       "      <td>...</td>\n",
       "      <td>...</td>\n",
       "    </tr>\n",
       "    <tr>\n",
       "      <td>681</td>\n",
       "      <td>2018-01-10</td>\n",
       "      <td>2748.23</td>\n",
       "      <td>2.55</td>\n",
       "      <td>1.41</td>\n",
       "      <td>4443718.0</td>\n",
       "    </tr>\n",
       "    <tr>\n",
       "      <td>680</td>\n",
       "      <td>2018-01-11</td>\n",
       "      <td>2767.56</td>\n",
       "      <td>2.54</td>\n",
       "      <td>1.41</td>\n",
       "      <td>4446062.0</td>\n",
       "    </tr>\n",
       "    <tr>\n",
       "      <td>679</td>\n",
       "      <td>2018-01-12</td>\n",
       "      <td>2786.24</td>\n",
       "      <td>2.55</td>\n",
       "      <td>1.41</td>\n",
       "      <td>4446062.0</td>\n",
       "    </tr>\n",
       "    <tr>\n",
       "      <td>678</td>\n",
       "      <td>2018-01-16</td>\n",
       "      <td>2776.42</td>\n",
       "      <td>2.54</td>\n",
       "      <td>1.41</td>\n",
       "      <td>4446062.0</td>\n",
       "    </tr>\n",
       "    <tr>\n",
       "      <td>677</td>\n",
       "      <td>2018-01-17</td>\n",
       "      <td>2802.56</td>\n",
       "      <td>2.57</td>\n",
       "      <td>1.41</td>\n",
       "      <td>4446062.0</td>\n",
       "    </tr>\n",
       "  </tbody>\n",
       "</table>\n",
       "<p>10000 rows × 5 columns</p>\n",
       "</div>"
      ],
      "text/plain": [
       "               ds        y  bond  fed funds  fed total assets\n",
       "10676  1978-01-03    93.82  7.83       6.70          720761.0\n",
       "10675  1978-01-04    93.52  7.82       6.70          720761.0\n",
       "10674  1978-01-05    92.74  7.83       6.70          720761.0\n",
       "10673  1978-01-06    91.62  7.85       6.70          720761.0\n",
       "10672  1978-01-09    90.64  8.01       6.70          720761.0\n",
       "...           ...      ...   ...        ...               ...\n",
       "681    2018-01-10  2748.23  2.55       1.41         4443718.0\n",
       "680    2018-01-11  2767.56  2.54       1.41         4446062.0\n",
       "679    2018-01-12  2786.24  2.55       1.41         4446062.0\n",
       "678    2018-01-16  2776.42  2.54       1.41         4446062.0\n",
       "677    2018-01-17  2802.56  2.57       1.41         4446062.0\n",
       "\n",
       "[10000 rows x 5 columns]"
      ]
     },
     "execution_count": 2,
     "metadata": {},
     "output_type": "execute_result"
    }
   ],
   "source": [
    "# processing data, removing the space in coumn names\n",
    "total_data= pd.read_csv('../data/total_df.csv')\n",
    "new_name = [name.strip() for name in total_data.columns]\n",
    "total_data.columns = new_name\n",
    "total_data = total_data.sort_values(by='Date')\n",
    "\n",
    "#extract features to use\n",
    "sub_feature = ['Date','Close','bond','fed funds','fed total assets']\n",
    "total_data = total_data[sub_feature]\n",
    "\n",
    "\n",
    "total_data=total_data.iloc[:10000]\n",
    "\n",
    "#change the columns names for fitting prophet()\n",
    "total_data.columns = ['ds','y','bond','fed funds','fed total assets']\n",
    " \n",
    "\n",
    "\n",
    "total_data\n"
   ]
  },
  {
   "cell_type": "code",
   "execution_count": 3,
   "metadata": {},
   "outputs": [
    {
     "name": "stdout",
     "output_type": "stream",
     "text": [
      "[2802.56, 15.84, 19.1, 4516077.0]\n",
      "               ds         y      bond  fed funds  fed total assets\n",
      "10676  1978-01-03  0.033477  0.494318   0.350785          0.159599\n",
      "10675  1978-01-04  0.033369  0.493687   0.350785          0.159599\n",
      "10674  1978-01-05  0.033091  0.494318   0.350785          0.159599\n",
      "10673  1978-01-06  0.032692  0.495581   0.350785          0.159599\n",
      "10672  1978-01-09  0.032342  0.505682   0.350785          0.159599\n"
     ]
    }
   ],
   "source": [
    "#feature normalization\n",
    "\n",
    "normal_constants = []\n",
    "\n",
    "for col in total_data.columns[1:]:\n",
    "    tmp_max = np.max(abs(total_data[col]))\n",
    "    normal_constants.append(tmp_max)\n",
    "    total_data[col]= total_data[col]/tmp_max\n",
    "\n",
    "print(normal_constants)\n",
    "\n",
    "print(total_data.head())\n"
   ]
  },
  {
   "cell_type": "code",
   "execution_count": 4,
   "metadata": {},
   "outputs": [
    {
     "name": "stdout",
     "output_type": "stream",
     "text": [
      "               ds         y      bond  fed funds  fed total assets\n",
      "10676  1978-01-03  0.033477  0.494318   0.350785          0.159599\n",
      "10675  1978-01-04  0.033369  0.493687   0.350785          0.159599\n",
      "10674  1978-01-05  0.033091  0.494318   0.350785          0.159599\n",
      "10673  1978-01-06  0.032692  0.495581   0.350785          0.159599\n",
      "10672  1978-01-09  0.032342  0.505682   0.350785          0.159599\n",
      "...           ...       ...       ...        ...               ...\n",
      "1681   2014-01-15  0.659533  0.183081   0.003665          0.891966\n",
      "1680   2014-01-16  0.658644  0.180556   0.003665          0.901563\n",
      "1679   2014-01-17  0.656079  0.179293   0.003665          0.901563\n",
      "1678   2014-01-21  0.657898  0.179924   0.003665          0.901563\n",
      "1677   2014-01-22  0.658277  0.181187   0.003665          0.901563\n",
      "\n",
      "[9000 rows x 5 columns]               ds         y      bond  fed funds  fed total assets\n",
      "1676  2014-01-23  0.652425  0.176136   0.003665          0.907406\n",
      "1675  2014-01-24  0.638805  0.173611   0.003665          0.907406\n",
      "1674  2014-01-27  0.635690  0.175505   0.003665          0.907406\n",
      "1673  2014-01-28  0.639594  0.174874   0.003665          0.907406\n",
      "1672  2014-01-29  0.633064  0.169823   0.003665          0.907406\n",
      "...          ...       ...       ...        ...               ...\n",
      "681   2018-01-10  0.980614  0.160985   0.073822          0.983977\n",
      "680   2018-01-11  0.987511  0.160354   0.073822          0.984496\n",
      "679   2018-01-12  0.994177  0.160985   0.073822          0.984496\n",
      "678   2018-01-16  0.990673  0.160354   0.073822          0.984496\n",
      "677   2018-01-17  1.000000  0.162247   0.073822          0.984496\n",
      "\n",
      "[1000 rows x 5 columns]\n"
     ]
    }
   ],
   "source": [
    "train_size = int(0.9*total_data.shape[0])\n",
    "\n",
    "train_data = total_data.iloc[:train_size]\n",
    "test_data= total_data.iloc[train_size:]\n",
    "\n",
    "print(train_data,test_data)"
   ]
  },
  {
   "cell_type": "code",
   "execution_count": 5,
   "metadata": {},
   "outputs": [],
   "source": [
    "#data = df.sort_index(ascending=True, axis=0)\n",
    "\n",
    "\n",
    "training = train_data['y']\n",
    "validation = test_data['y']\n",
    "\n",
    "#model = auto_arima(training, start_p=1, start_q=1,max_p=3, max_q=3, m=12,start_P=0, seasonal=True,d=1, D=1, trace=True,error_action='ignore',suppress_warnings=True)\n",
    "#model.fit(training)\n",
    "\n",
    "#forecast = model.predict(n_periods=248)\n",
    "#forecast = pd.DataFrame(forecast,index = valid.index,columns=['Prediction'])"
   ]
  },
  {
   "cell_type": "code",
   "execution_count": 6,
   "metadata": {},
   "outputs": [
    {
     "name": "stderr",
     "output_type": "stream",
     "text": [
      "C:\\Users\\Malavika\\Anaconda3\\lib\\site-packages\\sklearn\\externals\\six.py:31: DeprecationWarning: The module is deprecated in version 0.21 and will be removed in version 0.23 since we've dropped support for Python 2.7. Please rely on the official version of six (https://pypi.org/project/six/).\n",
      "  \"(https://pypi.org/project/six/).\", DeprecationWarning)\n",
      "C:\\Users\\Malavika\\Anaconda3\\lib\\site-packages\\sklearn\\externals\\joblib\\__init__.py:15: DeprecationWarning: sklearn.externals.joblib is deprecated in 0.21 and will be removed in 0.23. Please import this functionality directly from joblib, which can be installed with: pip install joblib. If this warning is raised when loading pickled models, you may need to re-serialize those models with scikit-learn 0.21+.\n",
      "  warnings.warn(msg, category=DeprecationWarning)\n"
     ]
    }
   ],
   "source": [
    "from pmdarima.arima import auto_arima\n",
    "#model = auto_arima(training, start_p=1, start_q=1,max_p=3, max_q=3, m=12,start_P=0, seasonal=True,d=1, D=1, trace=True,error_action='ignore',suppress_warnings=True)\n",
    "#model.fit(training)\n"
   ]
  },
  {
   "cell_type": "code",
   "execution_count": 7,
   "metadata": {},
   "outputs": [
    {
     "name": "stdout",
     "output_type": "stream",
     "text": [
      "Fit ARIMA: order=(1, 1, 1) seasonal_order=(0, 1, 1, 12); AIC=-74332.350, BIC=-74296.832, Fit time=30.661 seconds\n",
      "Fit ARIMA: order=(0, 1, 0) seasonal_order=(0, 1, 0, 12); AIC=-69447.133, BIC=-69432.926, Fit time=4.360 seconds\n",
      "Fit ARIMA: order=(1, 1, 0) seasonal_order=(1, 1, 0, 12); AIC=-72042.984, BIC=-72014.570, Fit time=29.227 seconds\n",
      "Fit ARIMA: order=(0, 1, 1) seasonal_order=(0, 1, 1, 12); AIC=-74329.039, BIC=-74300.625, Fit time=25.625 seconds\n",
      "Fit ARIMA: order=(1, 1, 1) seasonal_order=(1, 1, 1, 12); AIC=-74198.722, BIC=-74156.101, Fit time=33.528 seconds\n",
      "Fit ARIMA: order=(1, 1, 1) seasonal_order=(0, 1, 0, 12); AIC=-69517.735, BIC=-69489.320, Fit time=3.134 seconds\n",
      "Fit ARIMA: order=(1, 1, 1) seasonal_order=(0, 1, 2, 12); AIC=-74778.992, BIC=-74736.371, Fit time=64.596 seconds\n",
      "Fit ARIMA: order=(0, 1, 1) seasonal_order=(0, 1, 2, 12); AIC=-74776.461, BIC=-74740.943, Fit time=55.063 seconds\n",
      "Fit ARIMA: order=(2, 1, 1) seasonal_order=(0, 1, 2, 12); AIC=-74777.848, BIC=-74728.123, Fit time=180.894 seconds\n",
      "Fit ARIMA: order=(1, 1, 0) seasonal_order=(0, 1, 2, 12); AIC=-74772.894, BIC=-74737.377, Fit time=58.509 seconds\n",
      "Fit ARIMA: order=(1, 1, 2) seasonal_order=(0, 1, 2, 12); AIC=-74713.466, BIC=-74663.741, Fit time=75.736 seconds\n",
      "Fit ARIMA: order=(0, 1, 0) seasonal_order=(0, 1, 2, 12); AIC=-74719.454, BIC=-74691.040, Fit time=92.485 seconds\n",
      "Fit ARIMA: order=(2, 1, 2) seasonal_order=(0, 1, 2, 12); AIC=-74711.466, BIC=-74654.638, Fit time=312.882 seconds\n",
      "Fit ARIMA: order=(1, 1, 1) seasonal_order=(1, 1, 2, 12); AIC=-74732.830, BIC=-74683.105, Fit time=272.189 seconds\n",
      "Total fit time: 1239.434 seconds\n"
     ]
    }
   ],
   "source": [
    "model = auto_arima(training, start_p=1, start_q=1,max_p=3, max_q=3, m=12,start_P=0, seasonal=True,d=1, D=1, trace=True,error_action='ignore',suppress_warnings=True)\n",
    "\n"
   ]
  },
  {
   "cell_type": "code",
   "execution_count": 8,
   "metadata": {},
   "outputs": [
    {
     "data": {
      "text/plain": [
       "ARIMA(callback=None, disp=0, maxiter=None, method=None, order=(1, 1, 1),\n",
       "      out_of_sample_size=0, scoring='mse', scoring_args={},\n",
       "      seasonal_order=(0, 1, 2, 12), solver='lbfgs', start_params=None,\n",
       "      suppress_warnings=True, transparams=True, trend=None,\n",
       "      with_intercept=True)"
      ]
     },
     "execution_count": 8,
     "metadata": {},
     "output_type": "execute_result"
    }
   ],
   "source": [
    "model.fit(training)"
   ]
  },
  {
   "cell_type": "code",
   "execution_count": 20,
   "metadata": {},
   "outputs": [],
   "source": [
    "forecast = model.predict(n_periods=1000)\n",
    "forecast = pd.DataFrame(forecast,index = test_data.index,columns=['Prediction'])"
   ]
  },
  {
   "cell_type": "code",
   "execution_count": 21,
   "metadata": {},
   "outputs": [
    {
     "name": "stdout",
     "output_type": "stream",
     "text": [
      "0.08749358009014166\n"
     ]
    }
   ],
   "source": [
    "#test1 = test_data[:248]\n",
    "rms=np.sqrt(np.mean(np.power((np.array(test_data['y'])-np.array(forecast['Prediction'])),2)))\n",
    "print(rms)"
   ]
  },
  {
   "cell_type": "code",
   "execution_count": 22,
   "metadata": {},
   "outputs": [
    {
     "data": {
      "text/plain": [
       "[<matplotlib.lines.Line2D at 0x2628146bd48>]"
      ]
     },
     "execution_count": 22,
     "metadata": {},
     "output_type": "execute_result"
    },
    {
     "data": {
      "image/png": "[encoded data removed]",
      "text/plain": [
       "<Figure size 432x288 with 1 Axes>"
      ]
     },
     "metadata": {
      "needs_background": "light"
     },
     "output_type": "display_data"
    }
   ],
   "source": [
    "#plot\n",
    "plt.plot(train_data['y'])\n",
    "plt.plot(test_data['y'])\n",
    "plt.plot(forecast['Prediction'])"
   ]
  },
  {
   "cell_type": "code",
   "execution_count": null,
   "metadata": {},
   "outputs": [],
   "source": []
  },
  {
   "cell_type": "code",
   "execution_count": null,
   "metadata": {},
   "outputs": [],
   "source": []
  },
  {
   "cell_type": "code",
   "execution_count": null,
   "metadata": {},
   "outputs": [],
   "source": []
  },
  {
   "cell_type": "code",
   "execution_count": null,
   "metadata": {},
   "outputs": [],
   "source": []
  }
 ],
 "metadata": {
  "kernelspec": {
   "display_name": "Python 3",
   "language": "python",
   "name": "python3"
  },
  "language_info": {
   "codemirror_mode": {
    "name": "ipython",
    "version": 3
   },
   "file_extension": ".py",
   "mimetype": "text/x-python",
   "name": "python",
   "nbconvert_exporter": "python",
   "pygments_lexer": "ipython3",
   "version": "3.8.10"
  }
 },
 "nbformat": 4,
 "nbformat_minor": 4
}
