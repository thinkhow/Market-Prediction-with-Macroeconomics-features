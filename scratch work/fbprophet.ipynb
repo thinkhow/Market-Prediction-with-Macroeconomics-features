{
 "cells": [
  {
   "cell_type": "markdown",
   "metadata": {},
   "source": [
    "## Data Preprocessing"
   ]
  },
  {
   "cell_type": "code",
   "execution_count": 1,
   "metadata": {},
   "outputs": [],
   "source": [
    "##import packages here\n",
    "import pandas as pd\n",
    "import numpy as np\n",
    "from sklearn.preprocessing import PolynomialFeatures\n",
    "from sklearn.linear_model import LinearRegression\n",
    "from sklearn.preprocessing import FunctionTransformer\n",
    "\n",
    "# We'll use this later\n",
    "from numpy import meshgrid\n",
    "\n",
    "## For plotting\n",
    "import matplotlib.pyplot as plt\n",
    "from matplotlib import style\n",
    "import datetime as dt\n",
    "import seaborn as sns\n",
    "\n",
    "## This sets the plot style\n",
    "## to have a grid on a white background\n",
    "sns.set_style(\"whitegrid\")"
   ]
  },
  {
   "cell_type": "markdown",
   "metadata": {},
   "source": [
    "## Nasdaq Composite Index since 1971"
   ]
  },
  {
   "cell_type": "code",
   "execution_count": 2,
   "metadata": {
    "scrolled": true
   },
   "outputs": [
    {
     "data": {
      "text/html": [
       "<div>\n",
       "<style scoped>\n",
       "    .dataframe tbody tr th:only-of-type {\n",
       "        vertical-align: middle;\n",
       "    }\n",
       "\n",
       "    .dataframe tbody tr th {\n",
       "        vertical-align: top;\n",
       "    }\n",
       "\n",
       "    .dataframe thead th {\n",
       "        text-align: right;\n",
       "    }\n",
       "</style>\n",
       "<table border=\"1\" class=\"dataframe\">\n",
       "  <thead>\n",
       "    <tr style=\"text-align: right;\">\n",
       "      <th></th>\n",
       "      <th>Date</th>\n",
       "      <th>Open</th>\n",
       "      <th>High</th>\n",
       "      <th>Low</th>\n",
       "      <th>Close</th>\n",
       "      <th>Adj Close</th>\n",
       "      <th>Volume</th>\n",
       "    </tr>\n",
       "  </thead>\n",
       "  <tbody>\n",
       "    <tr>\n",
       "      <th>0</th>\n",
       "      <td>1971-02-05</td>\n",
       "      <td>100.000000</td>\n",
       "      <td>100.000000</td>\n",
       "      <td>100.000000</td>\n",
       "      <td>100.000000</td>\n",
       "      <td>100.000000</td>\n",
       "      <td>0</td>\n",
       "    </tr>\n",
       "    <tr>\n",
       "      <th>1</th>\n",
       "      <td>1971-02-08</td>\n",
       "      <td>100.839996</td>\n",
       "      <td>100.839996</td>\n",
       "      <td>100.839996</td>\n",
       "      <td>100.839996</td>\n",
       "      <td>100.839996</td>\n",
       "      <td>0</td>\n",
       "    </tr>\n",
       "    <tr>\n",
       "      <th>2</th>\n",
       "      <td>1971-02-09</td>\n",
       "      <td>100.760002</td>\n",
       "      <td>100.760002</td>\n",
       "      <td>100.760002</td>\n",
       "      <td>100.760002</td>\n",
       "      <td>100.760002</td>\n",
       "      <td>0</td>\n",
       "    </tr>\n",
       "    <tr>\n",
       "      <th>3</th>\n",
       "      <td>1971-02-10</td>\n",
       "      <td>100.690002</td>\n",
       "      <td>100.690002</td>\n",
       "      <td>100.690002</td>\n",
       "      <td>100.690002</td>\n",
       "      <td>100.690002</td>\n",
       "      <td>0</td>\n",
       "    </tr>\n",
       "    <tr>\n",
       "      <th>4</th>\n",
       "      <td>1971-02-11</td>\n",
       "      <td>101.449997</td>\n",
       "      <td>101.449997</td>\n",
       "      <td>101.449997</td>\n",
       "      <td>101.449997</td>\n",
       "      <td>101.449997</td>\n",
       "      <td>0</td>\n",
       "    </tr>\n",
       "    <tr>\n",
       "      <th>...</th>\n",
       "      <td>...</td>\n",
       "      <td>...</td>\n",
       "      <td>...</td>\n",
       "      <td>...</td>\n",
       "      <td>...</td>\n",
       "      <td>...</td>\n",
       "      <td>...</td>\n",
       "    </tr>\n",
       "    <tr>\n",
       "      <th>12670</th>\n",
       "      <td>2021-05-03</td>\n",
       "      <td>14031.769531</td>\n",
       "      <td>14042.120117</td>\n",
       "      <td>13881.509766</td>\n",
       "      <td>13895.120117</td>\n",
       "      <td>13895.120117</td>\n",
       "      <td>4718850000</td>\n",
       "    </tr>\n",
       "    <tr>\n",
       "      <th>12671</th>\n",
       "      <td>2021-05-04</td>\n",
       "      <td>13774.509766</td>\n",
       "      <td>13795.570313</td>\n",
       "      <td>13485.589844</td>\n",
       "      <td>13633.500000</td>\n",
       "      <td>13633.500000</td>\n",
       "      <td>5852850000</td>\n",
       "    </tr>\n",
       "    <tr>\n",
       "      <th>12672</th>\n",
       "      <td>2021-05-05</td>\n",
       "      <td>13731.129883</td>\n",
       "      <td>13753.049805</td>\n",
       "      <td>13553.929688</td>\n",
       "      <td>13582.419922</td>\n",
       "      <td>13582.419922</td>\n",
       "      <td>4517100000</td>\n",
       "    </tr>\n",
       "    <tr>\n",
       "      <th>12673</th>\n",
       "      <td>2021-05-06</td>\n",
       "      <td>13557.830078</td>\n",
       "      <td>13635.730469</td>\n",
       "      <td>13439.389648</td>\n",
       "      <td>13632.839844</td>\n",
       "      <td>13632.839844</td>\n",
       "      <td>5000710000</td>\n",
       "    </tr>\n",
       "    <tr>\n",
       "      <th>12674</th>\n",
       "      <td>2021-05-07</td>\n",
       "      <td>13723.089844</td>\n",
       "      <td>13828.620117</td>\n",
       "      <td>13690.750000</td>\n",
       "      <td>13752.240234</td>\n",
       "      <td>13752.240234</td>\n",
       "      <td>4376800000</td>\n",
       "    </tr>\n",
       "  </tbody>\n",
       "</table>\n",
       "<p>12675 rows × 7 columns</p>\n",
       "</div>"
      ],
      "text/plain": [
       "             Date          Open          High           Low         Close  \\\n",
       "0      1971-02-05    100.000000    100.000000    100.000000    100.000000   \n",
       "1      1971-02-08    100.839996    100.839996    100.839996    100.839996   \n",
       "2      1971-02-09    100.760002    100.760002    100.760002    100.760002   \n",
       "3      1971-02-10    100.690002    100.690002    100.690002    100.690002   \n",
       "4      1971-02-11    101.449997    101.449997    101.449997    101.449997   \n",
       "...           ...           ...           ...           ...           ...   \n",
       "12670  2021-05-03  14031.769531  14042.120117  13881.509766  13895.120117   \n",
       "12671  2021-05-04  13774.509766  13795.570313  13485.589844  13633.500000   \n",
       "12672  2021-05-05  13731.129883  13753.049805  13553.929688  13582.419922   \n",
       "12673  2021-05-06  13557.830078  13635.730469  13439.389648  13632.839844   \n",
       "12674  2021-05-07  13723.089844  13828.620117  13690.750000  13752.240234   \n",
       "\n",
       "          Adj Close      Volume  \n",
       "0        100.000000           0  \n",
       "1        100.839996           0  \n",
       "2        100.760002           0  \n",
       "3        100.690002           0  \n",
       "4        101.449997           0  \n",
       "...             ...         ...  \n",
       "12670  13895.120117  4718850000  \n",
       "12671  13633.500000  5852850000  \n",
       "12672  13582.419922  4517100000  \n",
       "12673  13632.839844  5000710000  \n",
       "12674  13752.240234  4376800000  \n",
       "\n",
       "[12675 rows x 7 columns]"
      ]
     },
     "execution_count": 2,
     "metadata": {},
     "output_type": "execute_result"
    }
   ],
   "source": [
    "##import prices from NASDAQ-all-time-daily.csv\n",
    "##has data since 2/5/71\n",
    "nasdaq_df = pd.read_csv('../data/NASDAQ-all-time-daily.csv')\n",
    "# nasdaq_df = pd.read_csv('NASDAQ-all-time-daily.csv',parse_dates = True, index_col = 0)\n",
    "## index_col = 0 removes the first colum of indexs 0,1,2.... otherwise the plot below \n",
    "## will not appear as years \n",
    "##drop NaN rows\n",
    "nasdaq_df.dropna()\n",
    "##no need to drop more rows"
   ]
  },
  {
   "cell_type": "markdown",
   "metadata": {},
   "source": [
    "## Facebook Prophet"
   ]
  },
  {
   "cell_type": "code",
   "execution_count": 12,
   "metadata": {},
   "outputs": [],
   "source": [
    "# Defining proper training and test data sets\n",
    "train_size = int(nasdaq_df.shape[0]*0.95)\n",
    "train_df = nasdaq_df.iloc[:train_size]\n",
    "test_df = nasdaq_df.iloc[train_size+1:]"
   ]
  },
  {
   "cell_type": "code",
   "execution_count": 13,
   "metadata": {
    "scrolled": true
   },
   "outputs": [
    {
     "name": "stderr",
     "output_type": "stream",
     "text": [
      "C:\\Anaconda3\\lib\\site-packages\\pandas\\core\\frame.py:4296: SettingWithCopyWarning: \n",
      "A value is trying to be set on a copy of a slice from a DataFrame\n",
      "\n",
      "See the caveats in the documentation: https://pandas.pydata.org/pandas-docs/stable/user_guide/indexing.html#returning-a-view-versus-a-copy\n",
      "  return super().rename(\n",
      "C:\\Anaconda3\\lib\\site-packages\\pandas\\core\\generic.py:5168: SettingWithCopyWarning: \n",
      "A value is trying to be set on a copy of a slice from a DataFrame.\n",
      "Try using .loc[row_indexer,col_indexer] = value instead\n",
      "\n",
      "See the caveats in the documentation: https://pandas.pydata.org/pandas-docs/stable/user_guide/indexing.html#returning-a-view-versus-a-copy\n",
      "  self[name] = value\n"
     ]
    }
   ],
   "source": [
    "# Building model using fbprophet\n",
    "import fbprophet as prophet\n",
    "# reset index to get date_time as a column. prophet_df should be set as the training set\n",
    "prophet_df = train_df[['Date','Adj Close']]\n",
    "\n",
    "# prepare the required dataframe\n",
    "prophet_df.rename(columns={'Date':'ds','Adj Close':'y'},inplace=True)\n",
    "prophet_df.ds = pd.to_datetime(prophet_df.ds)\n",
    "\n",
    "prophet_df = prophet_df[['ds','y']]"
   ]
  },
  {
   "cell_type": "code",
   "execution_count": 17,
   "metadata": {},
   "outputs": [],
   "source": [
    "# Prophet model\n",
    "pro_model = prophet.Prophet(daily_seasonality=True)\n",
    "pro_model.fit(prophet_df)\n",
    "#Create future dataframe\n",
    "test_dates = pro_model.make_future_dataframe(periods=test_df.shape[0])\n",
    "#Forecast the data using the model\n",
    "forecast_df = pro_model.predict(test_dates)"
   ]
  },
  {
   "cell_type": "code",
   "execution_count": 18,
   "metadata": {
    "scrolled": true
   },
   "outputs": [
    {
     "data": {
      "image/png": "[encoded data removed]",
      "text/plain": [
       "<Figure size 1080x432 with 1 Axes>"
      ]
     },
     "metadata": {},
     "output_type": "display_data"
    }
   ],
   "source": [
    "# Plot the forecasted data and current data  \n",
    "forecast_df['datetime'] = forecast_df['ds']\n",
    "forecast_df.set_index('datetime', inplace=True)\n",
    "fig, ax = plt.subplots(figsize=(15, 6))\n",
    "# plot against true data\n",
    "plt.plot(forecast_df.yhat,c='y',label='Forecast')\n",
    "plt.plot(forecast_df.yhat_lower.iloc[train_size+1:], \n",
    "         linestyle='--',\n",
    "         c='b',\n",
    "         alpha=0.3,\n",
    "         label='Confidence Interval')\n",
    "plt.plot(forecast_df.yhat_upper.iloc[train_size+1:],\n",
    "         linestyle='--',\n",
    "         c='b',\n",
    "         alpha=0.3,\n",
    "label='Confidence Interval')\n",
    "#plt.plot(prophet_df.y,c='g',label='Actual Data')\n",
    "nasplot = pd.read_csv('../data/NASDAQ-all-time-daily.csv', parse_dates = True, index_col = 0)\n",
    "nasplot['Adj Close'].plot(c = 'g', label='Actual Data')\n",
    "plt.legend()\n",
    "plt.title('Facebook\\'s Prophet Model Forecast Against Actual Data')\n",
    "plt.show()"
   ]
  },
  {
   "cell_type": "markdown",
   "metadata": {},
   "source": [
    "#### Hao: A stupid way the fix this abnormal plot (the Actual Data terminate around the year 2009!) is to comment the line \"plt.plot(prophet_df.y,c='g',label='Actual Data')\" above \"#nasplot\" and uncomment \"#nasplot\" . But why does the original code give the abnormal plot above ??"
   ]
  },
  {
   "cell_type": "code",
   "execution_count": 16,
   "metadata": {},
   "outputs": [
    {
     "name": "stdout",
     "output_type": "stream",
     "text": [
      "              ds\n",
      "0     1971-02-05\n",
      "1     1971-02-08\n",
      "2     1971-02-09\n",
      "3     1971-02-10\n",
      "4     1971-02-11\n",
      "...          ...\n",
      "12669 2020-07-19\n",
      "12670 2020-07-20\n",
      "12671 2020-07-21\n",
      "12672 2020-07-22\n",
      "12673 2020-07-23\n",
      "\n",
      "[12674 rows x 1 columns]\n"
     ]
    }
   ],
   "source": [
    "print(test_dates)"
   ]
  }
 ],
 "metadata": {
  "kernelspec": {
   "display_name": "Python 3",
   "language": "python",
   "name": "python3"
  },
  "language_info": {
   "codemirror_mode": {
    "name": "ipython",
    "version": 3
   },
   "file_extension": ".py",
   "mimetype": "text/x-python",
   "name": "python",
   "nbconvert_exporter": "python",
   "pygments_lexer": "ipython3",
   "version": "3.8.5"
  }
 },
 "nbformat": 4,
 "nbformat_minor": 5
}
