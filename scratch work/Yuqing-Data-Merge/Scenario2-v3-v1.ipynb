{
 "cells": [
  {
   "cell_type": "markdown",
   "id": "c2ab0f47",
   "metadata": {},
   "source": [
    "# Gradient descent algorithm for Scenario 2\n",
    "\n",
    "\n",
    "In this part, we implement an gradient descent algorithm to optimization the objective loss function in Scenario 2:\n",
    "\n",
    "\n",
    "$$\\min F := \\min \\frac{1}{2(n-i)} \\sum_{i=1000}^n (fbpredic(i) + a*tby(i) +b*ffr(i) + c*fta(i) - asp(i))^2$$\n",
    "\n",
    "Gradient descent: \n",
    "\n",
    "$$ \\beta_k = \\beta_{k-1} + \\delta* \\nabla F, $$\n",
    "where $\\delta$ control how far does each iteration go.\n",
    "\n",
    "\n",
    "### Detailed plan\n",
    "\n",
    "First, split the data as train and test with 80% and 20% respectively. For the training part, we need prophet() predicted price, there are a couple of issues. One is prophet() can not predict too far in the future. The other is we can not call prophet() too many times, this takes a lot of time. So we will use a sliding window strategy:\n",
    "\n",
    "1, Split the train data as train_1 and train_2, where train_1 is used as a sliding window to fit prophet(), and give predictions in train_2. Train_2 is used train the model we proposed above.\n",
    "\n",
    "2, After we got full size (size of train_2) predictions from prophet(), then we use gradient descent to fit the above model, extracting the coefficients of features to make predicution in the testing data."
   ]
  },
  {
   "cell_type": "markdown",
   "id": "bed4c728",
   "metadata": {},
   "source": []
  },
  {
   "cell_type": "code",
   "execution_count": 1,
   "id": "ad7b2df5",
   "metadata": {},
   "outputs": [],
   "source": [
    "import pandas as pd\n",
    "import numpy as np\n",
    "from sklearn.preprocessing import PolynomialFeatures\n",
    "from sklearn.linear_model import LinearRegression\n",
    "from sklearn.preprocessing import FunctionTransformer\n",
    "from numpy import meshgrid\n",
    "\n",
    "## For plotting\n",
    "import matplotlib.pyplot as plt\n",
    "from matplotlib import style\n",
    "import datetime as dt\n",
    "import seaborn as sns\n",
    "sns.set_style(\"whitegrid\")"
   ]
  },
  {
   "cell_type": "code",
   "execution_count": 2,
   "id": "7a8d3385",
   "metadata": {},
   "outputs": [
    {
     "data": {
      "text/html": [
       "<div>\n",
       "<style scoped>\n",
       "    .dataframe tbody tr th:only-of-type {\n",
       "        vertical-align: middle;\n",
       "    }\n",
       "\n",
       "    .dataframe tbody tr th {\n",
       "        vertical-align: top;\n",
       "    }\n",
       "\n",
       "    .dataframe thead th {\n",
       "        text-align: right;\n",
       "    }\n",
       "</style>\n",
       "<table border=\"1\" class=\"dataframe\">\n",
       "  <thead>\n",
       "    <tr style=\"text-align: right;\">\n",
       "      <th></th>\n",
       "      <th>ds</th>\n",
       "      <th>y</th>\n",
       "      <th>tby</th>\n",
       "      <th>ffr</th>\n",
       "      <th>fta</th>\n",
       "      <th>eps</th>\n",
       "      <th>div</th>\n",
       "      <th>une</th>\n",
       "      <th>vix</th>\n",
       "    </tr>\n",
       "  </thead>\n",
       "  <tbody>\n",
       "    <tr>\n",
       "      <th>0</th>\n",
       "      <td>2005-06-20</td>\n",
       "      <td>1216.10</td>\n",
       "      <td>4.11</td>\n",
       "      <td>3.04</td>\n",
       "      <td>812235.0</td>\n",
       "      <td>84.81</td>\n",
       "      <td>1.76</td>\n",
       "      <td>5.0</td>\n",
       "      <td>148.30</td>\n",
       "    </tr>\n",
       "    <tr>\n",
       "      <th>1</th>\n",
       "      <td>2005-06-21</td>\n",
       "      <td>1213.61</td>\n",
       "      <td>4.06</td>\n",
       "      <td>3.04</td>\n",
       "      <td>812235.0</td>\n",
       "      <td>84.81</td>\n",
       "      <td>1.76</td>\n",
       "      <td>5.0</td>\n",
       "      <td>149.00</td>\n",
       "    </tr>\n",
       "    <tr>\n",
       "      <th>2</th>\n",
       "      <td>2005-06-22</td>\n",
       "      <td>1213.88</td>\n",
       "      <td>3.95</td>\n",
       "      <td>3.04</td>\n",
       "      <td>811179.0</td>\n",
       "      <td>84.81</td>\n",
       "      <td>1.76</td>\n",
       "      <td>5.0</td>\n",
       "      <td>148.40</td>\n",
       "    </tr>\n",
       "    <tr>\n",
       "      <th>3</th>\n",
       "      <td>2005-06-23</td>\n",
       "      <td>1200.73</td>\n",
       "      <td>3.96</td>\n",
       "      <td>3.04</td>\n",
       "      <td>811179.0</td>\n",
       "      <td>84.81</td>\n",
       "      <td>1.76</td>\n",
       "      <td>5.0</td>\n",
       "      <td>150.50</td>\n",
       "    </tr>\n",
       "    <tr>\n",
       "      <th>4</th>\n",
       "      <td>2005-06-24</td>\n",
       "      <td>1191.57</td>\n",
       "      <td>3.92</td>\n",
       "      <td>3.04</td>\n",
       "      <td>811179.0</td>\n",
       "      <td>84.81</td>\n",
       "      <td>1.76</td>\n",
       "      <td>5.0</td>\n",
       "      <td>152.00</td>\n",
       "    </tr>\n",
       "    <tr>\n",
       "      <th>...</th>\n",
       "      <td>...</td>\n",
       "      <td>...</td>\n",
       "      <td>...</td>\n",
       "      <td>...</td>\n",
       "      <td>...</td>\n",
       "      <td>...</td>\n",
       "      <td>...</td>\n",
       "      <td>...</td>\n",
       "      <td>...</td>\n",
       "    </tr>\n",
       "    <tr>\n",
       "      <th>3893</th>\n",
       "      <td>2021-01-25</td>\n",
       "      <td>3855.36</td>\n",
       "      <td>1.05</td>\n",
       "      <td>0.09</td>\n",
       "      <td>7414942.0</td>\n",
       "      <td>95.72</td>\n",
       "      <td>1.58</td>\n",
       "      <td>6.3</td>\n",
       "      <td>25.85</td>\n",
       "    </tr>\n",
       "    <tr>\n",
       "      <th>3894</th>\n",
       "      <td>2021-01-26</td>\n",
       "      <td>3849.62</td>\n",
       "      <td>1.05</td>\n",
       "      <td>0.09</td>\n",
       "      <td>7414942.0</td>\n",
       "      <td>95.72</td>\n",
       "      <td>1.58</td>\n",
       "      <td>6.3</td>\n",
       "      <td>25.30</td>\n",
       "    </tr>\n",
       "    <tr>\n",
       "      <th>3895</th>\n",
       "      <td>2021-01-27</td>\n",
       "      <td>3750.77</td>\n",
       "      <td>1.04</td>\n",
       "      <td>0.09</td>\n",
       "      <td>7404926.0</td>\n",
       "      <td>95.72</td>\n",
       "      <td>1.58</td>\n",
       "      <td>6.3</td>\n",
       "      <td>33.05</td>\n",
       "    </tr>\n",
       "    <tr>\n",
       "      <th>3896</th>\n",
       "      <td>2021-01-28</td>\n",
       "      <td>3787.38</td>\n",
       "      <td>1.07</td>\n",
       "      <td>0.09</td>\n",
       "      <td>7404926.0</td>\n",
       "      <td>95.72</td>\n",
       "      <td>1.58</td>\n",
       "      <td>6.3</td>\n",
       "      <td>30.49</td>\n",
       "    </tr>\n",
       "    <tr>\n",
       "      <th>3897</th>\n",
       "      <td>2021-01-29</td>\n",
       "      <td>3714.24</td>\n",
       "      <td>1.11</td>\n",
       "      <td>0.09</td>\n",
       "      <td>7404926.0</td>\n",
       "      <td>95.72</td>\n",
       "      <td>1.58</td>\n",
       "      <td>6.3</td>\n",
       "      <td>32.85</td>\n",
       "    </tr>\n",
       "  </tbody>\n",
       "</table>\n",
       "<p>3898 rows × 9 columns</p>\n",
       "</div>"
      ],
      "text/plain": [
       "             ds        y   tby   ffr        fta    eps   div  une     vix\n",
       "0    2005-06-20  1216.10  4.11  3.04   812235.0  84.81  1.76  5.0  148.30\n",
       "1    2005-06-21  1213.61  4.06  3.04   812235.0  84.81  1.76  5.0  149.00\n",
       "2    2005-06-22  1213.88  3.95  3.04   811179.0  84.81  1.76  5.0  148.40\n",
       "3    2005-06-23  1200.73  3.96  3.04   811179.0  84.81  1.76  5.0  150.50\n",
       "4    2005-06-24  1191.57  3.92  3.04   811179.0  84.81  1.76  5.0  152.00\n",
       "...         ...      ...   ...   ...        ...    ...   ...  ...     ...\n",
       "3893 2021-01-25  3855.36  1.05  0.09  7414942.0  95.72  1.58  6.3   25.85\n",
       "3894 2021-01-26  3849.62  1.05  0.09  7414942.0  95.72  1.58  6.3   25.30\n",
       "3895 2021-01-27  3750.77  1.04  0.09  7404926.0  95.72  1.58  6.3   33.05\n",
       "3896 2021-01-28  3787.38  1.07  0.09  7404926.0  95.72  1.58  6.3   30.49\n",
       "3897 2021-01-29  3714.24  1.11  0.09  7404926.0  95.72  1.58  6.3   32.85\n",
       "\n",
       "[3898 rows x 9 columns]"
      ]
     },
     "execution_count": 2,
     "metadata": {},
     "output_type": "execute_result"
    }
   ],
   "source": [
    "df= pd.read_csv('df7.csv', parse_dates=['Date'])\n",
    "df = df.rename(columns = {\"Date\":\"ds\",\"Close\":\"y\"}) \n",
    "df \n",
    "# len(df)"
   ]
  },
  {
   "cell_type": "code",
   "execution_count": 3,
   "id": "19d080fd",
   "metadata": {},
   "outputs": [],
   "source": [
    "df['div_une_vix'] = df['div'] * df['une'] * df['vix']\n",
    "\n",
    "df = df.drop(columns=['ffr','div','une','vix'])"
   ]
  },
  {
   "cell_type": "code",
   "execution_count": 4,
   "id": "123c1d6b",
   "metadata": {},
   "outputs": [
    {
     "data": {
      "text/html": [
       "<div>\n",
       "<style scoped>\n",
       "    .dataframe tbody tr th:only-of-type {\n",
       "        vertical-align: middle;\n",
       "    }\n",
       "\n",
       "    .dataframe tbody tr th {\n",
       "        vertical-align: top;\n",
       "    }\n",
       "\n",
       "    .dataframe thead th {\n",
       "        text-align: right;\n",
       "    }\n",
       "</style>\n",
       "<table border=\"1\" class=\"dataframe\">\n",
       "  <thead>\n",
       "    <tr style=\"text-align: right;\">\n",
       "      <th></th>\n",
       "      <th>ds</th>\n",
       "      <th>y</th>\n",
       "      <th>tby</th>\n",
       "      <th>fta</th>\n",
       "      <th>eps</th>\n",
       "      <th>div_une_vix</th>\n",
       "    </tr>\n",
       "  </thead>\n",
       "  <tbody>\n",
       "    <tr>\n",
       "      <th>0</th>\n",
       "      <td>2005-06-20</td>\n",
       "      <td>1216.10</td>\n",
       "      <td>4.11</td>\n",
       "      <td>812235.0</td>\n",
       "      <td>84.81</td>\n",
       "      <td>1305.04000</td>\n",
       "    </tr>\n",
       "    <tr>\n",
       "      <th>1</th>\n",
       "      <td>2005-06-21</td>\n",
       "      <td>1213.61</td>\n",
       "      <td>4.06</td>\n",
       "      <td>812235.0</td>\n",
       "      <td>84.81</td>\n",
       "      <td>1311.20000</td>\n",
       "    </tr>\n",
       "    <tr>\n",
       "      <th>2</th>\n",
       "      <td>2005-06-22</td>\n",
       "      <td>1213.88</td>\n",
       "      <td>3.95</td>\n",
       "      <td>811179.0</td>\n",
       "      <td>84.81</td>\n",
       "      <td>1305.92000</td>\n",
       "    </tr>\n",
       "    <tr>\n",
       "      <th>3</th>\n",
       "      <td>2005-06-23</td>\n",
       "      <td>1200.73</td>\n",
       "      <td>3.96</td>\n",
       "      <td>811179.0</td>\n",
       "      <td>84.81</td>\n",
       "      <td>1324.40000</td>\n",
       "    </tr>\n",
       "    <tr>\n",
       "      <th>4</th>\n",
       "      <td>2005-06-24</td>\n",
       "      <td>1191.57</td>\n",
       "      <td>3.92</td>\n",
       "      <td>811179.0</td>\n",
       "      <td>84.81</td>\n",
       "      <td>1337.60000</td>\n",
       "    </tr>\n",
       "    <tr>\n",
       "      <th>...</th>\n",
       "      <td>...</td>\n",
       "      <td>...</td>\n",
       "      <td>...</td>\n",
       "      <td>...</td>\n",
       "      <td>...</td>\n",
       "      <td>...</td>\n",
       "    </tr>\n",
       "    <tr>\n",
       "      <th>3893</th>\n",
       "      <td>2021-01-25</td>\n",
       "      <td>3855.36</td>\n",
       "      <td>1.05</td>\n",
       "      <td>7414942.0</td>\n",
       "      <td>95.72</td>\n",
       "      <td>257.31090</td>\n",
       "    </tr>\n",
       "    <tr>\n",
       "      <th>3894</th>\n",
       "      <td>2021-01-26</td>\n",
       "      <td>3849.62</td>\n",
       "      <td>1.05</td>\n",
       "      <td>7414942.0</td>\n",
       "      <td>95.72</td>\n",
       "      <td>251.83620</td>\n",
       "    </tr>\n",
       "    <tr>\n",
       "      <th>3895</th>\n",
       "      <td>2021-01-27</td>\n",
       "      <td>3750.77</td>\n",
       "      <td>1.04</td>\n",
       "      <td>7404926.0</td>\n",
       "      <td>95.72</td>\n",
       "      <td>328.97970</td>\n",
       "    </tr>\n",
       "    <tr>\n",
       "      <th>3896</th>\n",
       "      <td>2021-01-28</td>\n",
       "      <td>3787.38</td>\n",
       "      <td>1.07</td>\n",
       "      <td>7404926.0</td>\n",
       "      <td>95.72</td>\n",
       "      <td>303.49746</td>\n",
       "    </tr>\n",
       "    <tr>\n",
       "      <th>3897</th>\n",
       "      <td>2021-01-29</td>\n",
       "      <td>3714.24</td>\n",
       "      <td>1.11</td>\n",
       "      <td>7404926.0</td>\n",
       "      <td>95.72</td>\n",
       "      <td>326.98890</td>\n",
       "    </tr>\n",
       "  </tbody>\n",
       "</table>\n",
       "<p>3898 rows × 6 columns</p>\n",
       "</div>"
      ],
      "text/plain": [
       "             ds        y   tby        fta    eps  div_une_vix\n",
       "0    2005-06-20  1216.10  4.11   812235.0  84.81   1305.04000\n",
       "1    2005-06-21  1213.61  4.06   812235.0  84.81   1311.20000\n",
       "2    2005-06-22  1213.88  3.95   811179.0  84.81   1305.92000\n",
       "3    2005-06-23  1200.73  3.96   811179.0  84.81   1324.40000\n",
       "4    2005-06-24  1191.57  3.92   811179.0  84.81   1337.60000\n",
       "...         ...      ...   ...        ...    ...          ...\n",
       "3893 2021-01-25  3855.36  1.05  7414942.0  95.72    257.31090\n",
       "3894 2021-01-26  3849.62  1.05  7414942.0  95.72    251.83620\n",
       "3895 2021-01-27  3750.77  1.04  7404926.0  95.72    328.97970\n",
       "3896 2021-01-28  3787.38  1.07  7404926.0  95.72    303.49746\n",
       "3897 2021-01-29  3714.24  1.11  7404926.0  95.72    326.98890\n",
       "\n",
       "[3898 rows x 6 columns]"
      ]
     },
     "execution_count": 4,
     "metadata": {},
     "output_type": "execute_result"
    }
   ],
   "source": [
    "df"
   ]
  },
  {
   "cell_type": "code",
   "execution_count": 5,
   "id": "e6eac8ac",
   "metadata": {},
   "outputs": [
    {
     "name": "stdout",
     "output_type": "stream",
     "text": [
      "             ds        y   tby        fta     eps  div_une_vix\n",
      "0    2005-06-20  1216.10  4.11   812235.0   84.81    1305.0400\n",
      "1    2005-06-21  1213.61  4.06   812235.0   84.81    1311.2000\n",
      "2    2005-06-22  1213.88  3.95   811179.0   84.81    1305.9200\n",
      "3    2005-06-23  1200.73  3.96   811179.0   84.81    1324.4000\n",
      "4    2005-06-24  1191.57  3.92   811179.0   84.81    1337.6000\n",
      "...         ...      ...   ...        ...     ...          ...\n",
      "3495 2019-06-20  2954.18  2.01  3844016.0  139.61     113.0220\n",
      "3496 2019-06-21  2950.46  2.07  3844016.0  139.61     116.1810\n",
      "3497 2019-06-24  2945.35  2.02  3844016.0  139.61     114.3558\n",
      "3498 2019-06-25  2917.38  2.00  3844016.0  139.61     117.1638\n",
      "3499 2019-06-26  2913.78  2.05  3826817.0  139.61     116.1810\n",
      "\n",
      "[3500 rows x 6 columns]              ds        y   tby        fta     eps  div_une_vix\n",
      "3500 2019-06-27  2924.92  2.01  3826817.0  139.61    113.02200\n",
      "3501 2019-06-28  2941.76  2.00  3826817.0  139.61    110.21400\n",
      "3502 2019-07-01  2964.33  2.03  3826817.0  139.88    104.27112\n",
      "3503 2019-07-02  2973.01  1.98  3826817.0  139.88     99.52200\n",
      "3504 2019-07-03  2995.82  1.96  3813198.0  139.88     97.77600\n",
      "...         ...      ...   ...        ...     ...          ...\n",
      "3893 2021-01-25  3855.36  1.05  7414942.0   95.72    257.31090\n",
      "3894 2021-01-26  3849.62  1.05  7414942.0   95.72    251.83620\n",
      "3895 2021-01-27  3750.77  1.04  7404926.0   95.72    328.97970\n",
      "3896 2021-01-28  3787.38  1.07  7404926.0   95.72    303.49746\n",
      "3897 2021-01-29  3714.24  1.11  7404926.0   95.72    326.98890\n",
      "\n",
      "[398 rows x 6 columns]\n"
     ]
    }
   ],
   "source": [
    "from datetime import datetime\n",
    "p = 0.9\n",
    "# Train around 90% of dataset \n",
    "cutoff = int((p*len(df)//100)*100)\n",
    "df_train = df[:cutoff].copy()\n",
    "df_test = df.drop(df_train.index).copy()\n",
    "\n",
    "print(df_train, df_test)"
   ]
  },
  {
   "cell_type": "code",
   "execution_count": 15,
   "id": "8821ce30",
   "metadata": {},
   "outputs": [],
   "source": [
    "pred_size = int((1-p)* len(df))\n"
   ]
  },
  {
   "cell_type": "markdown",
   "id": "dc062f21",
   "metadata": {},
   "source": [
    " Use prophet() to make predictions, we will split training as train_1 and train_2 with ratio 40% vs 60%, \n",
    " train_1 will be used to fit prophet(), then predict on train_2.  Getting the predictions, feed the data into\n",
    " the Scenario 2 model, train again to get the parameters a,b,c,...."
   ]
  },
  {
   "cell_type": "code",
   "execution_count": null,
   "id": "8ad75771",
   "metadata": {},
   "outputs": [],
   "source": []
  },
  {
   "cell_type": "code",
   "execution_count": 6,
   "id": "9063542f",
   "metadata": {},
   "outputs": [],
   "source": [
    "# #prophet part \n",
    "from fbprophet import Prophet\n",
    "pred_size = int((1-p)* len(df))\n",
    "fbp = Prophet(daily_seasonality=True)\n",
    "# fit close price using fbprophet model\n",
    "fbp.fit(tmp_train[['ds','y']])\n",
    "    \n",
    " # predict pred_size futures and get the forecast price \n",
    "fut = fbp.make_future_dataframe(periods = pred_size,)\n",
    "forecast = fbp.predict(fut) \n",
    "     "
   ]
  },
  {
   "cell_type": "code",
   "execution_count": 7,
   "id": "84b46689",
   "metadata": {},
   "outputs": [],
   "source": [
    "# forecast"
   ]
  },
  {
   "cell_type": "code",
   "execution_count": 8,
   "id": "e5ab7001",
   "metadata": {
    "scrolled": true
   },
   "outputs": [
    {
     "data": {
      "text/plain": [
       "Index(['ds', 'y', 'tby', 'fta', 'eps', 'div_une_vix'], dtype='object')"
      ]
     },
     "execution_count": 8,
     "metadata": {},
     "output_type": "execute_result"
    }
   ],
   "source": [
    "df.columns"
   ]
  },
  {
   "cell_type": "code",
   "execution_count": 9,
   "id": "98382dec",
   "metadata": {},
   "outputs": [],
   "source": [
    "possible_features = ['tby', 'fta', 'eps', 'div_une_vix']"
   ]
  },
  {
   "cell_type": "code",
   "execution_count": 10,
   "id": "3fcbe6bb",
   "metadata": {},
   "outputs": [],
   "source": [
    "# def powerset_no_empty(s):\n",
    "#     power_set = []\n",
    "#     x = len(s)\n",
    "#     for i in range(1 << x):\n",
    "#         power_set.append([s[j] for j in range(x) if (i & (1 << j))])\n",
    "            \n",
    "#     return power_set[1:]\n",
    "\n",
    "# possible_features = powerset_no_empty(['tby', 'ffr', 'fta', 'eps', 'div'])"
   ]
  },
  {
   "cell_type": "code",
   "execution_count": 11,
   "id": "cf31b3ec",
   "metadata": {},
   "outputs": [],
   "source": [
    "# print(len(possible_features))\n",
    "# possible_features"
   ]
  },
  {
   "cell_type": "code",
   "execution_count": null,
   "id": "2d772ae2",
   "metadata": {},
   "outputs": [],
   "source": []
  },
  {
   "cell_type": "code",
   "execution_count": null,
   "id": "552e24d1",
   "metadata": {},
   "outputs": [],
   "source": []
  },
  {
   "cell_type": "code",
   "execution_count": null,
   "id": "0da2c1b2",
   "metadata": {},
   "outputs": [],
   "source": []
  },
  {
   "cell_type": "code",
   "execution_count": 12,
   "id": "1846eae8",
   "metadata": {},
   "outputs": [
    {
     "data": {
      "text/plain": [
       "LinearRegression(copy_X=True, fit_intercept=False, n_jobs=None, normalize=True)"
      ]
     },
     "execution_count": 12,
     "metadata": {},
     "output_type": "execute_result"
    }
   ],
   "source": [
    "from sklearn.linear_model import LinearRegression\n",
    "reg = LinearRegression(fit_intercept=False, normalize=True, copy_X = True)\n",
    "# reg.fit(df_train[possible_features], df_train['y'] - forecast[:cutoff].yhat)\n",
    "reg.fit(df_train[possible_features], df_train['y'] )"
   ]
  },
  {
   "cell_type": "code",
   "execution_count": 13,
   "id": "3e486f69",
   "metadata": {},
   "outputs": [
    {
     "name": "stdout",
     "output_type": "stream",
     "text": [
      "[144.0898, 0.00025, 6.85184, -0.31859]\n"
     ]
    }
   ],
   "source": [
    "coef = []\n",
    "for i in range(len(possible_features)):\n",
    "    coef.append(np.round(reg.coef_[i],5))\n",
    "\n",
    "print(coef)"
   ]
  },
  {
   "cell_type": "code",
   "execution_count": null,
   "id": "50197371",
   "metadata": {},
   "outputs": [],
   "source": []
  },
  {
   "cell_type": "code",
   "execution_count": null,
   "id": "9dd6d0e6",
   "metadata": {},
   "outputs": [],
   "source": []
  },
  {
   "cell_type": "code",
   "execution_count": 16,
   "id": "efc3e090",
   "metadata": {},
   "outputs": [],
   "source": [
    "pp_test = 0\n",
    "pp_train = 0\n",
    "for i in range(len(possible_features)):\n",
    "    pp_test += coef[i] * df_test[df_test.columns[i+2]][:pred_size].ravel()\n",
    "    pp_train += coef[i] * df_train[df_train.columns[i+2]].ravel()\n"
   ]
  },
  {
   "cell_type": "code",
   "execution_count": 24,
   "id": "40645e8f",
   "metadata": {},
   "outputs": [
    {
     "data": {
      "text/plain": [
       "3500    2924.92\n",
       "3501    2941.76\n",
       "3502    2964.33\n",
       "3503    2973.01\n",
       "3504    2995.82\n",
       "         ...   \n",
       "3893    3855.36\n",
       "3894    3849.62\n",
       "3895    3750.77\n",
       "3896    3787.38\n",
       "3897    3714.24\n",
       "Name: y, Length: 398, dtype: float64"
      ]
     },
     "execution_count": 24,
     "metadata": {},
     "output_type": "execute_result"
    }
   ],
   "source": [
    "df_test.y"
   ]
  },
  {
   "cell_type": "code",
   "execution_count": 25,
   "id": "e7ba80a7",
   "metadata": {},
   "outputs": [
    {
     "data": {
      "text/plain": [
       "0      2166.902451\n",
       "1      2166.356154\n",
       "2      2174.422187\n",
       "3      2168.730719\n",
       "4      2163.000431\n",
       "          ...     \n",
       "384    2578.043832\n",
       "385    2580.612541\n",
       "386    2575.703084\n",
       "387    2581.480514\n",
       "388    2571.277179\n",
       "Length: 389, dtype: float64"
      ]
     },
     "execution_count": 25,
     "metadata": {},
     "output_type": "execute_result"
    }
   ],
   "source": [
    "pd.Series(pp_test)"
   ]
  },
  {
   "cell_type": "code",
   "execution_count": 22,
   "id": "7263185d",
   "metadata": {},
   "outputs": [
    {
     "data": {
      "text/plain": [
       "<AxesSubplot:>"
      ]
     },
     "execution_count": 22,
     "metadata": {},
     "output_type": "execute_result"
    },
    {
     "data": {
      "image/png": "[encoded data removed]",
      "text/plain": [
       "<Figure size 432x288 with 1 Axes>"
      ]
     },
     "metadata": {},
     "output_type": "display_data"
    }
   ],
   "source": [
    "pd.Series(pp_test).plot()"
   ]
  },
  {
   "cell_type": "code",
   "execution_count": null,
   "id": "58c49f99",
   "metadata": {},
   "outputs": [],
   "source": []
  },
  {
   "cell_type": "code",
   "execution_count": 20,
   "id": "1d4d3c99",
   "metadata": {},
   "outputs": [
    {
     "name": "stdout",
     "output_type": "stream",
     "text": [
      "827319.5025292088\n"
     ]
    }
   ],
   "source": [
    "from sklearn.metrics import mean_squared_error as MSE\n",
    "# MSE for test data\n",
    "# Actual close price: df_test[:test_time].y \n",
    "# Predicted price by prophet: pred_test\n",
    "# Predicted price by tuning \n",
    "# mse1 = MSE(df_test[:test_time].y,pred_test) #\n",
    "mse2 = MSE(df_test[:pred_size].y, pp_test)\n",
    "print(mse2)"
   ]
  },
  {
   "cell_type": "code",
   "execution_count": 59,
   "id": "0861e788",
   "metadata": {},
   "outputs": [
    {
     "name": "stdout",
     "output_type": "stream",
     "text": [
      "3648.6973797318233 3610.807848846896\n"
     ]
    }
   ],
   "source": [
    "# MSE for train data\n",
    "mse3 =MSE(df_train.y, forecast[:cutoff].yhat)\n",
    "mse4 = MSE(df_train.y, pp_train)\n",
    "print(mse3,mse4)"
   ]
  },
  {
   "cell_type": "code",
   "execution_count": 26,
   "id": "5ab09271",
   "metadata": {},
   "outputs": [],
   "source": [
    "pp_train2 = forecast[start:cutoff].yhat.copy() # predicted price on training data \n",
    "for i in range(len(possible_features)):\n",
    "    pp_train2 += coef[i] * df_train[df_train.columns[i+2]][start:].ravel()"
   ]
  },
  {
   "cell_type": "code",
   "execution_count": 72,
   "id": "283a6073",
   "metadata": {},
   "outputs": [],
   "source": [
    "# start = 1000\n",
    "# 67923.0178358458 61607.97389371774\n",
    "# 19362.380200429267 15682.119546516684\n",
    "# start = 2000\n",
    "# 67923.0178358458 401430.42860662064\n",
    "# 20880.437490361168 12449.74288604253\n"
   ]
  },
  {
   "cell_type": "code",
   "execution_count": 28,
   "id": "753fd4a6",
   "metadata": {},
   "outputs": [],
   "source": [
    "# df_train['pp']=pd.Series(np.append([np.nan for i in range(1000)], pp_train))"
   ]
  },
  {
   "cell_type": "code",
   "execution_count": 37,
   "id": "9e463faa",
   "metadata": {},
   "outputs": [],
   "source": [
    "# plt.figure(figsize=(11,6))\n",
    "# # plt.plot(range(1000,4000),df[1000:4000].fbsp,label='fb predicted price on test_data')\n",
    "# plt.plot(range(1000,4000),df_train[1000:].pp,label=\"fitted values by our model\")\n",
    "# plt.plot(range(1000,4000), df_train[1000:].y   ,label='ture price value')\n",
    "# plt.legend(fontsize=13)\n",
    "\n",
    "# plt.title(\"Fitting on the training data\",fontsize=18)"
   ]
  },
  {
   "cell_type": "code",
   "execution_count": 31,
   "id": "ad8b595c",
   "metadata": {},
   "outputs": [
    {
     "data": {
      "text/plain": [
       "Text(0.5, 1.0, 'Prediction on the testing data')"
      ]
     },
     "execution_count": 31,
     "metadata": {},
     "output_type": "execute_result"
    },
    {
     "data": {
      "image/png": "[encoded data removed]",
      "text/plain": [
       "<Figure size 792x432 with 1 Axes>"
      ]
     },
     "metadata": {},
     "output_type": "display_data"
    }
   ],
   "source": [
    "# plt.figure(figsize=(11,6))\n",
    "# plt.plot(range(0,test_time),pd.Series(pred_test),label='fb predicted price on test_data')\n",
    "\n",
    "# plt.plot(range(0,test_time),pd.Series(pp_test),label='fitted value on test_data')\n",
    "# plt.plot(range(0,test_time),  df_test[:test_time].y,label='true price value on test')\n",
    "\n",
    "# plt.legend(fontsize=13)\n",
    "# plt.title(\"Prediction on the testing data\",fontsize=18)"
   ]
  },
  {
   "cell_type": "code",
   "execution_count": null,
   "id": "a414e00c",
   "metadata": {},
   "outputs": [],
   "source": []
  },
  {
   "cell_type": "code",
   "execution_count": null,
   "id": "10d01e36",
   "metadata": {},
   "outputs": [],
   "source": []
  },
  {
   "cell_type": "code",
   "execution_count": null,
   "id": "b329b80f",
   "metadata": {},
   "outputs": [],
   "source": []
  },
  {
   "cell_type": "code",
   "execution_count": null,
   "id": "36b3727a",
   "metadata": {},
   "outputs": [],
   "source": []
  },
  {
   "cell_type": "code",
   "execution_count": null,
   "id": "b426cef2",
   "metadata": {},
   "outputs": [],
   "source": []
  },
  {
   "cell_type": "code",
   "execution_count": null,
   "id": "62951647",
   "metadata": {},
   "outputs": [],
   "source": []
  },
  {
   "cell_type": "code",
   "execution_count": null,
   "id": "4ae9c264",
   "metadata": {},
   "outputs": [],
   "source": [
    "from sklearn.linear_model import LinearRegression\n",
    "reg = LinearRegression(normalize=True, copy_X = True)\n",
    "\n",
    "def get_X_y(df,features,target):\n",
    "    # Returns X then y\n",
    "    return np.array(df[features]), np.array(df[target])\n",
    "\n",
    "from sklearn.metrics import mean_squared_error as MSE\n",
    "def get_mse(model, X, y):\n",
    "    # get the prediction\n",
    "    pred = model.predict(X)\n",
    "    \n",
    "    # Returns the mse\n",
    "    return MSE(pred,y)\n",
    "\n",
    "\n",
    "X, y = get_X_y(df_train, possible_features, 'diff')\n",
    "clone_reg = clone(reg)\n",
    "clone_reg.fit(X,y)\n",
    "pred_ = clone_reg.\n",
    "\n",
    "\n",
    "mse = get_mse(clone_reg, X, y)\n",
    "\n",
    "\n",
    "\n"
   ]
  },
  {
   "cell_type": "code",
   "execution_count": null,
   "id": "12023165",
   "metadata": {},
   "outputs": [],
   "source": []
  }
 ],
 "metadata": {
  "kernelspec": {
   "display_name": "Python 3",
   "language": "python",
   "name": "python3"
  },
  "language_info": {
   "codemirror_mode": {
    "name": "ipython",
    "version": 3
   },
   "file_extension": ".py",
   "mimetype": "text/x-python",
   "name": "python",
   "nbconvert_exporter": "python",
   "pygments_lexer": "ipython3",
   "version": "3.8.10"
  }
 },
 "nbformat": 4,
 "nbformat_minor": 5
}
