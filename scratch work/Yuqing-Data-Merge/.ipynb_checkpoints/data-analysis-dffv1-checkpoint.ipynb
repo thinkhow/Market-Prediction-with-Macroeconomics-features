{
 "cells": [
  {
   "cell_type": "code",
   "execution_count": 1,
   "id": "705de6b7",
   "metadata": {},
   "outputs": [],
   "source": [
    "##import packages here\n",
    "import pandas as pd\n",
    "import numpy as np\n",
    "\n",
    "# We'll use this later\n",
    "from numpy import meshgrid\n",
    "\n",
    "## For plotting\n",
    "import matplotlib.pyplot as plt\n",
    "import seaborn as sns\n",
    "\n",
    "## This sets the plot style\n",
    "## to have a grid on a white background\n",
    "sns.set_style(\"whitegrid\")"
   ]
  },
  {
   "cell_type": "code",
   "execution_count": 2,
   "id": "68d866c0",
   "metadata": {},
   "outputs": [
    {
     "data": {
      "text/html": [
       "<div>\n",
       "<style scoped>\n",
       "    .dataframe tbody tr th:only-of-type {\n",
       "        vertical-align: middle;\n",
       "    }\n",
       "\n",
       "    .dataframe tbody tr th {\n",
       "        vertical-align: top;\n",
       "    }\n",
       "\n",
       "    .dataframe thead th {\n",
       "        text-align: right;\n",
       "    }\n",
       "</style>\n",
       "<table border=\"1\" class=\"dataframe\">\n",
       "  <thead>\n",
       "    <tr style=\"text-align: right;\">\n",
       "      <th></th>\n",
       "      <th>ds</th>\n",
       "      <th>y</th>\n",
       "      <th>tby</th>\n",
       "      <th>ffr</th>\n",
       "      <th>fta</th>\n",
       "      <th>eps</th>\n",
       "      <th>div</th>\n",
       "      <th>une</th>\n",
       "      <th>fbsp</th>\n",
       "      <th>diff</th>\n",
       "    </tr>\n",
       "  </thead>\n",
       "  <tbody>\n",
       "    <tr>\n",
       "      <th>0</th>\n",
       "      <td>2003-01-02</td>\n",
       "      <td>909.03</td>\n",
       "      <td>4.07</td>\n",
       "      <td>1.24</td>\n",
       "      <td>732202.0</td>\n",
       "      <td>40.40</td>\n",
       "      <td>1.79</td>\n",
       "      <td>5.8</td>\n",
       "      <td>836.294583</td>\n",
       "      <td>72.735417</td>\n",
       "    </tr>\n",
       "    <tr>\n",
       "      <th>1</th>\n",
       "      <td>2003-01-03</td>\n",
       "      <td>908.59</td>\n",
       "      <td>4.05</td>\n",
       "      <td>1.24</td>\n",
       "      <td>732202.0</td>\n",
       "      <td>40.40</td>\n",
       "      <td>1.79</td>\n",
       "      <td>5.8</td>\n",
       "      <td>837.214482</td>\n",
       "      <td>71.375518</td>\n",
       "    </tr>\n",
       "    <tr>\n",
       "      <th>2</th>\n",
       "      <td>2003-01-06</td>\n",
       "      <td>929.01</td>\n",
       "      <td>4.09</td>\n",
       "      <td>1.24</td>\n",
       "      <td>732202.0</td>\n",
       "      <td>40.40</td>\n",
       "      <td>1.79</td>\n",
       "      <td>5.8</td>\n",
       "      <td>840.754210</td>\n",
       "      <td>88.255790</td>\n",
       "    </tr>\n",
       "    <tr>\n",
       "      <th>3</th>\n",
       "      <td>2003-01-07</td>\n",
       "      <td>922.93</td>\n",
       "      <td>4.04</td>\n",
       "      <td>1.24</td>\n",
       "      <td>732202.0</td>\n",
       "      <td>40.40</td>\n",
       "      <td>1.79</td>\n",
       "      <td>5.8</td>\n",
       "      <td>844.239516</td>\n",
       "      <td>78.690484</td>\n",
       "    </tr>\n",
       "    <tr>\n",
       "      <th>4</th>\n",
       "      <td>2003-01-08</td>\n",
       "      <td>909.93</td>\n",
       "      <td>4.00</td>\n",
       "      <td>1.24</td>\n",
       "      <td>724902.0</td>\n",
       "      <td>40.40</td>\n",
       "      <td>1.79</td>\n",
       "      <td>5.8</td>\n",
       "      <td>844.723350</td>\n",
       "      <td>65.206650</td>\n",
       "    </tr>\n",
       "    <tr>\n",
       "      <th>...</th>\n",
       "      <td>...</td>\n",
       "      <td>...</td>\n",
       "      <td>...</td>\n",
       "      <td>...</td>\n",
       "      <td>...</td>\n",
       "      <td>...</td>\n",
       "      <td>...</td>\n",
       "      <td>...</td>\n",
       "      <td>...</td>\n",
       "      <td>...</td>\n",
       "    </tr>\n",
       "    <tr>\n",
       "      <th>4514</th>\n",
       "      <td>2021-01-22</td>\n",
       "      <td>3841.47</td>\n",
       "      <td>1.10</td>\n",
       "      <td>0.09</td>\n",
       "      <td>7414942.0</td>\n",
       "      <td>95.72</td>\n",
       "      <td>1.58</td>\n",
       "      <td>6.3</td>\n",
       "      <td>3260.127942</td>\n",
       "      <td>581.342058</td>\n",
       "    </tr>\n",
       "    <tr>\n",
       "      <th>4515</th>\n",
       "      <td>2021-01-25</td>\n",
       "      <td>3855.36</td>\n",
       "      <td>1.05</td>\n",
       "      <td>0.09</td>\n",
       "      <td>7414942.0</td>\n",
       "      <td>95.72</td>\n",
       "      <td>1.58</td>\n",
       "      <td>6.3</td>\n",
       "      <td>3262.961103</td>\n",
       "      <td>592.398897</td>\n",
       "    </tr>\n",
       "    <tr>\n",
       "      <th>4516</th>\n",
       "      <td>2021-01-26</td>\n",
       "      <td>3849.62</td>\n",
       "      <td>1.05</td>\n",
       "      <td>0.09</td>\n",
       "      <td>7414942.0</td>\n",
       "      <td>95.72</td>\n",
       "      <td>1.58</td>\n",
       "      <td>6.3</td>\n",
       "      <td>3263.084706</td>\n",
       "      <td>586.535294</td>\n",
       "    </tr>\n",
       "    <tr>\n",
       "      <th>4517</th>\n",
       "      <td>2021-01-27</td>\n",
       "      <td>3750.77</td>\n",
       "      <td>1.04</td>\n",
       "      <td>0.09</td>\n",
       "      <td>7404926.0</td>\n",
       "      <td>95.72</td>\n",
       "      <td>1.58</td>\n",
       "      <td>6.3</td>\n",
       "      <td>3264.515037</td>\n",
       "      <td>486.254963</td>\n",
       "    </tr>\n",
       "    <tr>\n",
       "      <th>4518</th>\n",
       "      <td>2021-01-28</td>\n",
       "      <td>3787.38</td>\n",
       "      <td>1.07</td>\n",
       "      <td>0.09</td>\n",
       "      <td>7404926.0</td>\n",
       "      <td>95.72</td>\n",
       "      <td>1.58</td>\n",
       "      <td>6.3</td>\n",
       "      <td>3265.259283</td>\n",
       "      <td>522.120717</td>\n",
       "    </tr>\n",
       "  </tbody>\n",
       "</table>\n",
       "<p>4519 rows × 10 columns</p>\n",
       "</div>"
      ],
      "text/plain": [
       "              ds        y   tby   ffr        fta    eps   div  une  \\\n",
       "0     2003-01-02   909.03  4.07  1.24   732202.0  40.40  1.79  5.8   \n",
       "1     2003-01-03   908.59  4.05  1.24   732202.0  40.40  1.79  5.8   \n",
       "2     2003-01-06   929.01  4.09  1.24   732202.0  40.40  1.79  5.8   \n",
       "3     2003-01-07   922.93  4.04  1.24   732202.0  40.40  1.79  5.8   \n",
       "4     2003-01-08   909.93  4.00  1.24   724902.0  40.40  1.79  5.8   \n",
       "...          ...      ...   ...   ...        ...    ...   ...  ...   \n",
       "4514  2021-01-22  3841.47  1.10  0.09  7414942.0  95.72  1.58  6.3   \n",
       "4515  2021-01-25  3855.36  1.05  0.09  7414942.0  95.72  1.58  6.3   \n",
       "4516  2021-01-26  3849.62  1.05  0.09  7414942.0  95.72  1.58  6.3   \n",
       "4517  2021-01-27  3750.77  1.04  0.09  7404926.0  95.72  1.58  6.3   \n",
       "4518  2021-01-28  3787.38  1.07  0.09  7404926.0  95.72  1.58  6.3   \n",
       "\n",
       "             fbsp        diff  \n",
       "0      836.294583   72.735417  \n",
       "1      837.214482   71.375518  \n",
       "2      840.754210   88.255790  \n",
       "3      844.239516   78.690484  \n",
       "4      844.723350   65.206650  \n",
       "...           ...         ...  \n",
       "4514  3260.127942  581.342058  \n",
       "4515  3262.961103  592.398897  \n",
       "4516  3263.084706  586.535294  \n",
       "4517  3264.515037  486.254963  \n",
       "4518  3265.259283  522.120717  \n",
       "\n",
       "[4519 rows x 10 columns]"
      ]
     },
     "execution_count": 2,
     "metadata": {},
     "output_type": "execute_result"
    }
   ],
   "source": [
    "df = pd.read_csv('dff2.csv')\n",
    "# df = df.rename(columns= {'Close': 'y'})\n",
    "# \n",
    "df"
   ]
  },
  {
   "cell_type": "code",
   "execution_count": 3,
   "id": "be1b323d",
   "metadata": {},
   "outputs": [
    {
     "data": {
      "text/plain": [
       "Index(['ds', 'y', 'tby', 'ffr', 'fta', 'eps', 'div', 'une', 'fbsp', 'diff'], dtype='object')"
      ]
     },
     "execution_count": 3,
     "metadata": {},
     "output_type": "execute_result"
    }
   ],
   "source": [
    "df.columns"
   ]
  },
  {
   "cell_type": "code",
   "execution_count": null,
   "id": "233278c9",
   "metadata": {},
   "outputs": [],
   "source": []
  },
  {
   "cell_type": "code",
   "execution_count": 24,
   "id": "54957d3c",
   "metadata": {},
   "outputs": [
    {
     "data": {
      "text/html": [
       "<div>\n",
       "<style scoped>\n",
       "    .dataframe tbody tr th:only-of-type {\n",
       "        vertical-align: middle;\n",
       "    }\n",
       "\n",
       "    .dataframe tbody tr th {\n",
       "        vertical-align: top;\n",
       "    }\n",
       "\n",
       "    .dataframe thead th {\n",
       "        text-align: right;\n",
       "    }\n",
       "</style>\n",
       "<table border=\"1\" class=\"dataframe\">\n",
       "  <thead>\n",
       "    <tr style=\"text-align: right;\">\n",
       "      <th></th>\n",
       "      <th>diff</th>\n",
       "      <th>tby</th>\n",
       "      <th>ffr</th>\n",
       "      <th>fta</th>\n",
       "      <th>eps</th>\n",
       "      <th>div</th>\n",
       "      <th>une</th>\n",
       "    </tr>\n",
       "  </thead>\n",
       "  <tbody>\n",
       "    <tr>\n",
       "      <th>0</th>\n",
       "      <td>72.735417</td>\n",
       "      <td>4.07</td>\n",
       "      <td>1.24</td>\n",
       "      <td>732202.0</td>\n",
       "      <td>40.40</td>\n",
       "      <td>1.79</td>\n",
       "      <td>5.8</td>\n",
       "    </tr>\n",
       "    <tr>\n",
       "      <th>1</th>\n",
       "      <td>71.375518</td>\n",
       "      <td>4.05</td>\n",
       "      <td>1.24</td>\n",
       "      <td>732202.0</td>\n",
       "      <td>40.40</td>\n",
       "      <td>1.79</td>\n",
       "      <td>5.8</td>\n",
       "    </tr>\n",
       "    <tr>\n",
       "      <th>2</th>\n",
       "      <td>88.255790</td>\n",
       "      <td>4.09</td>\n",
       "      <td>1.24</td>\n",
       "      <td>732202.0</td>\n",
       "      <td>40.40</td>\n",
       "      <td>1.79</td>\n",
       "      <td>5.8</td>\n",
       "    </tr>\n",
       "    <tr>\n",
       "      <th>3</th>\n",
       "      <td>78.690484</td>\n",
       "      <td>4.04</td>\n",
       "      <td>1.24</td>\n",
       "      <td>732202.0</td>\n",
       "      <td>40.40</td>\n",
       "      <td>1.79</td>\n",
       "      <td>5.8</td>\n",
       "    </tr>\n",
       "    <tr>\n",
       "      <th>4</th>\n",
       "      <td>65.206650</td>\n",
       "      <td>4.00</td>\n",
       "      <td>1.24</td>\n",
       "      <td>724902.0</td>\n",
       "      <td>40.40</td>\n",
       "      <td>1.79</td>\n",
       "      <td>5.8</td>\n",
       "    </tr>\n",
       "    <tr>\n",
       "      <th>...</th>\n",
       "      <td>...</td>\n",
       "      <td>...</td>\n",
       "      <td>...</td>\n",
       "      <td>...</td>\n",
       "      <td>...</td>\n",
       "      <td>...</td>\n",
       "      <td>...</td>\n",
       "    </tr>\n",
       "    <tr>\n",
       "      <th>4514</th>\n",
       "      <td>581.342058</td>\n",
       "      <td>1.10</td>\n",
       "      <td>0.09</td>\n",
       "      <td>7414942.0</td>\n",
       "      <td>95.72</td>\n",
       "      <td>1.58</td>\n",
       "      <td>6.3</td>\n",
       "    </tr>\n",
       "    <tr>\n",
       "      <th>4515</th>\n",
       "      <td>592.398897</td>\n",
       "      <td>1.05</td>\n",
       "      <td>0.09</td>\n",
       "      <td>7414942.0</td>\n",
       "      <td>95.72</td>\n",
       "      <td>1.58</td>\n",
       "      <td>6.3</td>\n",
       "    </tr>\n",
       "    <tr>\n",
       "      <th>4516</th>\n",
       "      <td>586.535294</td>\n",
       "      <td>1.05</td>\n",
       "      <td>0.09</td>\n",
       "      <td>7414942.0</td>\n",
       "      <td>95.72</td>\n",
       "      <td>1.58</td>\n",
       "      <td>6.3</td>\n",
       "    </tr>\n",
       "    <tr>\n",
       "      <th>4517</th>\n",
       "      <td>486.254963</td>\n",
       "      <td>1.04</td>\n",
       "      <td>0.09</td>\n",
       "      <td>7404926.0</td>\n",
       "      <td>95.72</td>\n",
       "      <td>1.58</td>\n",
       "      <td>6.3</td>\n",
       "    </tr>\n",
       "    <tr>\n",
       "      <th>4518</th>\n",
       "      <td>522.120717</td>\n",
       "      <td>1.07</td>\n",
       "      <td>0.09</td>\n",
       "      <td>7404926.0</td>\n",
       "      <td>95.72</td>\n",
       "      <td>1.58</td>\n",
       "      <td>6.3</td>\n",
       "    </tr>\n",
       "  </tbody>\n",
       "</table>\n",
       "<p>4519 rows × 7 columns</p>\n",
       "</div>"
      ],
      "text/plain": [
       "            diff   tby   ffr        fta    eps   div  une\n",
       "0      72.735417  4.07  1.24   732202.0  40.40  1.79  5.8\n",
       "1      71.375518  4.05  1.24   732202.0  40.40  1.79  5.8\n",
       "2      88.255790  4.09  1.24   732202.0  40.40  1.79  5.8\n",
       "3      78.690484  4.04  1.24   732202.0  40.40  1.79  5.8\n",
       "4      65.206650  4.00  1.24   724902.0  40.40  1.79  5.8\n",
       "...          ...   ...   ...        ...    ...   ...  ...\n",
       "4514  581.342058  1.10  0.09  7414942.0  95.72  1.58  6.3\n",
       "4515  592.398897  1.05  0.09  7414942.0  95.72  1.58  6.3\n",
       "4516  586.535294  1.05  0.09  7414942.0  95.72  1.58  6.3\n",
       "4517  486.254963  1.04  0.09  7404926.0  95.72  1.58  6.3\n",
       "4518  522.120717  1.07  0.09  7404926.0  95.72  1.58  6.3\n",
       "\n",
       "[4519 rows x 7 columns]"
      ]
     },
     "execution_count": 24,
     "metadata": {},
     "output_type": "execute_result"
    }
   ],
   "source": [
    "ft_df = df[['diff','tby', 'ffr', 'fta', 'eps', 'div', 'une']].copy()\n",
    "ft_df "
   ]
  },
  {
   "cell_type": "code",
   "execution_count": 25,
   "id": "0f681682",
   "metadata": {},
   "outputs": [
    {
     "data": {
      "text/plain": [
       "div    -0.216966\n",
       "une    -0.080704\n",
       "ffr    -0.036037\n",
       "tby    -0.019642\n",
       "eps    -0.013589\n",
       "fta     0.141003\n",
       "diff    1.000000\n",
       "Name: diff, dtype: float64"
      ]
     },
     "execution_count": 25,
     "metadata": {},
     "output_type": "execute_result"
    }
   ],
   "source": [
    "ft_df.corr()['diff'].sort_values()"
   ]
  },
  {
   "cell_type": "code",
   "execution_count": 26,
   "id": "910172b2",
   "metadata": {},
   "outputs": [
    {
     "data": {
      "text/plain": [
       "une    -0.015977\n",
       "fta    -0.009333\n",
       "div    -0.007338\n",
       "eps    -0.003256\n",
       "tby    -0.001825\n",
       "ffr     0.024693\n",
       "diff    1.000000\n",
       "Name: diff, dtype: float64"
      ]
     },
     "execution_count": 26,
     "metadata": {},
     "output_type": "execute_result"
    }
   ],
   "source": [
    "ft_inv_df =1/ ft_df.copy()\n",
    "ft_inv_df.corr()['diff'].sort_values()"
   ]
  },
  {
   "cell_type": "code",
   "execution_count": 27,
   "id": "a5fd979c",
   "metadata": {},
   "outputs": [
    {
     "data": {
      "text/plain": [
       "tby    -0.296961\n",
       "div    -0.097698\n",
       "une    -0.076568\n",
       "ffr    -0.044881\n",
       "eps     0.124733\n",
       "fta     0.278429\n",
       "diff    1.000000\n",
       "Name: diff, dtype: float64"
      ]
     },
     "execution_count": 27,
     "metadata": {},
     "output_type": "execute_result"
    }
   ],
   "source": [
    "ft_log_df = np.log(ft_df).copy()\n",
    "ft_log_df.corr()['diff'].sort_values()"
   ]
  },
  {
   "cell_type": "code",
   "execution_count": 28,
   "id": "f2ba2a78",
   "metadata": {},
   "outputs": [
    {
     "data": {
      "text/plain": [
       "tby    -0.227014\n",
       "ffr    -0.086593\n",
       "div    -0.053744\n",
       "une     0.063720\n",
       "eps     0.154582\n",
       "fta     0.411487\n",
       "diff    1.000000\n",
       "Name: diff, dtype: float64"
      ]
     },
     "execution_count": 28,
     "metadata": {},
     "output_type": "execute_result"
    }
   ],
   "source": [
    "ft_sq_df = (ft_df**2).copy()\n",
    "ft_sq_df.corr()['diff'].sort_values()"
   ]
  },
  {
   "cell_type": "code",
   "execution_count": 34,
   "id": "fe882d85",
   "metadata": {},
   "outputs": [
    {
     "data": {
      "text/plain": [
       "tby    -0.418874\n",
       "div    -0.156975\n",
       "ffr    -0.096158\n",
       "une    -0.086774\n",
       "eps     0.183976\n",
       "fta     0.421295\n",
       "diff    1.000000\n",
       "Name: diff, dtype: float64"
      ]
     },
     "execution_count": 34,
     "metadata": {},
     "output_type": "execute_result"
    }
   ],
   "source": [
    "ft_rt_df = np.power(ft_df,1/2).copy()\n",
    "ft_rt_df.corr()['diff'].sort_values()"
   ]
  },
  {
   "cell_type": "code",
   "execution_count": 37,
   "id": "7aaa2b8e",
   "metadata": {},
   "outputs": [
    {
     "data": {
      "text/plain": [
       "tby    -0.291845\n",
       "div    -0.156114\n",
       "ffr    -0.112518\n",
       "une    -0.041841\n",
       "eps     0.102629\n",
       "fta     0.569779\n",
       "diff    1.000000\n",
       "Name: diff, dtype: float64"
      ]
     },
     "execution_count": 37,
     "metadata": {},
     "output_type": "execute_result"
    }
   ],
   "source": [
    "ft_pol_df = np.power(ft_df,1/2).copy() + np.power(ft_df,2).copy()\n",
    "ft_pol_df.corr()['diff'].sort_values()"
   ]
  },
  {
   "cell_type": "code",
   "execution_count": 52,
   "id": "5a09e96e",
   "metadata": {},
   "outputs": [
    {
     "data": {
      "text/plain": [
       "div_tby   -0.303387\n",
       "tby       -0.291845\n",
       "tby_une   -0.236636\n",
       "div       -0.156114\n",
       "ffr_une   -0.128385\n",
       "div_ffr   -0.113989\n",
       "ffr       -0.112518\n",
       "une       -0.041841\n",
       "eps_une    0.047021\n",
       "eps        0.102629\n",
       "fta        0.569779\n",
       "diff       1.000000\n",
       "Name: diff, dtype: float64"
      ]
     },
     "execution_count": 52,
     "metadata": {},
     "output_type": "execute_result"
    }
   ],
   "source": [
    "ft_pol_df['div_tby'] = ft_pol_df['div'] * ft_pol_df['tby']\n",
    "ft_pol_df['div_ffr'] = ft_pol_df['div'] * ft_pol_df['ffr']\n",
    "ft_pol_df['tby_une'] = ft_pol_df['tby'] * ft_pol_df['une']\n",
    "ft_pol_df['ffr_une'] = ft_pol_df['ffr'] * ft_pol_df['une']\n",
    "ft_pol_df['eps_une'] = ft_pol_df['eps'] * ft_pol_df['une']\n",
    "\n",
    "ft_pol_df.corr()['diff'].sort_values()"
   ]
  },
  {
   "cell_type": "code",
   "execution_count": 30,
   "id": "c1b2a1b2",
   "metadata": {},
   "outputs": [
    {
     "data": {
      "text/plain": [
       "tby    -0.0\n",
       "ffr    -0.0\n",
       "div    -0.0\n",
       "une    -0.0\n",
       "diff    NaN\n",
       "fta     NaN\n",
       "eps     NaN\n",
       "Name: diff, dtype: float64"
      ]
     },
     "execution_count": 30,
     "metadata": {},
     "output_type": "execute_result"
    }
   ],
   "source": [
    "ft_exp_df = np.exp(ft_df).copy()\n",
    "ft_exp_df.corr()['diff'].sort_values()"
   ]
  },
  {
   "cell_type": "code",
   "execution_count": 35,
   "id": "a4a9b330",
   "metadata": {},
   "outputs": [
    {
     "data": {
      "text/html": [
       "<div>\n",
       "<style scoped>\n",
       "    .dataframe tbody tr th:only-of-type {\n",
       "        vertical-align: middle;\n",
       "    }\n",
       "\n",
       "    .dataframe tbody tr th {\n",
       "        vertical-align: top;\n",
       "    }\n",
       "\n",
       "    .dataframe thead th {\n",
       "        text-align: right;\n",
       "    }\n",
       "</style>\n",
       "<table border=\"1\" class=\"dataframe\">\n",
       "  <thead>\n",
       "    <tr style=\"text-align: right;\">\n",
       "      <th></th>\n",
       "      <th>diff</th>\n",
       "      <th>tby</th>\n",
       "      <th>ffr</th>\n",
       "      <th>fta</th>\n",
       "      <th>eps</th>\n",
       "      <th>div</th>\n",
       "      <th>une</th>\n",
       "    </tr>\n",
       "  </thead>\n",
       "  <tbody>\n",
       "    <tr>\n",
       "      <th>0</th>\n",
       "      <td>72.735417</td>\n",
       "      <td>4.07</td>\n",
       "      <td>1.24</td>\n",
       "      <td>732202.0</td>\n",
       "      <td>40.40</td>\n",
       "      <td>1.79</td>\n",
       "      <td>5.8</td>\n",
       "    </tr>\n",
       "    <tr>\n",
       "      <th>1</th>\n",
       "      <td>71.375518</td>\n",
       "      <td>4.05</td>\n",
       "      <td>1.24</td>\n",
       "      <td>732202.0</td>\n",
       "      <td>40.40</td>\n",
       "      <td>1.79</td>\n",
       "      <td>5.8</td>\n",
       "    </tr>\n",
       "    <tr>\n",
       "      <th>2</th>\n",
       "      <td>88.255790</td>\n",
       "      <td>4.09</td>\n",
       "      <td>1.24</td>\n",
       "      <td>732202.0</td>\n",
       "      <td>40.40</td>\n",
       "      <td>1.79</td>\n",
       "      <td>5.8</td>\n",
       "    </tr>\n",
       "    <tr>\n",
       "      <th>3</th>\n",
       "      <td>78.690484</td>\n",
       "      <td>4.04</td>\n",
       "      <td>1.24</td>\n",
       "      <td>732202.0</td>\n",
       "      <td>40.40</td>\n",
       "      <td>1.79</td>\n",
       "      <td>5.8</td>\n",
       "    </tr>\n",
       "    <tr>\n",
       "      <th>4</th>\n",
       "      <td>65.206650</td>\n",
       "      <td>4.00</td>\n",
       "      <td>1.24</td>\n",
       "      <td>724902.0</td>\n",
       "      <td>40.40</td>\n",
       "      <td>1.79</td>\n",
       "      <td>5.8</td>\n",
       "    </tr>\n",
       "    <tr>\n",
       "      <th>...</th>\n",
       "      <td>...</td>\n",
       "      <td>...</td>\n",
       "      <td>...</td>\n",
       "      <td>...</td>\n",
       "      <td>...</td>\n",
       "      <td>...</td>\n",
       "      <td>...</td>\n",
       "    </tr>\n",
       "    <tr>\n",
       "      <th>4514</th>\n",
       "      <td>581.342058</td>\n",
       "      <td>1.10</td>\n",
       "      <td>0.09</td>\n",
       "      <td>7414942.0</td>\n",
       "      <td>95.72</td>\n",
       "      <td>1.58</td>\n",
       "      <td>6.3</td>\n",
       "    </tr>\n",
       "    <tr>\n",
       "      <th>4515</th>\n",
       "      <td>592.398897</td>\n",
       "      <td>1.05</td>\n",
       "      <td>0.09</td>\n",
       "      <td>7414942.0</td>\n",
       "      <td>95.72</td>\n",
       "      <td>1.58</td>\n",
       "      <td>6.3</td>\n",
       "    </tr>\n",
       "    <tr>\n",
       "      <th>4516</th>\n",
       "      <td>586.535294</td>\n",
       "      <td>1.05</td>\n",
       "      <td>0.09</td>\n",
       "      <td>7414942.0</td>\n",
       "      <td>95.72</td>\n",
       "      <td>1.58</td>\n",
       "      <td>6.3</td>\n",
       "    </tr>\n",
       "    <tr>\n",
       "      <th>4517</th>\n",
       "      <td>486.254963</td>\n",
       "      <td>1.04</td>\n",
       "      <td>0.09</td>\n",
       "      <td>7404926.0</td>\n",
       "      <td>95.72</td>\n",
       "      <td>1.58</td>\n",
       "      <td>6.3</td>\n",
       "    </tr>\n",
       "    <tr>\n",
       "      <th>4518</th>\n",
       "      <td>522.120717</td>\n",
       "      <td>1.07</td>\n",
       "      <td>0.09</td>\n",
       "      <td>7404926.0</td>\n",
       "      <td>95.72</td>\n",
       "      <td>1.58</td>\n",
       "      <td>6.3</td>\n",
       "    </tr>\n",
       "  </tbody>\n",
       "</table>\n",
       "<p>4519 rows × 7 columns</p>\n",
       "</div>"
      ],
      "text/plain": [
       "            diff   tby   ffr        fta    eps   div  une\n",
       "0      72.735417  4.07  1.24   732202.0  40.40  1.79  5.8\n",
       "1      71.375518  4.05  1.24   732202.0  40.40  1.79  5.8\n",
       "2      88.255790  4.09  1.24   732202.0  40.40  1.79  5.8\n",
       "3      78.690484  4.04  1.24   732202.0  40.40  1.79  5.8\n",
       "4      65.206650  4.00  1.24   724902.0  40.40  1.79  5.8\n",
       "...          ...   ...   ...        ...    ...   ...  ...\n",
       "4514  581.342058  1.10  0.09  7414942.0  95.72  1.58  6.3\n",
       "4515  592.398897  1.05  0.09  7414942.0  95.72  1.58  6.3\n",
       "4516  586.535294  1.05  0.09  7414942.0  95.72  1.58  6.3\n",
       "4517  486.254963  1.04  0.09  7404926.0  95.72  1.58  6.3\n",
       "4518  522.120717  1.07  0.09  7404926.0  95.72  1.58  6.3\n",
       "\n",
       "[4519 rows x 7 columns]"
      ]
     },
     "execution_count": 35,
     "metadata": {},
     "output_type": "execute_result"
    }
   ],
   "source": [
    "ft_df.column"
   ]
  },
  {
   "cell_type": "code",
   "execution_count": 39,
   "id": "3fa51f20",
   "metadata": {},
   "outputs": [],
   "source": [
    "ft_df2 = ft_df.copy()"
   ]
  },
  {
   "cell_type": "code",
   "execution_count": null,
   "id": "26d35ddc",
   "metadata": {},
   "outputs": [],
   "source": [
    "# div    -0.216966\n",
    "# une    -0.080704\n",
    "# ffr    -0.036037\n",
    "# tby    -0.019642\n",
    "# eps    -0.013589\n",
    "# fta     0.141003\n",
    "# diff    1.000000 "
   ]
  },
  {
   "cell_type": "code",
   "execution_count": null,
   "id": "91297c3e",
   "metadata": {},
   "outputs": [],
   "source": [
    "del(ft_df2['div_une'] )\n",
    "del(ft_df2['div_une_ffr'])"
   ]
  },
  {
   "cell_type": "code",
   "execution_count": 46,
   "id": "cab992fa",
   "metadata": {},
   "outputs": [
    {
     "data": {
      "text/plain": [
       "div                   -0.216966\n",
       "div_une_eps           -0.183025\n",
       "div_une               -0.153575\n",
       "div_une_eps_tby       -0.092177\n",
       "une                   -0.080704\n",
       "div_une_ffr           -0.044643\n",
       "ffr                   -0.036037\n",
       "div_une_eps_tby_ffr   -0.035793\n",
       "eps_tby_ffr           -0.032056\n",
       "une_eps_tby_ffr       -0.030162\n",
       "tby                   -0.019642\n",
       "eps                   -0.013589\n",
       "fta                    0.141003\n",
       "diff                   1.000000\n",
       "Name: diff, dtype: float64"
      ]
     },
     "execution_count": 46,
     "metadata": {},
     "output_type": "execute_result"
    }
   ],
   "source": [
    "ft_df2['div_une'] = ft_df2['div'] * ft_df2['une']\n",
    "ft_df2['div_une_ffr'] = ft_df2['div'] * ft_df2['une'] *  ft_df2['ffr']\n",
    "ft_df2['div_une_eps'] = ft_df2['div'] * ft_df2['une'] *  ft_df2['eps']\n",
    "ft_df2['div_une_eps'] = ft_df2['div'] * ft_df2['une'] *  ft_df2['eps']\n",
    "ft_df2['div_une_eps_tby'] = ft_df2['div'] * ft_df2['une'] *  ft_df2['eps'] * ft_df2['tby']\n",
    "ft_df2['div_une_eps_tby_ffr'] = ft_df2['div'] * ft_df2['une'] *  ft_df2['eps'] * ft_df2['tby']*  ft_df2['ffr']\n",
    "ft_df2['une_eps_tby_ffr'] =  ft_df2['une'] *  ft_df2['eps'] * ft_df2['tby']*  ft_df2['ffr']\n",
    "ft_df2['eps_tby_ffr'] =    ft_df2['eps'] * ft_df2['tby']*  ft_df2['ffr']\n",
    "\n",
    "\n",
    "ft_df2.corr()['diff'].sort_values()"
   ]
  },
  {
   "cell_type": "code",
   "execution_count": null,
   "id": "ff0f275e",
   "metadata": {},
   "outputs": [],
   "source": []
  },
  {
   "cell_type": "code",
   "execution_count": 42,
   "id": "5f7fbb4b",
   "metadata": {},
   "outputs": [],
   "source": [
    "ft_df2['div_une_vix'] = ft_df2['div'] * ft_df2['une'] * ft_df2['vix']"
   ]
  },
  {
   "cell_type": "code",
   "execution_count": 44,
   "id": "d901a840",
   "metadata": {},
   "outputs": [],
   "source": [
    "ft_df2['div_une_vix_ffr'] = ft_df2['div'] * ft_df2['une'] * ft_df2['vix'] * ft_df2['ffr']"
   ]
  },
  {
   "cell_type": "code",
   "execution_count": 45,
   "id": "f8a6d402",
   "metadata": {},
   "outputs": [
    {
     "data": {
      "text/plain": [
       "tby               -0.581425\n",
       "div_une_vix       -0.507652\n",
       "div_une           -0.472108\n",
       "vix_une           -0.446046\n",
       "une               -0.417076\n",
       "vix_div           -0.405701\n",
       "div_sqrt          -0.371257\n",
       "div_log           -0.370707\n",
       "div               -0.370303\n",
       "div_sq            -0.364117\n",
       "div_exp           -0.345269\n",
       "vix               -0.340701\n",
       "div_four          -0.339561\n",
       "div_une_vix_ffr   -0.284945\n",
       "vix_ffr           -0.263629\n",
       "ffr               -0.102474\n",
       "div_inv_tri        0.342884\n",
       "div_inv            0.365361\n",
       "eps                0.674035\n",
       "fta                0.802776\n",
       "y                  1.000000\n",
       "Name: y, dtype: float64"
      ]
     },
     "execution_count": 45,
     "metadata": {},
     "output_type": "execute_result"
    }
   ],
   "source": [
    "ft_df2.corr()['y'].sort_values()"
   ]
  },
  {
   "cell_type": "code",
   "execution_count": null,
   "id": "94c7f0be",
   "metadata": {},
   "outputs": [],
   "source": []
  }
 ],
 "metadata": {
  "kernelspec": {
   "display_name": "Python 3",
   "language": "python",
   "name": "python3"
  },
  "language_info": {
   "codemirror_mode": {
    "name": "ipython",
    "version": 3
   },
   "file_extension": ".py",
   "mimetype": "text/x-python",
   "name": "python",
   "nbconvert_exporter": "python",
   "pygments_lexer": "ipython3",
   "version": "3.8.10"
  }
 },
 "nbformat": 4,
 "nbformat_minor": 5
}
