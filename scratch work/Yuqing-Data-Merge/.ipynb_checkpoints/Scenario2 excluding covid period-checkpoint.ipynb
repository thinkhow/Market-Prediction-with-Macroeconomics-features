{
 "cells": [
  {
   "cell_type": "code",
   "execution_count": 3,
   "id": "ec3b16e9",
   "metadata": {},
   "outputs": [],
   "source": [
    "import pandas as pd\n",
    "import numpy as np\n",
    "\n",
    "## For plotting\n",
    "import matplotlib.pyplot as plt\n",
    "from matplotlib import style\n",
    "import datetime as dt\n",
    "import seaborn as sns\n",
    "sns.set_style(\"whitegrid\")"
   ]
  },
  {
   "cell_type": "code",
   "execution_count": 4,
   "id": "f9bda156",
   "metadata": {},
   "outputs": [],
   "source": [
    "path = '/Users/yuqingdai/Documents/GitHub/Stock-Erdos/Data/dff.csv'"
   ]
  },
  {
   "cell_type": "code",
   "execution_count": 10,
   "id": "9a94dc83",
   "metadata": {},
   "outputs": [],
   "source": [
    "path = '/Users/yuqingdai/Documents/GitHub/Stock-Erdos/Data/dff1.csv'"
   ]
  },
  {
   "cell_type": "code",
   "execution_count": null,
   "id": "e7ccb724",
   "metadata": {},
   "outputs": [],
   "source": []
  },
  {
   "cell_type": "code",
   "execution_count": 11,
   "id": "beb5389e",
   "metadata": {
    "scrolled": true
   },
   "outputs": [],
   "source": [
    "df= pd.read_csv(path, parse_dates=['ds'])\n",
    "# df = df.rename(columns = {\"Date\":\"ds\",\"Close\":\"y\"}) \n",
    "df = df[['ds', 'y','fbsp', 'diff','tby', 'ffr', 'fta', 'eps', 'div', 'une', 'wti', 'ppi',\n",
    "       'rfs']]"
   ]
  },
  {
   "cell_type": "code",
   "execution_count": 12,
   "id": "7c17de22",
   "metadata": {},
   "outputs": [],
   "source": [
    "df['fbsp_tby'] = df['fbsp'] * df['tby']\n",
    "df['fbsp_ffr'] = df['fbsp'] * df['ffr']\n",
    "df['fbsp_div'] = df['fbsp'] * df['div']\n",
    "df['eps_tby'] = df['eps'] * df['tby']\n",
    "df['eps_ffr'] = df['eps'] * df['ffr']\n",
    "df['eps_div'] = df['eps'] * df['div']"
   ]
  },
  {
   "cell_type": "code",
   "execution_count": 13,
   "id": "e247640e",
   "metadata": {
    "scrolled": true
   },
   "outputs": [
    {
     "data": {
      "text/html": [
       "<div>\n",
       "<style scoped>\n",
       "    .dataframe tbody tr th:only-of-type {\n",
       "        vertical-align: middle;\n",
       "    }\n",
       "\n",
       "    .dataframe tbody tr th {\n",
       "        vertical-align: top;\n",
       "    }\n",
       "\n",
       "    .dataframe thead th {\n",
       "        text-align: right;\n",
       "    }\n",
       "</style>\n",
       "<table border=\"1\" class=\"dataframe\">\n",
       "  <thead>\n",
       "    <tr style=\"text-align: right;\">\n",
       "      <th></th>\n",
       "      <th>ds</th>\n",
       "      <th>y</th>\n",
       "      <th>fbsp</th>\n",
       "      <th>diff</th>\n",
       "      <th>tby</th>\n",
       "      <th>ffr</th>\n",
       "      <th>fta</th>\n",
       "      <th>eps</th>\n",
       "      <th>div</th>\n",
       "      <th>une</th>\n",
       "      <th>wti</th>\n",
       "      <th>ppi</th>\n",
       "      <th>rfs</th>\n",
       "      <th>fbsp_tby</th>\n",
       "      <th>fbsp_ffr</th>\n",
       "      <th>fbsp_div</th>\n",
       "      <th>eps_tby</th>\n",
       "      <th>eps_ffr</th>\n",
       "      <th>eps_div</th>\n",
       "    </tr>\n",
       "  </thead>\n",
       "  <tbody>\n",
       "    <tr>\n",
       "      <th>0</th>\n",
       "      <td>2009-12-15</td>\n",
       "      <td>1107.93</td>\n",
       "      <td>890.492142</td>\n",
       "      <td>217.437858</td>\n",
       "      <td>3.60</td>\n",
       "      <td>0.12</td>\n",
       "      <td>2186762.0</td>\n",
       "      <td>46.72</td>\n",
       "      <td>2.10</td>\n",
       "      <td>9.9</td>\n",
       "      <td>70.62</td>\n",
       "      <td>178.1</td>\n",
       "      <td>346072.0</td>\n",
       "      <td>3205.771713</td>\n",
       "      <td>106.859057</td>\n",
       "      <td>1870.033499</td>\n",
       "      <td>168.1920</td>\n",
       "      <td>5.6064</td>\n",
       "      <td>98.1120</td>\n",
       "    </tr>\n",
       "    <tr>\n",
       "      <th>1</th>\n",
       "      <td>2009-12-16</td>\n",
       "      <td>1109.18</td>\n",
       "      <td>888.058929</td>\n",
       "      <td>221.121071</td>\n",
       "      <td>3.61</td>\n",
       "      <td>0.12</td>\n",
       "      <td>2236035.0</td>\n",
       "      <td>46.72</td>\n",
       "      <td>2.10</td>\n",
       "      <td>9.9</td>\n",
       "      <td>72.64</td>\n",
       "      <td>178.1</td>\n",
       "      <td>346072.0</td>\n",
       "      <td>3205.892732</td>\n",
       "      <td>106.567071</td>\n",
       "      <td>1864.923750</td>\n",
       "      <td>168.6592</td>\n",
       "      <td>5.6064</td>\n",
       "      <td>98.1120</td>\n",
       "    </tr>\n",
       "    <tr>\n",
       "      <th>2</th>\n",
       "      <td>2009-12-17</td>\n",
       "      <td>1096.08</td>\n",
       "      <td>887.896209</td>\n",
       "      <td>208.183791</td>\n",
       "      <td>3.50</td>\n",
       "      <td>0.12</td>\n",
       "      <td>2236035.0</td>\n",
       "      <td>46.72</td>\n",
       "      <td>2.10</td>\n",
       "      <td>9.9</td>\n",
       "      <td>72.58</td>\n",
       "      <td>178.1</td>\n",
       "      <td>346072.0</td>\n",
       "      <td>3107.636732</td>\n",
       "      <td>106.547545</td>\n",
       "      <td>1864.582039</td>\n",
       "      <td>163.5200</td>\n",
       "      <td>5.6064</td>\n",
       "      <td>98.1120</td>\n",
       "    </tr>\n",
       "    <tr>\n",
       "      <th>3</th>\n",
       "      <td>2009-12-18</td>\n",
       "      <td>1102.47</td>\n",
       "      <td>885.258538</td>\n",
       "      <td>217.211462</td>\n",
       "      <td>3.55</td>\n",
       "      <td>0.12</td>\n",
       "      <td>2236035.0</td>\n",
       "      <td>46.72</td>\n",
       "      <td>2.10</td>\n",
       "      <td>9.9</td>\n",
       "      <td>73.30</td>\n",
       "      <td>178.1</td>\n",
       "      <td>346072.0</td>\n",
       "      <td>3142.667810</td>\n",
       "      <td>106.231025</td>\n",
       "      <td>1859.042930</td>\n",
       "      <td>165.8560</td>\n",
       "      <td>5.6064</td>\n",
       "      <td>98.1120</td>\n",
       "    </tr>\n",
       "    <tr>\n",
       "      <th>4</th>\n",
       "      <td>2009-12-21</td>\n",
       "      <td>1114.05</td>\n",
       "      <td>889.359069</td>\n",
       "      <td>224.690931</td>\n",
       "      <td>3.69</td>\n",
       "      <td>0.12</td>\n",
       "      <td>2236035.0</td>\n",
       "      <td>46.72</td>\n",
       "      <td>2.10</td>\n",
       "      <td>9.9</td>\n",
       "      <td>72.71</td>\n",
       "      <td>178.1</td>\n",
       "      <td>346072.0</td>\n",
       "      <td>3281.734963</td>\n",
       "      <td>106.723088</td>\n",
       "      <td>1867.654044</td>\n",
       "      <td>172.3968</td>\n",
       "      <td>5.6064</td>\n",
       "      <td>98.1120</td>\n",
       "    </tr>\n",
       "    <tr>\n",
       "      <th>...</th>\n",
       "      <td>...</td>\n",
       "      <td>...</td>\n",
       "      <td>...</td>\n",
       "      <td>...</td>\n",
       "      <td>...</td>\n",
       "      <td>...</td>\n",
       "      <td>...</td>\n",
       "      <td>...</td>\n",
       "      <td>...</td>\n",
       "      <td>...</td>\n",
       "      <td>...</td>\n",
       "      <td>...</td>\n",
       "      <td>...</td>\n",
       "      <td>...</td>\n",
       "      <td>...</td>\n",
       "      <td>...</td>\n",
       "      <td>...</td>\n",
       "      <td>...</td>\n",
       "      <td>...</td>\n",
       "    </tr>\n",
       "    <tr>\n",
       "      <th>2547</th>\n",
       "      <td>2020-02-24</td>\n",
       "      <td>3225.89</td>\n",
       "      <td>3075.385803</td>\n",
       "      <td>150.504197</td>\n",
       "      <td>1.38</td>\n",
       "      <td>1.58</td>\n",
       "      <td>4171570.0</td>\n",
       "      <td>135.28</td>\n",
       "      <td>1.79</td>\n",
       "      <td>3.5</td>\n",
       "      <td>51.36</td>\n",
       "      <td>196.7</td>\n",
       "      <td>525810.0</td>\n",
       "      <td>4244.032408</td>\n",
       "      <td>4859.109568</td>\n",
       "      <td>5504.940587</td>\n",
       "      <td>186.6864</td>\n",
       "      <td>213.7424</td>\n",
       "      <td>242.1512</td>\n",
       "    </tr>\n",
       "    <tr>\n",
       "      <th>2548</th>\n",
       "      <td>2020-02-25</td>\n",
       "      <td>3128.21</td>\n",
       "      <td>3085.118778</td>\n",
       "      <td>43.091222</td>\n",
       "      <td>1.33</td>\n",
       "      <td>1.58</td>\n",
       "      <td>4171570.0</td>\n",
       "      <td>135.28</td>\n",
       "      <td>1.79</td>\n",
       "      <td>3.5</td>\n",
       "      <td>49.78</td>\n",
       "      <td>196.7</td>\n",
       "      <td>525810.0</td>\n",
       "      <td>4103.207975</td>\n",
       "      <td>4874.487669</td>\n",
       "      <td>5522.362612</td>\n",
       "      <td>179.9224</td>\n",
       "      <td>213.7424</td>\n",
       "      <td>242.1512</td>\n",
       "    </tr>\n",
       "    <tr>\n",
       "      <th>2549</th>\n",
       "      <td>2020-02-26</td>\n",
       "      <td>3116.39</td>\n",
       "      <td>3086.077178</td>\n",
       "      <td>30.312822</td>\n",
       "      <td>1.33</td>\n",
       "      <td>1.58</td>\n",
       "      <td>4158637.0</td>\n",
       "      <td>135.28</td>\n",
       "      <td>1.79</td>\n",
       "      <td>3.5</td>\n",
       "      <td>48.67</td>\n",
       "      <td>196.7</td>\n",
       "      <td>525810.0</td>\n",
       "      <td>4104.482646</td>\n",
       "      <td>4876.001941</td>\n",
       "      <td>5524.078148</td>\n",
       "      <td>179.9224</td>\n",
       "      <td>213.7424</td>\n",
       "      <td>242.1512</td>\n",
       "    </tr>\n",
       "    <tr>\n",
       "      <th>2550</th>\n",
       "      <td>2020-02-27</td>\n",
       "      <td>2978.76</td>\n",
       "      <td>3077.225606</td>\n",
       "      <td>-98.465606</td>\n",
       "      <td>1.30</td>\n",
       "      <td>1.58</td>\n",
       "      <td>4158637.0</td>\n",
       "      <td>135.28</td>\n",
       "      <td>1.79</td>\n",
       "      <td>3.5</td>\n",
       "      <td>47.17</td>\n",
       "      <td>196.7</td>\n",
       "      <td>525810.0</td>\n",
       "      <td>4000.393287</td>\n",
       "      <td>4862.016457</td>\n",
       "      <td>5508.233834</td>\n",
       "      <td>175.8640</td>\n",
       "      <td>213.7424</td>\n",
       "      <td>242.1512</td>\n",
       "    </tr>\n",
       "    <tr>\n",
       "      <th>2551</th>\n",
       "      <td>2020-02-28</td>\n",
       "      <td>2954.22</td>\n",
       "      <td>3080.101004</td>\n",
       "      <td>-125.881004</td>\n",
       "      <td>1.13</td>\n",
       "      <td>1.58</td>\n",
       "      <td>4158637.0</td>\n",
       "      <td>135.28</td>\n",
       "      <td>1.79</td>\n",
       "      <td>3.5</td>\n",
       "      <td>44.83</td>\n",
       "      <td>196.7</td>\n",
       "      <td>525810.0</td>\n",
       "      <td>3480.514134</td>\n",
       "      <td>4866.559586</td>\n",
       "      <td>5513.380796</td>\n",
       "      <td>152.8664</td>\n",
       "      <td>213.7424</td>\n",
       "      <td>242.1512</td>\n",
       "    </tr>\n",
       "  </tbody>\n",
       "</table>\n",
       "<p>2552 rows × 19 columns</p>\n",
       "</div>"
      ],
      "text/plain": [
       "             ds        y         fbsp        diff   tby   ffr        fta  \\\n",
       "0    2009-12-15  1107.93   890.492142  217.437858  3.60  0.12  2186762.0   \n",
       "1    2009-12-16  1109.18   888.058929  221.121071  3.61  0.12  2236035.0   \n",
       "2    2009-12-17  1096.08   887.896209  208.183791  3.50  0.12  2236035.0   \n",
       "3    2009-12-18  1102.47   885.258538  217.211462  3.55  0.12  2236035.0   \n",
       "4    2009-12-21  1114.05   889.359069  224.690931  3.69  0.12  2236035.0   \n",
       "...         ...      ...          ...         ...   ...   ...        ...   \n",
       "2547 2020-02-24  3225.89  3075.385803  150.504197  1.38  1.58  4171570.0   \n",
       "2548 2020-02-25  3128.21  3085.118778   43.091222  1.33  1.58  4171570.0   \n",
       "2549 2020-02-26  3116.39  3086.077178   30.312822  1.33  1.58  4158637.0   \n",
       "2550 2020-02-27  2978.76  3077.225606  -98.465606  1.30  1.58  4158637.0   \n",
       "2551 2020-02-28  2954.22  3080.101004 -125.881004  1.13  1.58  4158637.0   \n",
       "\n",
       "         eps   div  une    wti    ppi       rfs     fbsp_tby     fbsp_ffr  \\\n",
       "0      46.72  2.10  9.9  70.62  178.1  346072.0  3205.771713   106.859057   \n",
       "1      46.72  2.10  9.9  72.64  178.1  346072.0  3205.892732   106.567071   \n",
       "2      46.72  2.10  9.9  72.58  178.1  346072.0  3107.636732   106.547545   \n",
       "3      46.72  2.10  9.9  73.30  178.1  346072.0  3142.667810   106.231025   \n",
       "4      46.72  2.10  9.9  72.71  178.1  346072.0  3281.734963   106.723088   \n",
       "...      ...   ...  ...    ...    ...       ...          ...          ...   \n",
       "2547  135.28  1.79  3.5  51.36  196.7  525810.0  4244.032408  4859.109568   \n",
       "2548  135.28  1.79  3.5  49.78  196.7  525810.0  4103.207975  4874.487669   \n",
       "2549  135.28  1.79  3.5  48.67  196.7  525810.0  4104.482646  4876.001941   \n",
       "2550  135.28  1.79  3.5  47.17  196.7  525810.0  4000.393287  4862.016457   \n",
       "2551  135.28  1.79  3.5  44.83  196.7  525810.0  3480.514134  4866.559586   \n",
       "\n",
       "         fbsp_div   eps_tby   eps_ffr   eps_div  \n",
       "0     1870.033499  168.1920    5.6064   98.1120  \n",
       "1     1864.923750  168.6592    5.6064   98.1120  \n",
       "2     1864.582039  163.5200    5.6064   98.1120  \n",
       "3     1859.042930  165.8560    5.6064   98.1120  \n",
       "4     1867.654044  172.3968    5.6064   98.1120  \n",
       "...           ...       ...       ...       ...  \n",
       "2547  5504.940587  186.6864  213.7424  242.1512  \n",
       "2548  5522.362612  179.9224  213.7424  242.1512  \n",
       "2549  5524.078148  179.9224  213.7424  242.1512  \n",
       "2550  5508.233834  175.8640  213.7424  242.1512  \n",
       "2551  5513.380796  152.8664  213.7424  242.1512  \n",
       "\n",
       "[2552 rows x 19 columns]"
      ]
     },
     "execution_count": 13,
     "metadata": {},
     "output_type": "execute_result"
    }
   ],
   "source": [
    "df"
   ]
  },
  {
   "cell_type": "code",
   "execution_count": 14,
   "id": "41461525",
   "metadata": {},
   "outputs": [
    {
     "name": "stdout",
     "output_type": "stream",
     "text": [
      "2300\n"
     ]
    }
   ],
   "source": [
    "cutoff = len(df) - 252\n",
    "df_train = df[:cutoff].copy()\n",
    "df_test = df[cutoff:].copy()\n",
    "print(cutoff)"
   ]
  },
  {
   "cell_type": "code",
   "execution_count": 24,
   "id": "6c36aca1",
   "metadata": {},
   "outputs": [
    {
     "data": {
      "text/plain": [
       "Index(['ds', 'y', 'fbsp', 'diff', 'tby', 'ffr', 'fta', 'eps', 'div', 'une',\n",
       "       'wti', 'ppi', 'rfs', 'fbsp_tby', 'fbsp_ffr', 'fbsp_div', 'eps_tby',\n",
       "       'eps_ffr', 'eps_div'],\n",
       "      dtype='object')"
      ]
     },
     "execution_count": 24,
     "metadata": {},
     "output_type": "execute_result"
    }
   ],
   "source": [
    "df_train.columns"
   ]
  },
  {
   "cell_type": "code",
   "execution_count": 44,
   "id": "fc90cf7c",
   "metadata": {},
   "outputs": [],
   "source": [
    "df1_train = df_train[['diff', 'tby', 'ffr', 'fta', 'eps', 'div', 'une', 'wti', 'ppi', 'rfs', 'fbsp_tby', 'fbsp_ffr', 'fbsp_div', 'eps_tby', 'eps_ffr', 'eps_div']]\n"
   ]
  },
  {
   "cell_type": "code",
   "execution_count": 45,
   "id": "98240856",
   "metadata": {},
   "outputs": [
    {
     "data": {
      "text/plain": [
       "16"
      ]
     },
     "execution_count": 45,
     "metadata": {},
     "output_type": "execute_result"
    }
   ],
   "source": [
    "df1_train.shape[1]"
   ]
  },
  {
   "cell_type": "code",
   "execution_count": 46,
   "id": "08bdb943",
   "metadata": {},
   "outputs": [
    {
     "data": {
      "text/plain": [
       "array([[ 1.28936781,  2.05209839, -0.56702224, ..., -1.31745859,\n",
       "        -0.60684393, -3.96079999],\n",
       "       [ 1.31448855,  2.06985061, -0.56702224, ..., -1.31037137,\n",
       "        -0.60684393, -3.96079999],\n",
       "       [ 1.22625203,  1.87457621, -0.56702224, ..., -1.38833084,\n",
       "        -0.60684393, -3.96079999],\n",
       "       ...,\n",
       "       [-1.05350692,  0.36563766,  3.10084252, ...,  1.75985615,\n",
       "         3.39785698,  2.97464468],\n",
       "       [-1.03587335,  0.40114209,  3.10084252, ...,  1.80233702,\n",
       "         3.39785698,  2.97464468],\n",
       "       [-1.11793525,  0.34788544,  3.10084252, ...,  1.73861572,\n",
       "         3.39785698,  2.97464468]])"
      ]
     },
     "execution_count": 46,
     "metadata": {},
     "output_type": "execute_result"
    }
   ],
   "source": [
    "from sklearn import preprocessing\n",
    "X = preprocessing.scale(df1_train)\n",
    "X"
   ]
  },
  {
   "cell_type": "code",
   "execution_count": 49,
   "id": "e13d1d91",
   "metadata": {},
   "outputs": [
    {
     "data": {
      "text/plain": [
       "array([ 1.28936781,  1.31448855,  1.22625203, ..., -1.05350692,\n",
       "       -1.03587335, -1.11793525])"
      ]
     },
     "execution_count": 49,
     "metadata": {},
     "output_type": "execute_result"
    }
   ],
   "source": [
    "X[:,0]"
   ]
  },
  {
   "cell_type": "code",
   "execution_count": 50,
   "id": "ebff0438",
   "metadata": {},
   "outputs": [
    {
     "name": "stdout",
     "output_type": "stream",
     "text": [
      "[ 1.50405129  1.03228322  0.27409454  1.17073571  0.31243092 -0.75747342\n",
      "  0.46988206 -0.39944639  2.10369448 -0.69112943 -2.1804296  -2.38576385\n",
      " -1.14196633  1.41832903 -0.34501927]\n"
     ]
    }
   ],
   "source": [
    "X = preprocessing.scale(df1_train)\n",
    "from statsmodels.regression.linear_model import OLS\n",
    "\n",
    "reg_new = OLS((X[:,0]).copy(),X[:,1:].copy()).fit()\n",
    "print(reg_new.params)"
   ]
  },
  {
   "cell_type": "code",
   "execution_count": 56,
   "id": "4f4c378b",
   "metadata": {},
   "outputs": [
    {
     "data": {
      "text/plain": [
       "15"
      ]
     },
     "execution_count": 56,
     "metadata": {},
     "output_type": "execute_result"
    }
   ],
   "source": [
    "len(reg_new.params)"
   ]
  },
  {
   "cell_type": "code",
   "execution_count": 61,
   "id": "e6a4e378",
   "metadata": {},
   "outputs": [
    {
     "data": {
      "text/plain": [
       "array([ 1.50405129,  1.03228322,  0.27409454,  1.17073571,  0.31243092,\n",
       "       -0.75747342,  0.46988206, -0.39944639,  2.10369448, -0.69112943,\n",
       "       -2.1804296 , -2.38576385, -1.14196633,  1.41832903, -0.34501927])"
      ]
     },
     "execution_count": 61,
     "metadata": {},
     "output_type": "execute_result"
    }
   ],
   "source": [
    "np.array(reg_new.params)\n",
    "                                                  "
   ]
  },
  {
   "cell_type": "code",
   "execution_count": 66,
   "id": "c4ac632f",
   "metadata": {},
   "outputs": [
    {
     "data": {
      "text/plain": [
       "tby         1.504051\n",
       "ffr         1.032283\n",
       "fta         0.274095\n",
       "eps         1.170736\n",
       "div         0.312431\n",
       "une        -0.757473\n",
       "wti         0.469882\n",
       "ppi        -0.399446\n",
       "rfs         2.103694\n",
       "fbsp_tby   -0.691129\n",
       "fbsp_ffr   -2.180430\n",
       "fbsp_div   -2.385764\n",
       "eps_tby    -1.141966\n",
       "eps_ffr     1.418329\n",
       "eps_div    -0.345019\n",
       "dtype: float64"
      ]
     },
     "execution_count": 66,
     "metadata": {},
     "output_type": "execute_result"
    }
   ],
   "source": [
    "pd.Series(reg_new.params, index=['tby', 'ffr', 'fta', 'eps', 'div', 'une',\n",
    "                                                  'wti', 'ppi', 'rfs', 'fbsp_tby', 'fbsp_ffr', 'fbsp_div', 'eps_tby', 'eps_ffr', 'eps_div'] )"
   ]
  },
  {
   "cell_type": "code",
   "execution_count": 73,
   "id": "5be26ca6",
   "metadata": {},
   "outputs": [
    {
     "data": {
      "text/plain": [
       "array([ 1.50405129,  1.03228322,  0.27409454,  1.17073571,  0.31243092,\n",
       "       -0.75747342,  0.46988206, -0.39944639,  2.10369448, -0.69112943,\n",
       "       -2.1804296 , -2.38576385, -1.14196633,  1.41832903, -0.34501927])"
      ]
     },
     "execution_count": 73,
     "metadata": {},
     "output_type": "execute_result"
    }
   ],
   "source": [
    "a = np.array(reg_new.params)\n",
    "a.T"
   ]
  },
  {
   "cell_type": "code",
   "execution_count": null,
   "id": "85b32f8a",
   "metadata": {},
   "outputs": [],
   "source": []
  },
  {
   "cell_type": "code",
   "execution_count": 15,
   "id": "9079a597",
   "metadata": {},
   "outputs": [
    {
     "data": {
      "text/plain": [
       "Index(['ds', 'y', 'fbsp', 'diff', 'tby', 'ffr', 'fta', 'eps', 'div', 'une',\n",
       "       'wti', 'ppi', 'rfs', 'fbsp_tby', 'fbsp_ffr', 'fbsp_div', 'eps_tby',\n",
       "       'eps_ffr', 'eps_div'],\n",
       "      dtype='object')"
      ]
     },
     "execution_count": 15,
     "metadata": {},
     "output_type": "execute_result"
    }
   ],
   "source": [
    "df_train.columns"
   ]
  },
  {
   "cell_type": "code",
   "execution_count": 16,
   "id": "aabdb28e",
   "metadata": {},
   "outputs": [],
   "source": [
    "possible_features = ['tby', 'ffr', 'fta', 'eps', 'div', 'une', 'wti',\n",
    "       'ppi', 'rfs', 'fbsp_tby', 'fbsp_ffr', 'fbsp_div', 'eps_tby',\n",
    "       'eps_ffr', 'eps_div']\n",
    "\n",
    "from itertools import chain, combinations\n",
    "\n",
    "def powerset(iterable):\n",
    "    #\"powerset([1,2,3]) --> () (1,) (2,) (3,) (1,2) (1,3) (2,3) (1,2,3)\"\n",
    "    s = list(iterable)\n",
    "    return chain.from_iterable(combinations(s, r) for r in range(len(s)+1))\n",
    "\n",
    "#print(list(powerset(possible_features)))"
   ]
  },
  {
   "cell_type": "code",
   "execution_count": 17,
   "id": "21b419af",
   "metadata": {},
   "outputs": [
    {
     "data": {
      "text/plain": [
       "15"
      ]
     },
     "execution_count": 17,
     "metadata": {},
     "output_type": "execute_result"
    }
   ],
   "source": [
    "len(possible_features)"
   ]
  },
  {
   "cell_type": "code",
   "execution_count": 130,
   "id": "e12dba1a",
   "metadata": {},
   "outputs": [
    {
     "name": "stdout",
     "output_type": "stream",
     "text": [
      "tby          99.694834\n",
      "ffr         298.736913\n",
      "fta          -0.000051\n",
      "eps          -9.542566\n",
      "div        -575.728680\n",
      "une         -57.231481\n",
      "wti           2.970708\n",
      "ppi          -8.724101\n",
      "rfs           0.008933\n",
      "fbsp_tby     -0.099985\n",
      "fbsp_ffr     -0.269213\n",
      "fbsp_div     -0.276994\n",
      "eps_tby       0.947387\n",
      "eps_ffr       2.839324\n",
      "eps_div       6.401360\n",
      "dtype: float64\n"
     ]
    }
   ],
   "source": [
    "from statsmodels.regression.linear_model import OLS\n",
    "\n",
    "reg_new = OLS((df_train['diff']).copy(),df_train[possible_features].copy()).fit()\n",
    "print(reg_new.params)\n",
    "\n",
    "#from the output, we can see it's consistent with sklearn output"
   ]
  },
  {
   "cell_type": "code",
   "execution_count": 131,
   "id": "45cdc5a5",
   "metadata": {},
   "outputs": [
    {
     "data": {
      "text/plain": [
       "32767"
      ]
     },
     "execution_count": 131,
     "metadata": {},
     "output_type": "execute_result"
    }
   ],
   "source": [
    "new_coef = reg_new.params\n",
    "new_possible_feats = new_coef[abs(new_coef)>0].index\n",
    "\n",
    "power_feats = list(powerset(new_possible_feats))\n",
    "power_feats.remove(())\n",
    "\n",
    "power_feats = [ list(feats) for feats in power_feats]\n",
    "len(power_feats)\n"
   ]
  },
  {
   "cell_type": "code",
   "execution_count": 132,
   "id": "a283418e",
   "metadata": {},
   "outputs": [
    {
     "name": "stdout",
     "output_type": "stream",
     "text": [
      "['tby', 'ffr', 'fta', 'eps', 'div', 'une', 'wti', 'ppi', 'rfs', 'fbsp_tby', 'fbsp_ffr', 'fbsp_div', 'eps_tby', 'eps_ffr', 'eps_div']\n",
      "tby          99.694834\n",
      "ffr         298.736913\n",
      "fta          -0.000051\n",
      "eps          -9.542566\n",
      "div        -575.728680\n",
      "une         -57.231481\n",
      "wti           2.970708\n",
      "ppi          -8.724101\n",
      "rfs           0.008933\n",
      "fbsp_tby     -0.099985\n",
      "fbsp_ffr     -0.269213\n",
      "fbsp_div     -0.276994\n",
      "eps_tby       0.947387\n",
      "eps_ffr       2.839324\n",
      "eps_div       6.401360\n",
      "dtype: float64\n"
     ]
    }
   ],
   "source": [
    "AIC_scores = []\n",
    "parameters = []\n",
    "\n",
    "for feats in power_feats:\n",
    "    tmp_reg = OLS((df_train['diff']).copy(),df_train[feats].copy()).fit()\n",
    "    AIC_scores.append(tmp_reg.aic)\n",
    "    parameters.append(tmp_reg.params)\n",
    "\n",
    "    \n",
    "Min_AIC_index = AIC_scores.index(min(AIC_scores))\n",
    "Min_AIC_feats = power_feats[Min_AIC_index]  \n",
    "Min_AIC_params  = parameters[Min_AIC_index]\n",
    "print(Min_AIC_feats)\n",
    "print(Min_AIC_params)  "
   ]
  },
  {
   "cell_type": "code",
   "execution_count": 133,
   "id": "01e390d3",
   "metadata": {},
   "outputs": [
    {
     "data": {
      "text/plain": [
       "15"
      ]
     },
     "execution_count": 133,
     "metadata": {},
     "output_type": "execute_result"
    }
   ],
   "source": [
    "len(Min_AIC_feats)"
   ]
  },
  {
   "cell_type": "code",
   "execution_count": 134,
   "id": "68ada352",
   "metadata": {},
   "outputs": [],
   "source": [
    "###After selecting the best features, we report the testing error, and make the plot \n",
    "AIC_df_test = df_test[Min_AIC_feats]\n",
    "AIC_pred_test = AIC_df_test.dot(Min_AIC_params)+df_test.fbsp\n",
    "\n",
    "AIC_df_train = df_train[Min_AIC_feats]\n",
    "AIC_pred_train = AIC_df_train.dot(Min_AIC_params)+ df_train.fbsp\n",
    "\n"
   ]
  },
  {
   "cell_type": "code",
   "execution_count": 135,
   "id": "d98dd3de",
   "metadata": {},
   "outputs": [
    {
     "name": "stdout",
     "output_type": "stream",
     "text": [
      "2946.859592765615 18713.809550294423\n",
      "325321.3852008553 98769.80247438993\n"
     ]
    }
   ],
   "source": [
    "from sklearn.metrics import mean_squared_error as MSE\n",
    "\n",
    "mse_train = MSE(df_train.y, AIC_pred_train) \n",
    "mse_test = MSE(df_test.y, AIC_pred_test)\n",
    "\n",
    "\n",
    "#compare with fbprophet()\n",
    "\n",
    "fb_mse_train = MSE(df_train.y, df_train.fbsp) \n",
    "fb_mse_test = MSE(df_test.y, df_test.fbsp)\n",
    "\n",
    "\n",
    "print(mse_train,fb_mse_train)\n",
    "\n",
    "print(mse_test,fb_mse_test)"
   ]
  },
  {
   "cell_type": "code",
   "execution_count": 146,
   "id": "1a15ff46",
   "metadata": {},
   "outputs": [
    {
     "data": {
      "image/png": "[encoded data removed]",
      "text/plain": [
       "<Figure size 1296x720 with 1 Axes>"
      ]
     },
     "metadata": {},
     "output_type": "display_data"
    }
   ],
   "source": [
    "plt.figure(figsize=(18,10))\n",
    "\n",
    "# plot the training data\n",
    "plt.plot(df_train.ds,df_train.y,'b',\n",
    "            label = \"Training Data\")\n",
    "\n",
    "plt.plot(df_train.ds, AIC_pred_train,'r-',\n",
    "            label = \"Improved Fitted Values by Best_AIC\")\n",
    "\n",
    "# # plot the fit\n",
    "plt.plot(df_train.ds, df_train.fbsp,'g-',\n",
    "            label = \"FB Fitted Values\")\n",
    "\n",
    "# # plot the forecast\n",
    "plt.plot(df_test.ds, df_test.fbsp,'g--',\n",
    "            label = \"FB Forecast\")\n",
    "plt.plot(df_test.ds, AIC_pred_test,'r--',\n",
    "            label = \"Improved Forecast by Best_AIC\")\n",
    "plt.plot(df_test.ds,df_test.y,'b--',\n",
    "            label = \"Test Data\")\n",
    "\n",
    "plt.legend(fontsize=14)\n",
    "\n",
    "plt.xlabel(\"Date\", fontsize=16)\n",
    "plt.ylabel(\"SP&500 Close Price\", fontsize=16)\n",
    "\n",
    "plt.show()"
   ]
  },
  {
   "cell_type": "code",
   "execution_count": 136,
   "id": "c5c73b34",
   "metadata": {
    "scrolled": true
   },
   "outputs": [
    {
     "data": {
      "image/png": "[encoded data removed]",
      "text/plain": [
       "<Figure size 936x432 with 1 Axes>"
      ]
     },
     "metadata": {},
     "output_type": "display_data"
    }
   ],
   "source": [
    "plt.figure(figsize=(13,6))\n",
    "plt.plot(df_test.y,label=\"true price\")\n",
    "plt.plot(df_test.fbsp,label=\"fbprophet prediction\")\n",
    "plt.plot(AIC_pred_test,label=\"Prediction by Best_AIC\")\n",
    "plt.legend(fontsize = 14)\n",
    "plt.show()"
   ]
  },
  {
   "cell_type": "code",
   "execution_count": null,
   "id": "b452552b",
   "metadata": {},
   "outputs": [],
   "source": []
  },
  {
   "cell_type": "code",
   "execution_count": null,
   "id": "7b1bb4b7",
   "metadata": {},
   "outputs": [],
   "source": []
  },
  {
   "cell_type": "code",
   "execution_count": null,
   "id": "3faf7e35",
   "metadata": {},
   "outputs": [],
   "source": []
  }
 ],
 "metadata": {
  "kernelspec": {
   "display_name": "Python 3",
   "language": "python",
   "name": "python3"
  },
  "language_info": {
   "codemirror_mode": {
    "name": "ipython",
    "version": 3
   },
   "file_extension": ".py",
   "mimetype": "text/x-python",
   "name": "python",
   "nbconvert_exporter": "python",
   "pygments_lexer": "ipython3",
   "version": "3.8.10"
  }
 },
 "nbformat": 4,
 "nbformat_minor": 5
}
