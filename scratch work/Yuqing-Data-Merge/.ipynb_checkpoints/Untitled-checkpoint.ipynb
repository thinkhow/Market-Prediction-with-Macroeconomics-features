{
 "cells": [
  {
   "cell_type": "markdown",
   "id": "7087a85d",
   "metadata": {},
   "source": [
    "https://medium.com/analytics-vidhya/predicting-stock-prices-using-facebooks-prophet-model-b1716c733ea6#:~:text=Prophet%20is%20a%20procedure%20for,daily%20seasonality%2C%20plus%20holiday%20effects.&text=with%2C%20g(t)%20representing,linear%20model%20for%20trend%20forecasting."
   ]
  },
  {
   "cell_type": "code",
   "execution_count": 31,
   "id": "90fecc39",
   "metadata": {},
   "outputs": [
    {
     "data": {
      "text/html": [
       "<div>\n",
       "<style scoped>\n",
       "    .dataframe tbody tr th:only-of-type {\n",
       "        vertical-align: middle;\n",
       "    }\n",
       "\n",
       "    .dataframe tbody tr th {\n",
       "        vertical-align: top;\n",
       "    }\n",
       "\n",
       "    .dataframe thead th {\n",
       "        text-align: right;\n",
       "    }\n",
       "</style>\n",
       "<table border=\"1\" class=\"dataframe\">\n",
       "  <thead>\n",
       "    <tr style=\"text-align: right;\">\n",
       "      <th></th>\n",
       "      <th>Date</th>\n",
       "      <th>Close</th>\n",
       "      <th>tby</th>\n",
       "      <th>ffr</th>\n",
       "      <th>fta</th>\n",
       "      <th>eps</th>\n",
       "    </tr>\n",
       "  </thead>\n",
       "  <tbody>\n",
       "    <tr>\n",
       "      <th>0</th>\n",
       "      <td>2021-01-29</td>\n",
       "      <td>3714.24</td>\n",
       "      <td>1.11</td>\n",
       "      <td>0.09</td>\n",
       "      <td>7404926.0</td>\n",
       "      <td>95.72</td>\n",
       "    </tr>\n",
       "    <tr>\n",
       "      <th>1</th>\n",
       "      <td>2021-01-28</td>\n",
       "      <td>3787.38</td>\n",
       "      <td>1.07</td>\n",
       "      <td>0.09</td>\n",
       "      <td>7404926.0</td>\n",
       "      <td>95.72</td>\n",
       "    </tr>\n",
       "    <tr>\n",
       "      <th>2</th>\n",
       "      <td>2021-01-27</td>\n",
       "      <td>3750.77</td>\n",
       "      <td>1.04</td>\n",
       "      <td>0.09</td>\n",
       "      <td>7404926.0</td>\n",
       "      <td>95.72</td>\n",
       "    </tr>\n",
       "    <tr>\n",
       "      <th>3</th>\n",
       "      <td>2021-01-26</td>\n",
       "      <td>3849.62</td>\n",
       "      <td>1.05</td>\n",
       "      <td>0.09</td>\n",
       "      <td>7414942.0</td>\n",
       "      <td>95.72</td>\n",
       "    </tr>\n",
       "    <tr>\n",
       "      <th>4</th>\n",
       "      <td>2021-01-25</td>\n",
       "      <td>3855.36</td>\n",
       "      <td>1.05</td>\n",
       "      <td>0.09</td>\n",
       "      <td>7414942.0</td>\n",
       "      <td>95.72</td>\n",
       "    </tr>\n",
       "  </tbody>\n",
       "</table>\n",
       "</div>"
      ],
      "text/plain": [
       "        Date    Close   tby   ffr        fta    eps\n",
       "0 2021-01-29  3714.24  1.11  0.09  7404926.0  95.72\n",
       "1 2021-01-28  3787.38  1.07  0.09  7404926.0  95.72\n",
       "2 2021-01-27  3750.77  1.04  0.09  7404926.0  95.72\n",
       "3 2021-01-26  3849.62  1.05  0.09  7414942.0  95.72\n",
       "4 2021-01-25  3855.36  1.05  0.09  7414942.0  95.72"
      ]
     },
     "execution_count": 31,
     "metadata": {},
     "output_type": "execute_result"
    }
   ],
   "source": [
    "import numpy as np \n",
    "import pandas as pd \n",
    "import matplotlib.pyplot as plt\n",
    "df = pd.read_csv(\"df1.csv\", parse_dates=['Date'])\n",
    "df.head()"
   ]
  },
  {
   "cell_type": "code",
   "execution_count": 32,
   "id": "329bc983",
   "metadata": {},
   "outputs": [
    {
     "data": {
      "text/html": [
       "<div>\n",
       "<style scoped>\n",
       "    .dataframe tbody tr th:only-of-type {\n",
       "        vertical-align: middle;\n",
       "    }\n",
       "\n",
       "    .dataframe tbody tr th {\n",
       "        vertical-align: top;\n",
       "    }\n",
       "\n",
       "    .dataframe thead th {\n",
       "        text-align: right;\n",
       "    }\n",
       "</style>\n",
       "<table border=\"1\" class=\"dataframe\">\n",
       "  <thead>\n",
       "    <tr style=\"text-align: right;\">\n",
       "      <th></th>\n",
       "      <th>ds</th>\n",
       "      <th>y</th>\n",
       "    </tr>\n",
       "  </thead>\n",
       "  <tbody>\n",
       "    <tr>\n",
       "      <th>0</th>\n",
       "      <td>2021-01-29</td>\n",
       "      <td>3714.24</td>\n",
       "    </tr>\n",
       "    <tr>\n",
       "      <th>1</th>\n",
       "      <td>2021-01-28</td>\n",
       "      <td>3787.38</td>\n",
       "    </tr>\n",
       "    <tr>\n",
       "      <th>2</th>\n",
       "      <td>2021-01-27</td>\n",
       "      <td>3750.77</td>\n",
       "    </tr>\n",
       "    <tr>\n",
       "      <th>3</th>\n",
       "      <td>2021-01-26</td>\n",
       "      <td>3849.62</td>\n",
       "    </tr>\n",
       "    <tr>\n",
       "      <th>4</th>\n",
       "      <td>2021-01-25</td>\n",
       "      <td>3855.36</td>\n",
       "    </tr>\n",
       "  </tbody>\n",
       "</table>\n",
       "</div>"
      ],
      "text/plain": [
       "          ds        y\n",
       "0 2021-01-29  3714.24\n",
       "1 2021-01-28  3787.38\n",
       "2 2021-01-27  3750.77\n",
       "3 2021-01-26  3849.62\n",
       "4 2021-01-25  3855.36"
      ]
     },
     "execution_count": 32,
     "metadata": {},
     "output_type": "execute_result"
    }
   ],
   "source": [
    "df = df[[\"Date\",\"Close\"]] \n",
    "# Rename the features: These names are required for the model fitting\n",
    "df = df.rename(columns = {\"Date\":\"ds\",\"Close\":\"y\"}) \n",
    "df.head()"
   ]
  },
  {
   "cell_type": "code",
   "execution_count": 35,
   "id": "ec059874",
   "metadata": {},
   "outputs": [
    {
     "data": {
      "text/html": [
       "<div>\n",
       "<style scoped>\n",
       "    .dataframe tbody tr th:only-of-type {\n",
       "        vertical-align: middle;\n",
       "    }\n",
       "\n",
       "    .dataframe tbody tr th {\n",
       "        vertical-align: top;\n",
       "    }\n",
       "\n",
       "    .dataframe thead th {\n",
       "        text-align: right;\n",
       "    }\n",
       "</style>\n",
       "<table border=\"1\" class=\"dataframe\">\n",
       "  <thead>\n",
       "    <tr style=\"text-align: right;\">\n",
       "      <th></th>\n",
       "      <th>ds</th>\n",
       "      <th>y</th>\n",
       "    </tr>\n",
       "  </thead>\n",
       "  <tbody>\n",
       "    <tr>\n",
       "      <th>270</th>\n",
       "      <td>2019-12-31</td>\n",
       "      <td>3230.78</td>\n",
       "    </tr>\n",
       "    <tr>\n",
       "      <th>271</th>\n",
       "      <td>2019-12-30</td>\n",
       "      <td>3221.29</td>\n",
       "    </tr>\n",
       "    <tr>\n",
       "      <th>272</th>\n",
       "      <td>2019-12-27</td>\n",
       "      <td>3240.02</td>\n",
       "    </tr>\n",
       "    <tr>\n",
       "      <th>273</th>\n",
       "      <td>2019-12-26</td>\n",
       "      <td>3239.91</td>\n",
       "    </tr>\n",
       "    <tr>\n",
       "      <th>274</th>\n",
       "      <td>2019-12-24</td>\n",
       "      <td>3223.38</td>\n",
       "    </tr>\n",
       "    <tr>\n",
       "      <th>...</th>\n",
       "      <td>...</td>\n",
       "      <td>...</td>\n",
       "    </tr>\n",
       "    <tr>\n",
       "      <th>4524</th>\n",
       "      <td>2002-12-24</td>\n",
       "      <td>892.47</td>\n",
       "    </tr>\n",
       "    <tr>\n",
       "      <th>4525</th>\n",
       "      <td>2002-12-23</td>\n",
       "      <td>897.38</td>\n",
       "    </tr>\n",
       "    <tr>\n",
       "      <th>4526</th>\n",
       "      <td>2002-12-20</td>\n",
       "      <td>895.75</td>\n",
       "    </tr>\n",
       "    <tr>\n",
       "      <th>4527</th>\n",
       "      <td>2002-12-19</td>\n",
       "      <td>884.25</td>\n",
       "    </tr>\n",
       "    <tr>\n",
       "      <th>4528</th>\n",
       "      <td>2002-12-18</td>\n",
       "      <td>891.12</td>\n",
       "    </tr>\n",
       "  </tbody>\n",
       "</table>\n",
       "<p>4259 rows × 2 columns</p>\n",
       "</div>"
      ],
      "text/plain": [
       "             ds        y\n",
       "270  2019-12-31  3230.78\n",
       "271  2019-12-30  3221.29\n",
       "272  2019-12-27  3240.02\n",
       "273  2019-12-26  3239.91\n",
       "274  2019-12-24  3223.38\n",
       "...         ...      ...\n",
       "4524 2002-12-24   892.47\n",
       "4525 2002-12-23   897.38\n",
       "4526 2002-12-20   895.75\n",
       "4527 2002-12-19   884.25\n",
       "4528 2002-12-18   891.12\n",
       "\n",
       "[4259 rows x 2 columns]"
      ]
     },
     "execution_count": 35,
     "metadata": {},
     "output_type": "execute_result"
    }
   ],
   "source": [
    "from datetime import datetime\n",
    "df_train = df.loc[df.ds < datetime(2020,1,1),].copy()\n",
    "df_test = df.drop(df_train.index).copy()\n",
    "df_train"
   ]
  },
  {
   "cell_type": "code",
   "execution_count": 52,
   "id": "9c168353",
   "metadata": {},
   "outputs": [
    {
     "data": {
      "text/html": [
       "<div>\n",
       "<style scoped>\n",
       "    .dataframe tbody tr th:only-of-type {\n",
       "        vertical-align: middle;\n",
       "    }\n",
       "\n",
       "    .dataframe tbody tr th {\n",
       "        vertical-align: top;\n",
       "    }\n",
       "\n",
       "    .dataframe thead th {\n",
       "        text-align: right;\n",
       "    }\n",
       "</style>\n",
       "<table border=\"1\" class=\"dataframe\">\n",
       "  <thead>\n",
       "    <tr style=\"text-align: right;\">\n",
       "      <th></th>\n",
       "      <th>ds</th>\n",
       "      <th>y</th>\n",
       "    </tr>\n",
       "  </thead>\n",
       "  <tbody>\n",
       "    <tr>\n",
       "      <th>270</th>\n",
       "      <td>2019-12-31</td>\n",
       "      <td>3230.78</td>\n",
       "    </tr>\n",
       "    <tr>\n",
       "      <th>271</th>\n",
       "      <td>2019-12-30</td>\n",
       "      <td>3221.29</td>\n",
       "    </tr>\n",
       "    <tr>\n",
       "      <th>272</th>\n",
       "      <td>2019-12-27</td>\n",
       "      <td>3240.02</td>\n",
       "    </tr>\n",
       "    <tr>\n",
       "      <th>273</th>\n",
       "      <td>2019-12-26</td>\n",
       "      <td>3239.91</td>\n",
       "    </tr>\n",
       "    <tr>\n",
       "      <th>274</th>\n",
       "      <td>2019-12-24</td>\n",
       "      <td>3223.38</td>\n",
       "    </tr>\n",
       "    <tr>\n",
       "      <th>...</th>\n",
       "      <td>...</td>\n",
       "      <td>...</td>\n",
       "    </tr>\n",
       "    <tr>\n",
       "      <th>4524</th>\n",
       "      <td>2002-12-24</td>\n",
       "      <td>892.47</td>\n",
       "    </tr>\n",
       "    <tr>\n",
       "      <th>4525</th>\n",
       "      <td>2002-12-23</td>\n",
       "      <td>897.38</td>\n",
       "    </tr>\n",
       "    <tr>\n",
       "      <th>4526</th>\n",
       "      <td>2002-12-20</td>\n",
       "      <td>895.75</td>\n",
       "    </tr>\n",
       "    <tr>\n",
       "      <th>4527</th>\n",
       "      <td>2002-12-19</td>\n",
       "      <td>884.25</td>\n",
       "    </tr>\n",
       "    <tr>\n",
       "      <th>4528</th>\n",
       "      <td>2002-12-18</td>\n",
       "      <td>891.12</td>\n",
       "    </tr>\n",
       "  </tbody>\n",
       "</table>\n",
       "<p>4259 rows × 2 columns</p>\n",
       "</div>"
      ],
      "text/plain": [
       "             ds        y\n",
       "270  2019-12-31  3230.78\n",
       "271  2019-12-30  3221.29\n",
       "272  2019-12-27  3240.02\n",
       "273  2019-12-26  3239.91\n",
       "274  2019-12-24  3223.38\n",
       "...         ...      ...\n",
       "4524 2002-12-24   892.47\n",
       "4525 2002-12-23   897.38\n",
       "4526 2002-12-20   895.75\n",
       "4527 2002-12-19   884.25\n",
       "4528 2002-12-18   891.12\n",
       "\n",
       "[4259 rows x 2 columns]"
      ]
     },
     "execution_count": 52,
     "metadata": {},
     "output_type": "execute_result"
    }
   ],
   "source": [
    "df_train"
   ]
  },
  {
   "cell_type": "code",
   "execution_count": 49,
   "id": "5c268ce0",
   "metadata": {},
   "outputs": [],
   "source": [
    "from fbprophet import Prophet\n",
    "fbp = Prophet(daily_seasonality = True) \n",
    "fbp.fit(df_train)\n",
    "# We need to specify the number of days in future\n",
    "# We'll be predicting the full 2021 stock prices\n",
    "fut = fbp.make_future_dataframe(periods=365) \n",
    "forecast = fbp.predict(fut)"
   ]
  },
  {
   "cell_type": "code",
   "execution_count": 61,
   "id": "810ff9aa",
   "metadata": {},
   "outputs": [
    {
     "data": {
      "text/html": [
       "<div>\n",
       "<style scoped>\n",
       "    .dataframe tbody tr th:only-of-type {\n",
       "        vertical-align: middle;\n",
       "    }\n",
       "\n",
       "    .dataframe tbody tr th {\n",
       "        vertical-align: top;\n",
       "    }\n",
       "\n",
       "    .dataframe thead th {\n",
       "        text-align: right;\n",
       "    }\n",
       "</style>\n",
       "<table border=\"1\" class=\"dataframe\">\n",
       "  <thead>\n",
       "    <tr style=\"text-align: right;\">\n",
       "      <th></th>\n",
       "      <th>ds</th>\n",
       "      <th>trend</th>\n",
       "      <th>yhat_lower</th>\n",
       "      <th>yhat_upper</th>\n",
       "      <th>trend_lower</th>\n",
       "      <th>trend_upper</th>\n",
       "      <th>additive_terms</th>\n",
       "      <th>additive_terms_lower</th>\n",
       "      <th>additive_terms_upper</th>\n",
       "      <th>multiplicative_terms</th>\n",
       "      <th>multiplicative_terms_lower</th>\n",
       "      <th>multiplicative_terms_upper</th>\n",
       "      <th>yhat</th>\n",
       "    </tr>\n",
       "  </thead>\n",
       "  <tbody>\n",
       "    <tr>\n",
       "      <th>4619</th>\n",
       "      <td>2020-12-26</td>\n",
       "      <td>3353.850406</td>\n",
       "      <td>3160.179833</td>\n",
       "      <td>3587.237320</td>\n",
       "      <td>3180.883914</td>\n",
       "      <td>3554.507299</td>\n",
       "      <td>0.0</td>\n",
       "      <td>0.0</td>\n",
       "      <td>0.0</td>\n",
       "      <td>0.0</td>\n",
       "      <td>0.0</td>\n",
       "      <td>0.0</td>\n",
       "      <td>3353.850406</td>\n",
       "    </tr>\n",
       "    <tr>\n",
       "      <th>4620</th>\n",
       "      <td>2020-12-27</td>\n",
       "      <td>3354.580716</td>\n",
       "      <td>3166.099807</td>\n",
       "      <td>3576.132911</td>\n",
       "      <td>3180.792374</td>\n",
       "      <td>3555.877467</td>\n",
       "      <td>0.0</td>\n",
       "      <td>0.0</td>\n",
       "      <td>0.0</td>\n",
       "      <td>0.0</td>\n",
       "      <td>0.0</td>\n",
       "      <td>0.0</td>\n",
       "      <td>3354.580716</td>\n",
       "    </tr>\n",
       "    <tr>\n",
       "      <th>4621</th>\n",
       "      <td>2020-12-28</td>\n",
       "      <td>3355.311027</td>\n",
       "      <td>3166.109466</td>\n",
       "      <td>3578.518188</td>\n",
       "      <td>3180.745754</td>\n",
       "      <td>3557.247634</td>\n",
       "      <td>0.0</td>\n",
       "      <td>0.0</td>\n",
       "      <td>0.0</td>\n",
       "      <td>0.0</td>\n",
       "      <td>0.0</td>\n",
       "      <td>0.0</td>\n",
       "      <td>3355.311027</td>\n",
       "    </tr>\n",
       "    <tr>\n",
       "      <th>4622</th>\n",
       "      <td>2020-12-29</td>\n",
       "      <td>3356.041337</td>\n",
       "      <td>3169.963724</td>\n",
       "      <td>3575.530915</td>\n",
       "      <td>3180.699135</td>\n",
       "      <td>3558.617802</td>\n",
       "      <td>0.0</td>\n",
       "      <td>0.0</td>\n",
       "      <td>0.0</td>\n",
       "      <td>0.0</td>\n",
       "      <td>0.0</td>\n",
       "      <td>0.0</td>\n",
       "      <td>3356.041337</td>\n",
       "    </tr>\n",
       "    <tr>\n",
       "      <th>4623</th>\n",
       "      <td>2020-12-30</td>\n",
       "      <td>3356.771647</td>\n",
       "      <td>3170.732017</td>\n",
       "      <td>3564.304020</td>\n",
       "      <td>3180.521320</td>\n",
       "      <td>3559.987970</td>\n",
       "      <td>0.0</td>\n",
       "      <td>0.0</td>\n",
       "      <td>0.0</td>\n",
       "      <td>0.0</td>\n",
       "      <td>0.0</td>\n",
       "      <td>0.0</td>\n",
       "      <td>3356.771647</td>\n",
       "    </tr>\n",
       "  </tbody>\n",
       "</table>\n",
       "</div>"
      ],
      "text/plain": [
       "             ds        trend   yhat_lower   yhat_upper  trend_lower  \\\n",
       "4619 2020-12-26  3353.850406  3160.179833  3587.237320  3180.883914   \n",
       "4620 2020-12-27  3354.580716  3166.099807  3576.132911  3180.792374   \n",
       "4621 2020-12-28  3355.311027  3166.109466  3578.518188  3180.745754   \n",
       "4622 2020-12-29  3356.041337  3169.963724  3575.530915  3180.699135   \n",
       "4623 2020-12-30  3356.771647  3170.732017  3564.304020  3180.521320   \n",
       "\n",
       "      trend_upper  additive_terms  additive_terms_lower  additive_terms_upper  \\\n",
       "4619  3554.507299             0.0                   0.0                   0.0   \n",
       "4620  3555.877467             0.0                   0.0                   0.0   \n",
       "4621  3557.247634             0.0                   0.0                   0.0   \n",
       "4622  3558.617802             0.0                   0.0                   0.0   \n",
       "4623  3559.987970             0.0                   0.0                   0.0   \n",
       "\n",
       "      multiplicative_terms  multiplicative_terms_lower  \\\n",
       "4619                   0.0                         0.0   \n",
       "4620                   0.0                         0.0   \n",
       "4621                   0.0                         0.0   \n",
       "4622                   0.0                         0.0   \n",
       "4623                   0.0                         0.0   \n",
       "\n",
       "      multiplicative_terms_upper         yhat  \n",
       "4619                         0.0  3353.850406  \n",
       "4620                         0.0  3354.580716  \n",
       "4621                         0.0  3355.311027  \n",
       "4622                         0.0  3356.041337  \n",
       "4623                         0.0  3356.771647  "
      ]
     },
     "execution_count": 61,
     "metadata": {},
     "output_type": "execute_result"
    }
   ],
   "source": [
    "forecast.tail()"
   ]
  },
  {
   "cell_type": "code",
   "execution_count": 81,
   "id": "53537308",
   "metadata": {},
   "outputs": [
    {
     "data": {
      "text/plain": [
       "Timestamp('2020-01-02 00:00:00')"
      ]
     },
     "execution_count": 81,
     "metadata": {},
     "output_type": "execute_result"
    }
   ],
   "source": [
    "df_test.ds.iloc[-1]"
   ]
  },
  {
   "cell_type": "code",
   "execution_count": 144,
   "id": "4364c2c1",
   "metadata": {},
   "outputs": [
    {
     "data": {
      "text/plain": [
       "DatetimeIndex(['2020-01-02', '2020-01-03', '2020-01-04', '2020-01-05',\n",
       "               '2020-01-06', '2020-01-07', '2020-01-08', '2020-01-09',\n",
       "               '2020-01-10', '2020-01-11',\n",
       "               ...\n",
       "               '2021-01-20', '2021-01-21', '2021-01-22', '2021-01-23',\n",
       "               '2021-01-24', '2021-01-25', '2021-01-26', '2021-01-27',\n",
       "               '2021-01-28', '2021-01-29'],\n",
       "              dtype='datetime64[ns]', length=394, freq='D')"
      ]
     },
     "execution_count": 144,
     "metadata": {},
     "output_type": "execute_result"
    }
   ],
   "source": [
    "dt = pd.date_range(start=df_test.ds.iloc[-1], end=df.ds.iloc[0], freq=\"D\")\n",
    "dt"
   ]
  },
  {
   "cell_type": "code",
   "execution_count": 145,
   "id": "e3848e7b",
   "metadata": {},
   "outputs": [],
   "source": [
    "weekend = [x for x in dt if x.date().weekday() % 7 == 6 or x.date().weekday() % 7 == 0]\n",
    "# weekend"
   ]
  },
  {
   "cell_type": "code",
   "execution_count": 146,
   "id": "5034950c",
   "metadata": {},
   "outputs": [],
   "source": [
    "for i in range(len(dt)-len(us_holidays) - len(weekend)):\n",
    "    if dt[i] in us_holidays or dt[i] in weekend:\n",
    "        dt=dt.delete(i)\n",
    "        "
   ]
  },
  {
   "cell_type": "code",
   "execution_count": 151,
   "id": "9c886c19",
   "metadata": {},
   "outputs": [
    {
     "data": {
      "text/plain": [
       "0    2021-01-29\n",
       "1    2021-01-28\n",
       "2    2021-01-27\n",
       "3    2021-01-26\n",
       "4    2021-01-25\n",
       "5    2021-01-22\n",
       "6    2021-01-21\n",
       "7    2021-01-20\n",
       "8    2021-01-19\n",
       "9    2021-01-15\n",
       "10   2021-01-14\n",
       "11   2021-01-13\n",
       "12   2021-01-12\n",
       "13   2021-01-11\n",
       "14   2021-01-08\n",
       "15   2021-01-07\n",
       "16   2021-01-06\n",
       "17   2021-01-05\n",
       "18   2021-01-04\n",
       "19   2020-12-31\n",
       "20   2020-12-30\n",
       "21   2020-12-29\n",
       "22   2020-12-28\n",
       "23   2020-12-24\n",
       "24   2020-12-23\n",
       "25   2020-12-22\n",
       "26   2020-12-21\n",
       "27   2020-12-18\n",
       "28   2020-12-17\n",
       "29   2020-12-16\n",
       "30   2020-12-15\n",
       "31   2020-12-14\n",
       "32   2020-12-11\n",
       "33   2020-12-10\n",
       "34   2020-12-09\n",
       "35   2020-12-08\n",
       "36   2020-12-07\n",
       "37   2020-12-04\n",
       "38   2020-12-03\n",
       "39   2020-12-02\n",
       "40   2020-12-01\n",
       "41   2020-11-30\n",
       "42   2020-11-27\n",
       "43   2020-11-25\n",
       "44   2020-11-24\n",
       "45   2020-11-23\n",
       "46   2020-11-20\n",
       "47   2020-11-19\n",
       "48   2020-11-18\n",
       "49   2020-11-17\n",
       "Name: ds, dtype: datetime64[ns]"
      ]
     },
     "execution_count": 151,
     "metadata": {},
     "output_type": "execute_result"
    }
   ],
   "source": [
    "df.ds.head(50)"
   ]
  },
  {
   "cell_type": "code",
   "execution_count": 152,
   "id": "df5d0475",
   "metadata": {},
   "outputs": [
    {
     "data": {
      "text/plain": [
       "DatetimeIndex(['2020-12-11', '2020-12-12', '2020-12-13', '2020-12-14',\n",
       "               '2020-12-15', '2020-12-16', '2020-12-17', '2020-12-18',\n",
       "               '2020-12-19', '2020-12-20', '2020-12-21', '2020-12-22',\n",
       "               '2020-12-23', '2020-12-24', '2020-12-25', '2020-12-26',\n",
       "               '2020-12-27', '2020-12-28', '2020-12-29', '2020-12-30',\n",
       "               '2020-12-31', '2021-01-01', '2021-01-02', '2021-01-03',\n",
       "               '2021-01-04', '2021-01-05', '2021-01-06', '2021-01-07',\n",
       "               '2021-01-08', '2021-01-09', '2021-01-10', '2021-01-11',\n",
       "               '2021-01-12', '2021-01-13', '2021-01-14', '2021-01-15',\n",
       "               '2021-01-16', '2021-01-17', '2021-01-18', '2021-01-19',\n",
       "               '2021-01-20', '2021-01-21', '2021-01-22', '2021-01-23',\n",
       "               '2021-01-24', '2021-01-25', '2021-01-26', '2021-01-27',\n",
       "               '2021-01-28', '2021-01-29'],\n",
       "              dtype='datetime64[ns]', freq=None)"
      ]
     },
     "execution_count": 152,
     "metadata": {},
     "output_type": "execute_result"
    }
   ],
   "source": [
    "dt[-50:]\n"
   ]
  },
  {
   "cell_type": "code",
   "execution_count": 131,
   "id": "59c1a4c0",
   "metadata": {},
   "outputs": [
    {
     "data": {
      "text/plain": [
       "0"
      ]
     },
     "execution_count": 131,
     "metadata": {},
     "output_type": "execute_result"
    }
   ],
   "source": [
    "dt[4].date().weekday() % 7"
   ]
  },
  {
   "cell_type": "code",
   "execution_count": 102,
   "id": "cb904df4",
   "metadata": {},
   "outputs": [
    {
     "data": {
      "text/plain": [
       "DatetimeIndex(['2020-01-03', '2020-01-04', '2020-01-05', '2020-01-06',\n",
       "               '2020-01-07', '2020-01-08', '2020-01-09', '2020-01-10',\n",
       "               '2020-01-11', '2020-01-12',\n",
       "               ...\n",
       "               '2021-01-26', '2021-01-27', '2021-01-28', '2021-01-29',\n",
       "               '2021-01-30', '2021-01-31', '2021-02-01', '2021-02-02',\n",
       "               '2021-02-03', '2021-02-04'],\n",
       "              dtype='datetime64[ns]', length=399, freq='D')"
      ]
     },
     "execution_count": 102,
     "metadata": {},
     "output_type": "execute_result"
    }
   ],
   "source": [
    "dt.delete(0)"
   ]
  },
  {
   "cell_type": "code",
   "execution_count": null,
   "id": "07dd7747",
   "metadata": {},
   "outputs": [],
   "source": []
  },
  {
   "cell_type": "code",
   "execution_count": null,
   "id": "f5eb07d9",
   "metadata": {},
   "outputs": [],
   "source": []
  },
  {
   "cell_type": "code",
   "execution_count": null,
   "id": "ae4f43c7",
   "metadata": {},
   "outputs": [],
   "source": []
  },
  {
   "cell_type": "code",
   "execution_count": 98,
   "id": "3f422c30",
   "metadata": {},
   "outputs": [
    {
     "data": {
      "text/plain": [
       "[Timestamp('2020-01-20 00:00:00', freq='D'),\n",
       " Timestamp('2020-02-17 00:00:00', freq='D'),\n",
       " Timestamp('2020-05-25 00:00:00', freq='D'),\n",
       " Timestamp('2020-07-03 00:00:00', freq='D'),\n",
       " Timestamp('2020-07-04 00:00:00', freq='D'),\n",
       " Timestamp('2020-09-07 00:00:00', freq='D'),\n",
       " Timestamp('2020-10-12 00:00:00', freq='D'),\n",
       " Timestamp('2020-11-11 00:00:00', freq='D'),\n",
       " Timestamp('2020-11-26 00:00:00', freq='D'),\n",
       " Timestamp('2020-12-25 00:00:00', freq='D'),\n",
       " Timestamp('2021-01-01 00:00:00', freq='D'),\n",
       " Timestamp('2021-01-18 00:00:00', freq='D')]"
      ]
     },
     "execution_count": 98,
     "metadata": {},
     "output_type": "execute_result"
    }
   ],
   "source": [
    "holi = [pd.Timestamp(x) for x in dt if x in us_holidays]\n",
    "holi"
   ]
  },
  {
   "cell_type": "code",
   "execution_count": 63,
   "id": "c538f571",
   "metadata": {},
   "outputs": [],
   "source": [
    "from datetime import date\n",
    "\n",
    "import holidays"
   ]
  },
  {
   "cell_type": "code",
   "execution_count": 66,
   "id": "1d1173f6",
   "metadata": {},
   "outputs": [
    {
     "data": {
      "text/plain": [
       "False"
      ]
     },
     "execution_count": 66,
     "metadata": {},
     "output_type": "execute_result"
    }
   ],
   "source": [
    "us_holidays = holidays.UnitedStates()\n",
    "date(2015, 12, 23) in us_holidays "
   ]
  },
  {
   "cell_type": "code",
   "execution_count": 68,
   "id": "ba611780",
   "metadata": {},
   "outputs": [
    {
     "data": {
      "text/plain": [
       "2"
      ]
     },
     "execution_count": 68,
     "metadata": {},
     "output_type": "execute_result"
    }
   ],
   "source": [
    "date(2015, 12, 23).weekday()"
   ]
  },
  {
   "cell_type": "code",
   "execution_count": null,
   "id": "9e75f993",
   "metadata": {},
   "outputs": [],
   "source": []
  },
  {
   "cell_type": "code",
   "execution_count": null,
   "id": "4e43bcdd",
   "metadata": {},
   "outputs": [],
   "source": []
  },
  {
   "cell_type": "code",
   "execution_count": null,
   "id": "9a9b0840",
   "metadata": {},
   "outputs": [],
   "source": []
  },
  {
   "cell_type": "code",
   "execution_count": null,
   "id": "62c51ae1",
   "metadata": {},
   "outputs": [],
   "source": []
  },
  {
   "cell_type": "code",
   "execution_count": null,
   "id": "656526a8",
   "metadata": {},
   "outputs": [],
   "source": []
  },
  {
   "cell_type": "code",
   "execution_count": null,
   "id": "c079970c",
   "metadata": {},
   "outputs": [],
   "source": []
  },
  {
   "cell_type": "code",
   "execution_count": null,
   "id": "1dcad4f9",
   "metadata": {},
   "outputs": [],
   "source": []
  },
  {
   "cell_type": "code",
   "execution_count": 59,
   "id": "9a91c4a4",
   "metadata": {},
   "outputs": [],
   "source": [
    "fbp = Prophet(weekly_seasonality=False,yearly_seasonality=False,daily_seasonality=False)\n",
    "# fbp.add_seasonality('self_define_cycle',period=8,fourier_order=8,mode='additive')\n",
    "\n"
   ]
  },
  {
   "cell_type": "code",
   "execution_count": 60,
   "id": "2379fcc2",
   "metadata": {},
   "outputs": [
    {
     "data": {
      "text/html": [
       "<div>\n",
       "<style scoped>\n",
       "    .dataframe tbody tr th:only-of-type {\n",
       "        vertical-align: middle;\n",
       "    }\n",
       "\n",
       "    .dataframe tbody tr th {\n",
       "        vertical-align: top;\n",
       "    }\n",
       "\n",
       "    .dataframe thead th {\n",
       "        text-align: right;\n",
       "    }\n",
       "</style>\n",
       "<table border=\"1\" class=\"dataframe\">\n",
       "  <thead>\n",
       "    <tr style=\"text-align: right;\">\n",
       "      <th></th>\n",
       "      <th>ds</th>\n",
       "      <th>trend</th>\n",
       "      <th>yhat_lower</th>\n",
       "      <th>yhat_upper</th>\n",
       "      <th>trend_lower</th>\n",
       "      <th>trend_upper</th>\n",
       "      <th>additive_terms</th>\n",
       "      <th>additive_terms_lower</th>\n",
       "      <th>additive_terms_upper</th>\n",
       "      <th>multiplicative_terms</th>\n",
       "      <th>multiplicative_terms_lower</th>\n",
       "      <th>multiplicative_terms_upper</th>\n",
       "      <th>yhat</th>\n",
       "    </tr>\n",
       "  </thead>\n",
       "  <tbody>\n",
       "    <tr>\n",
       "      <th>0</th>\n",
       "      <td>2002-12-18</td>\n",
       "      <td>841.572051</td>\n",
       "      <td>764.073376</td>\n",
       "      <td>917.416632</td>\n",
       "      <td>841.572051</td>\n",
       "      <td>841.572051</td>\n",
       "      <td>0.0</td>\n",
       "      <td>0.0</td>\n",
       "      <td>0.0</td>\n",
       "      <td>0.0</td>\n",
       "      <td>0.0</td>\n",
       "      <td>0.0</td>\n",
       "      <td>841.572051</td>\n",
       "    </tr>\n",
       "    <tr>\n",
       "      <th>1</th>\n",
       "      <td>2002-12-19</td>\n",
       "      <td>842.213803</td>\n",
       "      <td>769.377478</td>\n",
       "      <td>914.009532</td>\n",
       "      <td>842.213803</td>\n",
       "      <td>842.213803</td>\n",
       "      <td>0.0</td>\n",
       "      <td>0.0</td>\n",
       "      <td>0.0</td>\n",
       "      <td>0.0</td>\n",
       "      <td>0.0</td>\n",
       "      <td>0.0</td>\n",
       "      <td>842.213803</td>\n",
       "    </tr>\n",
       "    <tr>\n",
       "      <th>2</th>\n",
       "      <td>2002-12-20</td>\n",
       "      <td>842.855555</td>\n",
       "      <td>763.940134</td>\n",
       "      <td>919.046179</td>\n",
       "      <td>842.855555</td>\n",
       "      <td>842.855555</td>\n",
       "      <td>0.0</td>\n",
       "      <td>0.0</td>\n",
       "      <td>0.0</td>\n",
       "      <td>0.0</td>\n",
       "      <td>0.0</td>\n",
       "      <td>0.0</td>\n",
       "      <td>842.855555</td>\n",
       "    </tr>\n",
       "    <tr>\n",
       "      <th>3</th>\n",
       "      <td>2002-12-23</td>\n",
       "      <td>844.780811</td>\n",
       "      <td>766.735272</td>\n",
       "      <td>914.707062</td>\n",
       "      <td>844.780811</td>\n",
       "      <td>844.780811</td>\n",
       "      <td>0.0</td>\n",
       "      <td>0.0</td>\n",
       "      <td>0.0</td>\n",
       "      <td>0.0</td>\n",
       "      <td>0.0</td>\n",
       "      <td>0.0</td>\n",
       "      <td>844.780811</td>\n",
       "    </tr>\n",
       "    <tr>\n",
       "      <th>4</th>\n",
       "      <td>2002-12-24</td>\n",
       "      <td>845.422563</td>\n",
       "      <td>768.547422</td>\n",
       "      <td>919.699834</td>\n",
       "      <td>845.422563</td>\n",
       "      <td>845.422563</td>\n",
       "      <td>0.0</td>\n",
       "      <td>0.0</td>\n",
       "      <td>0.0</td>\n",
       "      <td>0.0</td>\n",
       "      <td>0.0</td>\n",
       "      <td>0.0</td>\n",
       "      <td>845.422563</td>\n",
       "    </tr>\n",
       "  </tbody>\n",
       "</table>\n",
       "</div>"
      ],
      "text/plain": [
       "          ds       trend  yhat_lower  yhat_upper  trend_lower  trend_upper  \\\n",
       "0 2002-12-18  841.572051  764.073376  917.416632   841.572051   841.572051   \n",
       "1 2002-12-19  842.213803  769.377478  914.009532   842.213803   842.213803   \n",
       "2 2002-12-20  842.855555  763.940134  919.046179   842.855555   842.855555   \n",
       "3 2002-12-23  844.780811  766.735272  914.707062   844.780811   844.780811   \n",
       "4 2002-12-24  845.422563  768.547422  919.699834   845.422563   845.422563   \n",
       "\n",
       "   additive_terms  additive_terms_lower  additive_terms_upper  \\\n",
       "0             0.0                   0.0                   0.0   \n",
       "1             0.0                   0.0                   0.0   \n",
       "2             0.0                   0.0                   0.0   \n",
       "3             0.0                   0.0                   0.0   \n",
       "4             0.0                   0.0                   0.0   \n",
       "\n",
       "   multiplicative_terms  multiplicative_terms_lower  \\\n",
       "0                   0.0                         0.0   \n",
       "1                   0.0                         0.0   \n",
       "2                   0.0                         0.0   \n",
       "3                   0.0                         0.0   \n",
       "4                   0.0                         0.0   \n",
       "\n",
       "   multiplicative_terms_upper        yhat  \n",
       "0                         0.0  841.572051  \n",
       "1                         0.0  842.213803  \n",
       "2                         0.0  842.855555  \n",
       "3                         0.0  844.780811  \n",
       "4                         0.0  845.422563  "
      ]
     },
     "execution_count": 60,
     "metadata": {},
     "output_type": "execute_result"
    }
   ],
   "source": [
    "fbp.fit(df_train)\n",
    "# We need to specify the number of days in future\n",
    "# We'll be predicting the full 2021 stock prices\n",
    "fut = fbp.make_future_dataframe(periods=365) \n",
    "forecast = fbp.predict(fut)\n",
    "forecast.head()"
   ]
  },
  {
   "cell_type": "code",
   "execution_count": 55,
   "id": "43e57a6b",
   "metadata": {},
   "outputs": [
    {
     "data": {
      "text/html": [
       "<div>\n",
       "<style scoped>\n",
       "    .dataframe tbody tr th:only-of-type {\n",
       "        vertical-align: middle;\n",
       "    }\n",
       "\n",
       "    .dataframe tbody tr th {\n",
       "        vertical-align: top;\n",
       "    }\n",
       "\n",
       "    .dataframe thead th {\n",
       "        text-align: right;\n",
       "    }\n",
       "</style>\n",
       "<table border=\"1\" class=\"dataframe\">\n",
       "  <thead>\n",
       "    <tr style=\"text-align: right;\">\n",
       "      <th></th>\n",
       "      <th>ds</th>\n",
       "      <th>trend</th>\n",
       "      <th>yhat_lower</th>\n",
       "      <th>yhat_upper</th>\n",
       "      <th>trend_lower</th>\n",
       "      <th>trend_upper</th>\n",
       "      <th>additive_terms</th>\n",
       "      <th>additive_terms_lower</th>\n",
       "      <th>additive_terms_upper</th>\n",
       "      <th>self_define_cycle</th>\n",
       "      <th>self_define_cycle_lower</th>\n",
       "      <th>self_define_cycle_upper</th>\n",
       "      <th>multiplicative_terms</th>\n",
       "      <th>multiplicative_terms_lower</th>\n",
       "      <th>multiplicative_terms_upper</th>\n",
       "      <th>yhat</th>\n",
       "    </tr>\n",
       "  </thead>\n",
       "  <tbody>\n",
       "    <tr>\n",
       "      <th>0</th>\n",
       "      <td>2002-12-18</td>\n",
       "      <td>861.945543</td>\n",
       "      <td>764.819607</td>\n",
       "      <td>918.786419</td>\n",
       "      <td>861.945543</td>\n",
       "      <td>861.945543</td>\n",
       "      <td>-22.942579</td>\n",
       "      <td>-22.942579</td>\n",
       "      <td>-22.942579</td>\n",
       "      <td>-22.942579</td>\n",
       "      <td>-22.942579</td>\n",
       "      <td>-22.942579</td>\n",
       "      <td>0.0</td>\n",
       "      <td>0.0</td>\n",
       "      <td>0.0</td>\n",
       "      <td>839.002964</td>\n",
       "    </tr>\n",
       "    <tr>\n",
       "      <th>1</th>\n",
       "      <td>2002-12-19</td>\n",
       "      <td>862.601051</td>\n",
       "      <td>765.835709</td>\n",
       "      <td>914.266900</td>\n",
       "      <td>862.601051</td>\n",
       "      <td>862.601051</td>\n",
       "      <td>-22.847909</td>\n",
       "      <td>-22.847909</td>\n",
       "      <td>-22.847909</td>\n",
       "      <td>-22.847909</td>\n",
       "      <td>-22.847909</td>\n",
       "      <td>-22.847909</td>\n",
       "      <td>0.0</td>\n",
       "      <td>0.0</td>\n",
       "      <td>0.0</td>\n",
       "      <td>839.753142</td>\n",
       "    </tr>\n",
       "    <tr>\n",
       "      <th>2</th>\n",
       "      <td>2002-12-20</td>\n",
       "      <td>863.256559</td>\n",
       "      <td>766.906015</td>\n",
       "      <td>920.370258</td>\n",
       "      <td>863.256559</td>\n",
       "      <td>863.256559</td>\n",
       "      <td>-21.202354</td>\n",
       "      <td>-21.202354</td>\n",
       "      <td>-21.202354</td>\n",
       "      <td>-21.202354</td>\n",
       "      <td>-21.202354</td>\n",
       "      <td>-21.202354</td>\n",
       "      <td>0.0</td>\n",
       "      <td>0.0</td>\n",
       "      <td>0.0</td>\n",
       "      <td>842.054205</td>\n",
       "    </tr>\n",
       "    <tr>\n",
       "      <th>3</th>\n",
       "      <td>2002-12-23</td>\n",
       "      <td>865.223084</td>\n",
       "      <td>771.968443</td>\n",
       "      <td>916.164706</td>\n",
       "      <td>865.223084</td>\n",
       "      <td>865.223084</td>\n",
       "      <td>-23.676793</td>\n",
       "      <td>-23.676793</td>\n",
       "      <td>-23.676793</td>\n",
       "      <td>-23.676793</td>\n",
       "      <td>-23.676793</td>\n",
       "      <td>-23.676793</td>\n",
       "      <td>0.0</td>\n",
       "      <td>0.0</td>\n",
       "      <td>0.0</td>\n",
       "      <td>841.546290</td>\n",
       "    </tr>\n",
       "    <tr>\n",
       "      <th>4</th>\n",
       "      <td>2002-12-24</td>\n",
       "      <td>865.878592</td>\n",
       "      <td>759.944606</td>\n",
       "      <td>916.064568</td>\n",
       "      <td>865.878592</td>\n",
       "      <td>865.878592</td>\n",
       "      <td>-22.213698</td>\n",
       "      <td>-22.213698</td>\n",
       "      <td>-22.213698</td>\n",
       "      <td>-22.213698</td>\n",
       "      <td>-22.213698</td>\n",
       "      <td>-22.213698</td>\n",
       "      <td>0.0</td>\n",
       "      <td>0.0</td>\n",
       "      <td>0.0</td>\n",
       "      <td>843.664894</td>\n",
       "    </tr>\n",
       "  </tbody>\n",
       "</table>\n",
       "</div>"
      ],
      "text/plain": [
       "          ds       trend  yhat_lower  yhat_upper  trend_lower  trend_upper  \\\n",
       "0 2002-12-18  861.945543  764.819607  918.786419   861.945543   861.945543   \n",
       "1 2002-12-19  862.601051  765.835709  914.266900   862.601051   862.601051   \n",
       "2 2002-12-20  863.256559  766.906015  920.370258   863.256559   863.256559   \n",
       "3 2002-12-23  865.223084  771.968443  916.164706   865.223084   865.223084   \n",
       "4 2002-12-24  865.878592  759.944606  916.064568   865.878592   865.878592   \n",
       "\n",
       "   additive_terms  additive_terms_lower  additive_terms_upper  \\\n",
       "0      -22.942579            -22.942579            -22.942579   \n",
       "1      -22.847909            -22.847909            -22.847909   \n",
       "2      -21.202354            -21.202354            -21.202354   \n",
       "3      -23.676793            -23.676793            -23.676793   \n",
       "4      -22.213698            -22.213698            -22.213698   \n",
       "\n",
       "   self_define_cycle  self_define_cycle_lower  self_define_cycle_upper  \\\n",
       "0         -22.942579               -22.942579               -22.942579   \n",
       "1         -22.847909               -22.847909               -22.847909   \n",
       "2         -21.202354               -21.202354               -21.202354   \n",
       "3         -23.676793               -23.676793               -23.676793   \n",
       "4         -22.213698               -22.213698               -22.213698   \n",
       "\n",
       "   multiplicative_terms  multiplicative_terms_lower  \\\n",
       "0                   0.0                         0.0   \n",
       "1                   0.0                         0.0   \n",
       "2                   0.0                         0.0   \n",
       "3                   0.0                         0.0   \n",
       "4                   0.0                         0.0   \n",
       "\n",
       "   multiplicative_terms_upper        yhat  \n",
       "0                         0.0  839.002964  \n",
       "1                         0.0  839.753142  \n",
       "2                         0.0  842.054205  \n",
       "3                         0.0  841.546290  \n",
       "4                         0.0  843.664894  "
      ]
     },
     "execution_count": 55,
     "metadata": {},
     "output_type": "execute_result"
    }
   ],
   "source": [
    "forecast.head()"
   ]
  },
  {
   "cell_type": "code",
   "execution_count": 56,
   "id": "bc96576a",
   "metadata": {},
   "outputs": [
    {
     "data": {
      "text/plain": [
       "0      2002-12-18\n",
       "1      2002-12-19\n",
       "2      2002-12-20\n",
       "3      2002-12-23\n",
       "4      2002-12-24\n",
       "          ...    \n",
       "4619   2020-12-26\n",
       "4620   2020-12-27\n",
       "4621   2020-12-28\n",
       "4622   2020-12-29\n",
       "4623   2020-12-30\n",
       "Name: ds, Length: 4624, dtype: datetime64[ns]"
      ]
     },
     "execution_count": 56,
     "metadata": {},
     "output_type": "execute_result"
    }
   ],
   "source": [
    "forecast.ds"
   ]
  },
  {
   "cell_type": "code",
   "execution_count": null,
   "id": "5d397f35",
   "metadata": {},
   "outputs": [],
   "source": []
  },
  {
   "cell_type": "code",
   "execution_count": null,
   "id": "1aa72ce2",
   "metadata": {},
   "outputs": [],
   "source": []
  },
  {
   "cell_type": "code",
   "execution_count": 57,
   "id": "484b989f",
   "metadata": {},
   "outputs": [
    {
     "ename": "NameError",
     "evalue": "name 'holidays' is not defined",
     "output_type": "error",
     "traceback": [
      "\u001b[0;31m---------------------------------------------------------------------------\u001b[0m",
      "\u001b[0;31mNameError\u001b[0m                                 Traceback (most recent call last)",
      "\u001b[0;32m<ipython-input-57-916fab24a8e1>\u001b[0m in \u001b[0;36m<module>\u001b[0;34m\u001b[0m\n\u001b[0;32m----> 1\u001b[0;31m \u001b[0mm\u001b[0m \u001b[0;34m=\u001b[0m \u001b[0mProphet\u001b[0m\u001b[0;34m(\u001b[0m\u001b[0mholidays\u001b[0m\u001b[0;34m=\u001b[0m\u001b[0mholidays\u001b[0m\u001b[0;34m)\u001b[0m\u001b[0;34m\u001b[0m\u001b[0;34m\u001b[0m\u001b[0m\n\u001b[0m\u001b[1;32m      2\u001b[0m \u001b[0mm\u001b[0m\u001b[0;34m.\u001b[0m\u001b[0madd_country_holidays\u001b[0m\u001b[0;34m(\u001b[0m\u001b[0mcountry_name\u001b[0m\u001b[0;34m=\u001b[0m\u001b[0;34m'US'\u001b[0m\u001b[0;34m)\u001b[0m\u001b[0;34m\u001b[0m\u001b[0;34m\u001b[0m\u001b[0m\n\u001b[1;32m      3\u001b[0m \u001b[0mm\u001b[0m\u001b[0;34m.\u001b[0m\u001b[0mtrain_holiday_names\u001b[0m\u001b[0;34m\u001b[0m\u001b[0;34m\u001b[0m\u001b[0m\n",
      "\u001b[0;31mNameError\u001b[0m: name 'holidays' is not defined"
     ]
    }
   ],
   "source": [
    "m = Prophet(holidays=holidays)\n",
    "m.add_country_holidays(country_name='US')\n",
    "m.train_holiday_names\n"
   ]
  },
  {
   "cell_type": "code",
   "execution_count": null,
   "id": "f78b02bf",
   "metadata": {},
   "outputs": [],
   "source": []
  },
  {
   "cell_type": "code",
   "execution_count": null,
   "id": "80952730",
   "metadata": {},
   "outputs": [],
   "source": []
  },
  {
   "cell_type": "code",
   "execution_count": null,
   "id": "a16adcf7",
   "metadata": {},
   "outputs": [],
   "source": []
  },
  {
   "cell_type": "code",
   "execution_count": 27,
   "id": "f942eda5",
   "metadata": {},
   "outputs": [
    {
     "data": {
      "text/plain": [
       "0       2021-01-29\n",
       "1       2021-01-28\n",
       "2       2021-01-27\n",
       "3       2021-01-26\n",
       "4       2021-01-25\n",
       "           ...    \n",
       "4524    2002-12-24\n",
       "4525    2002-12-23\n",
       "4526    2002-12-20\n",
       "4527    2002-12-19\n",
       "4528    2002-12-18\n",
       "Name: ds, Length: 4529, dtype: object"
      ]
     },
     "execution_count": 27,
     "metadata": {},
     "output_type": "execute_result"
    }
   ],
   "source": [
    "date1 = forecast.ds\n",
    "date2 = df.ds\n",
    "date2"
   ]
  },
  {
   "cell_type": "code",
   "execution_count": 28,
   "id": "a1e2c34f",
   "metadata": {},
   "outputs": [
    {
     "data": {
      "text/plain": [
       "[<matplotlib.lines.Line2D at 0x120c9eeb0>]"
      ]
     },
     "execution_count": 28,
     "metadata": {},
     "output_type": "execute_result"
    },
    {
     "data": {
      "image/png": "[encoded data removed]",
      "text/plain": [
       "<Figure size 432x288 with 1 Axes>"
      ]
     },
     "metadata": {
      "needs_background": "light"
     },
     "output_type": "display_data"
    }
   ],
   "source": [
    "plt.plot(date1,forecast.trend)\n",
    "# plt.plot(date2,df.y)\n"
   ]
  },
  {
   "cell_type": "code",
   "execution_count": null,
   "id": "54aad521",
   "metadata": {},
   "outputs": [],
   "source": []
  },
  {
   "cell_type": "code",
   "execution_count": 40,
   "id": "a78cbac1",
   "metadata": {},
   "outputs": [
    {
     "data": {
      "image/png": "[encoded data removed]",
      "text/plain": [
       "<Figure size 720x432 with 1 Axes>"
      ]
     },
     "execution_count": 40,
     "metadata": {},
     "output_type": "execute_result"
    },
    {
     "data": {
      "image/png": "[encoded data removed]",
      "text/plain": [
       "<Figure size 720x432 with 1 Axes>"
      ]
     },
     "metadata": {},
     "output_type": "display_data"
    }
   ],
   "source": [
    "from fbprophet.plot import plot\n",
    "# A better plot than the simple matplotlib\n",
    "plot(fbp, forecast)"
   ]
  },
  {
   "cell_type": "code",
   "execution_count": null,
   "id": "6ebf9aa4",
   "metadata": {},
   "outputs": [],
   "source": [
    "def MSE():\n",
    "    return 1/n * sum()"
   ]
  }
 ],
 "metadata": {
  "kernelspec": {
   "display_name": "Python 3",
   "language": "python",
   "name": "python3"
  },
  "language_info": {
   "codemirror_mode": {
    "name": "ipython",
    "version": 3
   },
   "file_extension": ".py",
   "mimetype": "text/x-python",
   "name": "python",
   "nbconvert_exporter": "python",
   "pygments_lexer": "ipython3",
   "version": "3.8.10"
  }
 },
 "nbformat": 4,
 "nbformat_minor": 5
}
