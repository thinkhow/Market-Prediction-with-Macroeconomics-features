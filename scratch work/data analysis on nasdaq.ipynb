{
 "cells": [
  {
   "cell_type": "markdown",
   "metadata": {},
   "source": [
    "## Data Preprocessing"
   ]
  },
  {
   "cell_type": "code",
   "execution_count": 2,
   "metadata": {},
   "outputs": [],
   "source": [
    "##import packages here\n",
    "import pandas as pd\n",
    "import numpy as np\n",
    "from sklearn.preprocessing import PolynomialFeatures\n",
    "from sklearn.linear_model import LinearRegression\n",
    "from sklearn.preprocessing import FunctionTransformer\n",
    "\n",
    "# We'll use this later\n",
    "from numpy import meshgrid\n",
    "\n",
    "## For plotting\n",
    "import matplotlib.pyplot as plt\n",
    "from matplotlib import style\n",
    "import datetime as dt\n",
    "import seaborn as sns\n",
    "\n",
    "## This sets the plot style\n",
    "## to have a grid on a white background\n",
    "sns.set_style(\"whitegrid\")"
   ]
  },
  {
   "cell_type": "code",
   "execution_count": 3,
   "metadata": {},
   "outputs": [],
   "source": [
    "import xgboost"
   ]
  },
  {
   "cell_type": "markdown",
   "metadata": {},
   "source": [
    "## Nasdaq Composite Index since 1971"
   ]
  },
  {
   "cell_type": "code",
   "execution_count": 4,
   "metadata": {
    "scrolled": true
   },
   "outputs": [
    {
     "data": {
      "text/html": [
       "<div>\n",
       "<style scoped>\n",
       "    .dataframe tbody tr th:only-of-type {\n",
       "        vertical-align: middle;\n",
       "    }\n",
       "\n",
       "    .dataframe tbody tr th {\n",
       "        vertical-align: top;\n",
       "    }\n",
       "\n",
       "    .dataframe thead th {\n",
       "        text-align: right;\n",
       "    }\n",
       "</style>\n",
       "<table border=\"1\" class=\"dataframe\">\n",
       "  <thead>\n",
       "    <tr style=\"text-align: right;\">\n",
       "      <th></th>\n",
       "      <th>Date</th>\n",
       "      <th>Open</th>\n",
       "      <th>High</th>\n",
       "      <th>Low</th>\n",
       "      <th>Close</th>\n",
       "      <th>Adj Close</th>\n",
       "      <th>Volume</th>\n",
       "    </tr>\n",
       "  </thead>\n",
       "  <tbody>\n",
       "    <tr>\n",
       "      <th>0</th>\n",
       "      <td>1971-02-05</td>\n",
       "      <td>100.000000</td>\n",
       "      <td>100.000000</td>\n",
       "      <td>100.000000</td>\n",
       "      <td>100.000000</td>\n",
       "      <td>100.000000</td>\n",
       "      <td>0</td>\n",
       "    </tr>\n",
       "    <tr>\n",
       "      <th>1</th>\n",
       "      <td>1971-02-08</td>\n",
       "      <td>100.839996</td>\n",
       "      <td>100.839996</td>\n",
       "      <td>100.839996</td>\n",
       "      <td>100.839996</td>\n",
       "      <td>100.839996</td>\n",
       "      <td>0</td>\n",
       "    </tr>\n",
       "    <tr>\n",
       "      <th>2</th>\n",
       "      <td>1971-02-09</td>\n",
       "      <td>100.760002</td>\n",
       "      <td>100.760002</td>\n",
       "      <td>100.760002</td>\n",
       "      <td>100.760002</td>\n",
       "      <td>100.760002</td>\n",
       "      <td>0</td>\n",
       "    </tr>\n",
       "    <tr>\n",
       "      <th>3</th>\n",
       "      <td>1971-02-10</td>\n",
       "      <td>100.690002</td>\n",
       "      <td>100.690002</td>\n",
       "      <td>100.690002</td>\n",
       "      <td>100.690002</td>\n",
       "      <td>100.690002</td>\n",
       "      <td>0</td>\n",
       "    </tr>\n",
       "    <tr>\n",
       "      <th>4</th>\n",
       "      <td>1971-02-11</td>\n",
       "      <td>101.449997</td>\n",
       "      <td>101.449997</td>\n",
       "      <td>101.449997</td>\n",
       "      <td>101.449997</td>\n",
       "      <td>101.449997</td>\n",
       "      <td>0</td>\n",
       "    </tr>\n",
       "    <tr>\n",
       "      <th>...</th>\n",
       "      <td>...</td>\n",
       "      <td>...</td>\n",
       "      <td>...</td>\n",
       "      <td>...</td>\n",
       "      <td>...</td>\n",
       "      <td>...</td>\n",
       "      <td>...</td>\n",
       "    </tr>\n",
       "    <tr>\n",
       "      <th>12670</th>\n",
       "      <td>2021-05-03</td>\n",
       "      <td>14031.769531</td>\n",
       "      <td>14042.120117</td>\n",
       "      <td>13881.509766</td>\n",
       "      <td>13895.120117</td>\n",
       "      <td>13895.120117</td>\n",
       "      <td>4718850000</td>\n",
       "    </tr>\n",
       "    <tr>\n",
       "      <th>12671</th>\n",
       "      <td>2021-05-04</td>\n",
       "      <td>13774.509766</td>\n",
       "      <td>13795.570313</td>\n",
       "      <td>13485.589844</td>\n",
       "      <td>13633.500000</td>\n",
       "      <td>13633.500000</td>\n",
       "      <td>5852850000</td>\n",
       "    </tr>\n",
       "    <tr>\n",
       "      <th>12672</th>\n",
       "      <td>2021-05-05</td>\n",
       "      <td>13731.129883</td>\n",
       "      <td>13753.049805</td>\n",
       "      <td>13553.929688</td>\n",
       "      <td>13582.419922</td>\n",
       "      <td>13582.419922</td>\n",
       "      <td>4517100000</td>\n",
       "    </tr>\n",
       "    <tr>\n",
       "      <th>12673</th>\n",
       "      <td>2021-05-06</td>\n",
       "      <td>13557.830078</td>\n",
       "      <td>13635.730469</td>\n",
       "      <td>13439.389648</td>\n",
       "      <td>13632.839844</td>\n",
       "      <td>13632.839844</td>\n",
       "      <td>5000710000</td>\n",
       "    </tr>\n",
       "    <tr>\n",
       "      <th>12674</th>\n",
       "      <td>2021-05-07</td>\n",
       "      <td>13723.089844</td>\n",
       "      <td>13828.620117</td>\n",
       "      <td>13690.750000</td>\n",
       "      <td>13752.240234</td>\n",
       "      <td>13752.240234</td>\n",
       "      <td>4376800000</td>\n",
       "    </tr>\n",
       "  </tbody>\n",
       "</table>\n",
       "<p>12675 rows × 7 columns</p>\n",
       "</div>"
      ],
      "text/plain": [
       "             Date          Open          High           Low         Close  \\\n",
       "0      1971-02-05    100.000000    100.000000    100.000000    100.000000   \n",
       "1      1971-02-08    100.839996    100.839996    100.839996    100.839996   \n",
       "2      1971-02-09    100.760002    100.760002    100.760002    100.760002   \n",
       "3      1971-02-10    100.690002    100.690002    100.690002    100.690002   \n",
       "4      1971-02-11    101.449997    101.449997    101.449997    101.449997   \n",
       "...           ...           ...           ...           ...           ...   \n",
       "12670  2021-05-03  14031.769531  14042.120117  13881.509766  13895.120117   \n",
       "12671  2021-05-04  13774.509766  13795.570313  13485.589844  13633.500000   \n",
       "12672  2021-05-05  13731.129883  13753.049805  13553.929688  13582.419922   \n",
       "12673  2021-05-06  13557.830078  13635.730469  13439.389648  13632.839844   \n",
       "12674  2021-05-07  13723.089844  13828.620117  13690.750000  13752.240234   \n",
       "\n",
       "          Adj Close      Volume  \n",
       "0        100.000000           0  \n",
       "1        100.839996           0  \n",
       "2        100.760002           0  \n",
       "3        100.690002           0  \n",
       "4        101.449997           0  \n",
       "...             ...         ...  \n",
       "12670  13895.120117  4718850000  \n",
       "12671  13633.500000  5852850000  \n",
       "12672  13582.419922  4517100000  \n",
       "12673  13632.839844  5000710000  \n",
       "12674  13752.240234  4376800000  \n",
       "\n",
       "[12675 rows x 7 columns]"
      ]
     },
     "execution_count": 4,
     "metadata": {},
     "output_type": "execute_result"
    }
   ],
   "source": [
    "##import prices from NASDAQ-all-time-daily.csv\n",
    "##has data since 2/5/71\n",
    "nasdaq_df = pd.read_csv('data/NASDAQ-all-time-daily.csv')\n",
    "# nasdaq_df = pd.read_csv('NASDAQ-all-time-daily.csv',parse_dates = True, index_col = 0)\n",
    "## index_col = 0 removes the first colum of indexs 0,1,2.... otherwise the plot below \n",
    "## will not appear as years \n",
    "##drop NaN rows\n",
    "nasdaq_df.dropna()\n",
    "##no need to drop more rows"
   ]
  },
  {
   "cell_type": "code",
   "execution_count": 5,
   "metadata": {
    "scrolled": true
   },
   "outputs": [
    {
     "data": {
      "text/html": [
       "<div>\n",
       "<style scoped>\n",
       "    .dataframe tbody tr th:only-of-type {\n",
       "        vertical-align: middle;\n",
       "    }\n",
       "\n",
       "    .dataframe tbody tr th {\n",
       "        vertical-align: top;\n",
       "    }\n",
       "\n",
       "    .dataframe thead th {\n",
       "        text-align: right;\n",
       "    }\n",
       "</style>\n",
       "<table border=\"1\" class=\"dataframe\">\n",
       "  <thead>\n",
       "    <tr style=\"text-align: right;\">\n",
       "      <th></th>\n",
       "      <th>Open</th>\n",
       "      <th>High</th>\n",
       "      <th>Low</th>\n",
       "      <th>Close</th>\n",
       "      <th>Adj Close</th>\n",
       "      <th>Volume</th>\n",
       "    </tr>\n",
       "  </thead>\n",
       "  <tbody>\n",
       "    <tr>\n",
       "      <th>count</th>\n",
       "      <td>12675.000000</td>\n",
       "      <td>12675.000000</td>\n",
       "      <td>12675.000000</td>\n",
       "      <td>12675.000000</td>\n",
       "      <td>12675.000000</td>\n",
       "      <td>1.267500e+04</td>\n",
       "    </tr>\n",
       "    <tr>\n",
       "      <th>mean</th>\n",
       "      <td>1971.457402</td>\n",
       "      <td>1984.376552</td>\n",
       "      <td>1956.494959</td>\n",
       "      <td>1971.326135</td>\n",
       "      <td>1971.326135</td>\n",
       "      <td>9.876137e+08</td>\n",
       "    </tr>\n",
       "    <tr>\n",
       "      <th>std</th>\n",
       "      <td>2461.707310</td>\n",
       "      <td>2477.754401</td>\n",
       "      <td>2442.852852</td>\n",
       "      <td>2461.716445</td>\n",
       "      <td>2461.716445</td>\n",
       "      <td>1.108376e+09</td>\n",
       "    </tr>\n",
       "    <tr>\n",
       "      <th>min</th>\n",
       "      <td>54.869999</td>\n",
       "      <td>54.869999</td>\n",
       "      <td>54.869999</td>\n",
       "      <td>54.869999</td>\n",
       "      <td>54.869999</td>\n",
       "      <td>0.000000e+00</td>\n",
       "    </tr>\n",
       "    <tr>\n",
       "      <th>25%</th>\n",
       "      <td>249.004998</td>\n",
       "      <td>249.215004</td>\n",
       "      <td>248.875000</td>\n",
       "      <td>249.130005</td>\n",
       "      <td>249.130005</td>\n",
       "      <td>0.000000e+00</td>\n",
       "    </tr>\n",
       "    <tr>\n",
       "      <th>50%</th>\n",
       "      <td>1085.119995</td>\n",
       "      <td>1092.260010</td>\n",
       "      <td>1080.650024</td>\n",
       "      <td>1087.219971</td>\n",
       "      <td>1087.219971</td>\n",
       "      <td>4.898600e+08</td>\n",
       "    </tr>\n",
       "    <tr>\n",
       "      <th>75%</th>\n",
       "      <td>2544.799927</td>\n",
       "      <td>2564.794921</td>\n",
       "      <td>2519.655029</td>\n",
       "      <td>2544.289917</td>\n",
       "      <td>2544.289917</td>\n",
       "      <td>1.844120e+09</td>\n",
       "    </tr>\n",
       "    <tr>\n",
       "      <th>max</th>\n",
       "      <td>14204.509766</td>\n",
       "      <td>14211.570313</td>\n",
       "      <td>14064.280273</td>\n",
       "      <td>14138.780273</td>\n",
       "      <td>14138.780273</td>\n",
       "      <td>1.110216e+10</td>\n",
       "    </tr>\n",
       "  </tbody>\n",
       "</table>\n",
       "</div>"
      ],
      "text/plain": [
       "               Open          High           Low         Close     Adj Close  \\\n",
       "count  12675.000000  12675.000000  12675.000000  12675.000000  12675.000000   \n",
       "mean    1971.457402   1984.376552   1956.494959   1971.326135   1971.326135   \n",
       "std     2461.707310   2477.754401   2442.852852   2461.716445   2461.716445   \n",
       "min       54.869999     54.869999     54.869999     54.869999     54.869999   \n",
       "25%      249.004998    249.215004    248.875000    249.130005    249.130005   \n",
       "50%     1085.119995   1092.260010   1080.650024   1087.219971   1087.219971   \n",
       "75%     2544.799927   2564.794921   2519.655029   2544.289917   2544.289917   \n",
       "max    14204.509766  14211.570313  14064.280273  14138.780273  14138.780273   \n",
       "\n",
       "             Volume  \n",
       "count  1.267500e+04  \n",
       "mean   9.876137e+08  \n",
       "std    1.108376e+09  \n",
       "min    0.000000e+00  \n",
       "25%    0.000000e+00  \n",
       "50%    4.898600e+08  \n",
       "75%    1.844120e+09  \n",
       "max    1.110216e+10  "
      ]
     },
     "execution_count": 5,
     "metadata": {},
     "output_type": "execute_result"
    }
   ],
   "source": [
    "#describing the data\n",
    "nasdaq_df.describe()"
   ]
  },
  {
   "cell_type": "code",
   "execution_count": 8,
   "metadata": {},
   "outputs": [
    {
     "data": {
      "image/png": "[encoded data removed]",
      "text/plain": [
       "<Figure size 1008x360 with 1 Axes>"
      ]
     },
     "metadata": {},
     "output_type": "display_data"
    }
   ],
   "source": [
    "#plot \n",
    "style.use('ggplot')\n",
    "plt.figure(figsize = (14,5))\n",
    "nasplot = pd.read_csv('data/NASDAQ-all-time-daily.csv', parse_dates = True, index_col = 0)\n",
    "nasplot['Adj Close'].plot(c='g')\n",
    "#plt.xlabel('')\n",
    "plt.title('Nasdaq Composite Index over the years')\n",
    "plt.show()"
   ]
  },
  {
   "cell_type": "markdown",
   "metadata": {},
   "source": [
    "## 10-year treasury bond rate yield"
   ]
  },
  {
   "cell_type": "code",
   "execution_count": 10,
   "metadata": {},
   "outputs": [
    {
     "data": {
      "text/html": [
       "<div>\n",
       "<style scoped>\n",
       "    .dataframe tbody tr th:only-of-type {\n",
       "        vertical-align: middle;\n",
       "    }\n",
       "\n",
       "    .dataframe tbody tr th {\n",
       "        vertical-align: top;\n",
       "    }\n",
       "\n",
       "    .dataframe thead th {\n",
       "        text-align: right;\n",
       "    }\n",
       "</style>\n",
       "<table border=\"1\" class=\"dataframe\">\n",
       "  <thead>\n",
       "    <tr style=\"text-align: right;\">\n",
       "      <th></th>\n",
       "      <th>date</th>\n",
       "      <th>value</th>\n",
       "    </tr>\n",
       "  </thead>\n",
       "  <tbody>\n",
       "    <tr>\n",
       "      <th>9</th>\n",
       "      <td>1962-01-02</td>\n",
       "      <td>4.0600</td>\n",
       "    </tr>\n",
       "    <tr>\n",
       "      <th>10</th>\n",
       "      <td>1962-01-03</td>\n",
       "      <td>4.0300</td>\n",
       "    </tr>\n",
       "    <tr>\n",
       "      <th>11</th>\n",
       "      <td>1962-01-04</td>\n",
       "      <td>3.9900</td>\n",
       "    </tr>\n",
       "    <tr>\n",
       "      <th>12</th>\n",
       "      <td>1962-01-05</td>\n",
       "      <td>4.0200</td>\n",
       "    </tr>\n",
       "    <tr>\n",
       "      <th>13</th>\n",
       "      <td>1962-01-08</td>\n",
       "      <td>4.0300</td>\n",
       "    </tr>\n",
       "    <tr>\n",
       "      <th>...</th>\n",
       "      <td>...</td>\n",
       "      <td>...</td>\n",
       "    </tr>\n",
       "    <tr>\n",
       "      <th>14844</th>\n",
       "      <td>2021-04-30</td>\n",
       "      <td>1.6500</td>\n",
       "    </tr>\n",
       "    <tr>\n",
       "      <th>14845</th>\n",
       "      <td>2021-05-03</td>\n",
       "      <td>1.6300</td>\n",
       "    </tr>\n",
       "    <tr>\n",
       "      <th>14846</th>\n",
       "      <td>2021-05-04</td>\n",
       "      <td>1.6100</td>\n",
       "    </tr>\n",
       "    <tr>\n",
       "      <th>14847</th>\n",
       "      <td>2021-05-05</td>\n",
       "      <td>1.5900</td>\n",
       "    </tr>\n",
       "    <tr>\n",
       "      <th>14848</th>\n",
       "      <td>2021-05-06</td>\n",
       "      <td>1.5800</td>\n",
       "    </tr>\n",
       "  </tbody>\n",
       "</table>\n",
       "<p>14840 rows × 2 columns</p>\n",
       "</div>"
      ],
      "text/plain": [
       "             date   value\n",
       "9      1962-01-02  4.0600\n",
       "10     1962-01-03  4.0300\n",
       "11     1962-01-04  3.9900\n",
       "12     1962-01-05  4.0200\n",
       "13     1962-01-08  4.0300\n",
       "...           ...     ...\n",
       "14844  2021-04-30  1.6500\n",
       "14845  2021-05-03  1.6300\n",
       "14846  2021-05-04  1.6100\n",
       "14847  2021-05-05  1.5900\n",
       "14848  2021-05-06  1.5800\n",
       "\n",
       "[14840 rows x 2 columns]"
      ]
     },
     "execution_count": 10,
     "metadata": {},
     "output_type": "execute_result"
    }
   ],
   "source": [
    "##import bond yield from 10-year-treasury-bond-rate-yield-chart.csv\n",
    "##has data since 1962\n",
    "file_bond = open('data/10-year-treasury-bond-rate-yield-chart.csv')\n",
    "bond_df = pd.read_csv(file_bond, names=['date', 'value'])\n",
    "file_bond.close()\n",
    "\n",
    "##drop NaN rows\n",
    "bond_df = bond_df.dropna()\n",
    "##drop header rows\n",
    "bond_df = bond_df[1:]\n",
    "\n",
    "bond_df"
   ]
  },
  {
   "cell_type": "code",
   "execution_count": null,
   "metadata": {},
   "outputs": [],
   "source": [
    "##put all the data in one data frame\n",
    "##columns: 'date', 'open', 'close', 'high', 'low', 'pe', 'bond'\n"
   ]
  },
  {
   "cell_type": "markdown",
   "metadata": {},
   "source": [
    "### Daily Returns of Nasdaq"
   ]
  },
  {
   "cell_type": "code",
   "execution_count": 11,
   "metadata": {
    "scrolled": true
   },
   "outputs": [
    {
     "data": {
      "text/plain": [
       "0     NaN\n",
       "1    0.84\n",
       "2   -0.08\n",
       "3   -0.07\n",
       "4    0.75\n",
       "5    0.59\n",
       "6    0.14\n",
       "7   -0.44\n",
       "8   -0.31\n",
       "9   -0.71\n",
       "Name: Return, dtype: float64"
      ]
     },
     "execution_count": 11,
     "metadata": {},
     "output_type": "execute_result"
    }
   ],
   "source": [
    "# Get `Adj Close` and assign to `daily_close`\n",
    "daily_close = nasdaq_df['Adj Close']\n",
    "\n",
    "# Daily returns percentage change\n",
    "nasdaq_df['Return'] = 100 * (nasdaq_df['Adj Close'].pct_change())\n",
    "\n",
    "# Rounding the change to 2 digits after decimal\n",
    "daily_pct_chg = round(nasdaq_df['Return'],2)\n",
    "\n",
    "# Print `daily_pct_c`\n",
    "daily_pct_chg.head(10)"
   ]
  },
  {
   "cell_type": "code",
   "execution_count": 12,
   "metadata": {},
   "outputs": [
    {
     "data": {
      "image/png": "[encoded data removed]",
      "text/plain": [
       "<Figure size 1008x360 with 1 Axes>"
      ]
     },
     "metadata": {},
     "output_type": "display_data"
    }
   ],
   "source": [
    "#plot\n",
    "plt.figure(figsize = (14,5))\n",
    "nasplot['Return'] = 100 * (nasplot['Adj Close'].pct_change())\n",
    "# Rounding the change to 2 digits after decimal\n",
    "daily_pct_chg = round(nasplot['Return'],2)\n",
    "nasplot['Return'].plot(color = 'b')\n",
    "plt.show()"
   ]
  },
  {
   "cell_type": "markdown",
   "metadata": {},
   "source": [
    "## Facebook Prophet"
   ]
  },
  {
   "cell_type": "code",
   "execution_count": 13,
   "metadata": {},
   "outputs": [],
   "source": [
    "# Defining proper training and test data sets\n",
    "train_size = int(nasdaq_df.shape[0]*0.85)\n",
    "train_df = nasdaq_df.iloc[:train_size]\n",
    "test_df = nasdaq_df.iloc[train_size+1:]"
   ]
  },
  {
   "cell_type": "code",
   "execution_count": 14,
   "metadata": {},
   "outputs": [
    {
     "name": "stderr",
     "output_type": "stream",
     "text": [
      "C:\\Anaconda3\\lib\\site-packages\\pandas\\core\\frame.py:4296: SettingWithCopyWarning: \n",
      "A value is trying to be set on a copy of a slice from a DataFrame\n",
      "\n",
      "See the caveats in the documentation: https://pandas.pydata.org/pandas-docs/stable/user_guide/indexing.html#returning-a-view-versus-a-copy\n",
      "  return super().rename(\n",
      "C:\\Anaconda3\\lib\\site-packages\\pandas\\core\\generic.py:5168: SettingWithCopyWarning: \n",
      "A value is trying to be set on a copy of a slice from a DataFrame.\n",
      "Try using .loc[row_indexer,col_indexer] = value instead\n",
      "\n",
      "See the caveats in the documentation: https://pandas.pydata.org/pandas-docs/stable/user_guide/indexing.html#returning-a-view-versus-a-copy\n",
      "  self[name] = value\n"
     ]
    }
   ],
   "source": [
    "# Building model using fbprophet\n",
    "import fbprophet as prophet\n",
    "# reset index to get date_time as a column\n",
    "prophet_df = train_df[['Date','Adj Close']]\n",
    "\n",
    "# prepare the required dataframe\n",
    "prophet_df.rename(columns={'Date':'ds','Adj Close':'y'},inplace=True)\n",
    "prophet_df.ds = pd.to_datetime(prophet_df.ds)\n",
    "\n",
    "prophet_df = prophet_df[['ds','y']]"
   ]
  },
  {
   "cell_type": "code",
   "execution_count": 15,
   "metadata": {},
   "outputs": [
    {
     "name": "stderr",
     "output_type": "stream",
     "text": [
      "INFO:fbprophet:Disabling daily seasonality. Run prophet with daily_seasonality=True to override this.\n"
     ]
    }
   ],
   "source": [
    "# Prophet model\n",
    "pro_model = prophet.Prophet()\n",
    "pro_model.fit(prophet_df)\n",
    "#Create future dataframe\n",
    "test_dates = pro_model.make_future_dataframe(periods=test_df.shape[0])\n",
    "#Forecast the data using the model\n",
    "forecast_df = pro_model.predict(test_dates)"
   ]
  },
  {
   "cell_type": "code",
   "execution_count": 16,
   "metadata": {},
   "outputs": [
    {
     "data": {
      "image/png": "[encoded data removed]",
      "text/plain": [
       "<Figure size 1080x432 with 1 Axes>"
      ]
     },
     "metadata": {},
     "output_type": "display_data"
    }
   ],
   "source": [
    "# Plot the forecasted data and current data  \n",
    "forecast_df['datetime'] = forecast_df['ds']\n",
    "forecast_df.set_index('datetime', inplace=True)\n",
    "fig, ax = plt.subplots(figsize=(15, 6))\n",
    "# plot against true data\n",
    "plt.plot(forecast_df.yhat,c='y',label='Forecast')\n",
    "plt.plot(forecast_df.yhat_lower.iloc[train_size+1:], \n",
    "         linestyle='--',\n",
    "         c='b',\n",
    "         alpha=0.3,\n",
    "         label='Confidence Interval')\n",
    "plt.plot(forecast_df.yhat_upper.iloc[train_size+1:],\n",
    "         linestyle='--',\n",
    "         c='b',\n",
    "         alpha=0.3,\n",
    "label='Confidence Interval')\n",
    "#plt.plot(prophet_df.y,c='g',label='Actual Data')\n",
    "nasplot = pd.read_csv('data/NASDAQ-all-time-daily.csv', parse_dates = True, index_col = 0)\n",
    "nasplot['Adj Close'].plot(c = 'g', label='Actual Data')\n",
    "plt.legend()\n",
    "plt.title('Facebook\\'s Prophet Model Forecast Against Actual Data')\n",
    "plt.show()"
   ]
  },
  {
   "cell_type": "code",
   "execution_count": 1,
   "metadata": {},
   "outputs": [
    {
     "ename": "NameError",
     "evalue": "name 'test_dates' is not defined",
     "output_type": "error",
     "traceback": [
      "\u001b[1;31m---------------------------------------------------------------------------\u001b[0m",
      "\u001b[1;31mNameError\u001b[0m                                 Traceback (most recent call last)",
      "\u001b[1;32m<ipython-input-1-0f3492140fdf>\u001b[0m in \u001b[0;36m<module>\u001b[1;34m\u001b[0m\n\u001b[1;32m----> 1\u001b[1;33m \u001b[0mprint\u001b[0m\u001b[1;33m(\u001b[0m\u001b[0mtest_dates\u001b[0m\u001b[1;33m)\u001b[0m\u001b[1;33m\u001b[0m\u001b[1;33m\u001b[0m\u001b[0m\n\u001b[0m",
      "\u001b[1;31mNameError\u001b[0m: name 'test_dates' is not defined"
     ]
    }
   ],
   "source": [
    "print(test_dates)"
   ]
  }
 ],
 "metadata": {
  "kernelspec": {
   "display_name": "Python 3",
   "language": "python",
   "name": "python3"
  },
  "language_info": {
   "codemirror_mode": {
    "name": "ipython",
    "version": 3
   },
   "file_extension": ".py",
   "mimetype": "text/x-python",
   "name": "python",
   "nbconvert_exporter": "python",
   "pygments_lexer": "ipython3",
   "version": "3.8.5"
  }
 },
 "nbformat": 4,
 "nbformat_minor": 5
}
