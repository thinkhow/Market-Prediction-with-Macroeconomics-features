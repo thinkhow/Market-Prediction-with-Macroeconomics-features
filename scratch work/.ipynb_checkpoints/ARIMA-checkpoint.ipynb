{
 "cells": [
  {
   "cell_type": "code",
   "execution_count": 14,
   "metadata": {},
   "outputs": [],
   "source": [
    "import warnings\n",
    "import itertools\n",
    "import pandas as pd\n",
    "\n",
    "import numpy as np\n",
    "import statsmodels.api as sm\n",
    "import matplotlib.pyplot as plt\n",
    "#import pandas_datareader.data\n",
    "import pandas_datareader.data as web\n",
    "\n",
    "import seaborn as sns\n",
    "from pylab import rcParams\n",
    "from pandas import datetime\n",
    "from statsmodels.graphics.tsaplots import plot_acf, plot_pacf\n",
    "from statsmodels.tsa.stattools import adfuller \n",
    "from statsmodels.tsa.arima_model import ARIMA \n",
    "from sklearn.metrics import mean_squared_error"
   ]
  },
  {
   "cell_type": "code",
   "execution_count": 15,
   "metadata": {},
   "outputs": [
    {
     "data": {
      "text/html": [
       "<div>\n",
       "<style scoped>\n",
       "    .dataframe tbody tr th:only-of-type {\n",
       "        vertical-align: middle;\n",
       "    }\n",
       "\n",
       "    .dataframe tbody tr th {\n",
       "        vertical-align: top;\n",
       "    }\n",
       "\n",
       "    .dataframe thead th {\n",
       "        text-align: right;\n",
       "    }\n",
       "</style>\n",
       "<table border=\"1\" class=\"dataframe\">\n",
       "  <thead>\n",
       "    <tr style=\"text-align: right;\">\n",
       "      <th></th>\n",
       "      <th>ds</th>\n",
       "      <th>x</th>\n",
       "      <th>y</th>\n",
       "      <th>bond</th>\n",
       "      <th>fed funds</th>\n",
       "      <th>fed total assets</th>\n",
       "    </tr>\n",
       "  </thead>\n",
       "  <tbody>\n",
       "    <tr>\n",
       "      <td>10676</td>\n",
       "      <td>1978-01-03</td>\n",
       "      <td>93.82</td>\n",
       "      <td>93.82</td>\n",
       "      <td>7.83</td>\n",
       "      <td>6.70</td>\n",
       "      <td>720761.0</td>\n",
       "    </tr>\n",
       "    <tr>\n",
       "      <td>10675</td>\n",
       "      <td>1978-01-04</td>\n",
       "      <td>93.52</td>\n",
       "      <td>93.52</td>\n",
       "      <td>7.82</td>\n",
       "      <td>6.70</td>\n",
       "      <td>720761.0</td>\n",
       "    </tr>\n",
       "    <tr>\n",
       "      <td>10674</td>\n",
       "      <td>1978-01-05</td>\n",
       "      <td>92.74</td>\n",
       "      <td>92.74</td>\n",
       "      <td>7.83</td>\n",
       "      <td>6.70</td>\n",
       "      <td>720761.0</td>\n",
       "    </tr>\n",
       "    <tr>\n",
       "      <td>10673</td>\n",
       "      <td>1978-01-06</td>\n",
       "      <td>91.62</td>\n",
       "      <td>91.62</td>\n",
       "      <td>7.85</td>\n",
       "      <td>6.70</td>\n",
       "      <td>720761.0</td>\n",
       "    </tr>\n",
       "    <tr>\n",
       "      <td>10672</td>\n",
       "      <td>1978-01-09</td>\n",
       "      <td>90.64</td>\n",
       "      <td>90.64</td>\n",
       "      <td>8.01</td>\n",
       "      <td>6.70</td>\n",
       "      <td>720761.0</td>\n",
       "    </tr>\n",
       "    <tr>\n",
       "      <td>...</td>\n",
       "      <td>...</td>\n",
       "      <td>...</td>\n",
       "      <td>...</td>\n",
       "      <td>...</td>\n",
       "      <td>...</td>\n",
       "      <td>...</td>\n",
       "    </tr>\n",
       "    <tr>\n",
       "      <td>681</td>\n",
       "      <td>2018-01-10</td>\n",
       "      <td>2745.55</td>\n",
       "      <td>2748.23</td>\n",
       "      <td>2.55</td>\n",
       "      <td>1.41</td>\n",
       "      <td>4443718.0</td>\n",
       "    </tr>\n",
       "    <tr>\n",
       "      <td>680</td>\n",
       "      <td>2018-01-11</td>\n",
       "      <td>2752.97</td>\n",
       "      <td>2767.56</td>\n",
       "      <td>2.54</td>\n",
       "      <td>1.41</td>\n",
       "      <td>4446062.0</td>\n",
       "    </tr>\n",
       "    <tr>\n",
       "      <td>679</td>\n",
       "      <td>2018-01-12</td>\n",
       "      <td>2770.18</td>\n",
       "      <td>2786.24</td>\n",
       "      <td>2.55</td>\n",
       "      <td>1.41</td>\n",
       "      <td>4446062.0</td>\n",
       "    </tr>\n",
       "    <tr>\n",
       "      <td>678</td>\n",
       "      <td>2018-01-16</td>\n",
       "      <td>2798.96</td>\n",
       "      <td>2776.42</td>\n",
       "      <td>2.54</td>\n",
       "      <td>1.41</td>\n",
       "      <td>4446062.0</td>\n",
       "    </tr>\n",
       "    <tr>\n",
       "      <td>677</td>\n",
       "      <td>2018-01-17</td>\n",
       "      <td>2784.99</td>\n",
       "      <td>2802.56</td>\n",
       "      <td>2.57</td>\n",
       "      <td>1.41</td>\n",
       "      <td>4446062.0</td>\n",
       "    </tr>\n",
       "  </tbody>\n",
       "</table>\n",
       "<p>10000 rows × 6 columns</p>\n",
       "</div>"
      ],
      "text/plain": [
       "               ds        x        y  bond  fed funds  fed total assets\n",
       "10676  1978-01-03    93.82    93.82  7.83       6.70          720761.0\n",
       "10675  1978-01-04    93.52    93.52  7.82       6.70          720761.0\n",
       "10674  1978-01-05    92.74    92.74  7.83       6.70          720761.0\n",
       "10673  1978-01-06    91.62    91.62  7.85       6.70          720761.0\n",
       "10672  1978-01-09    90.64    90.64  8.01       6.70          720761.0\n",
       "...           ...      ...      ...   ...        ...               ...\n",
       "681    2018-01-10  2745.55  2748.23  2.55       1.41         4443718.0\n",
       "680    2018-01-11  2752.97  2767.56  2.54       1.41         4446062.0\n",
       "679    2018-01-12  2770.18  2786.24  2.55       1.41         4446062.0\n",
       "678    2018-01-16  2798.96  2776.42  2.54       1.41         4446062.0\n",
       "677    2018-01-17  2784.99  2802.56  2.57       1.41         4446062.0\n",
       "\n",
       "[10000 rows x 6 columns]"
      ]
     },
     "execution_count": 15,
     "metadata": {},
     "output_type": "execute_result"
    }
   ],
   "source": [
    "startDate = datetime(1978,1,3)\n",
    "endDate = datetime(2018,1,17)\n",
    "# processing data, removing the space in coumn names\n",
    "df= pd.read_csv('../data/total_df.csv')\n",
    "new_name = [name.strip() for name in df.columns]\n",
    "df.columns = new_name\n",
    "df = df.sort_values(by='Date')\n",
    "\n",
    "#extract features to use\n",
    "sub_feature = ['Date','Open','Close','bond','fed funds','fed total assets']\n",
    "df = df[sub_feature]\n",
    "\n",
    "\n",
    "df=df.iloc[:10000]\n",
    "\n",
    "#change the columns names for fitting prophet()\n",
    "df.columns = ['ds','x','y','bond','fed funds','fed total assets']\n",
    " \n",
    "\n",
    "df"
   ]
  },
  {
   "cell_type": "code",
   "execution_count": 16,
   "metadata": {},
   "outputs": [
    {
     "data": {
      "text/plain": [
       "[<matplotlib.lines.Line2D at 0x24166f17188>]"
      ]
     },
     "execution_count": 16,
     "metadata": {},
     "output_type": "execute_result"
    },
    {
     "data": {
      "image/png": "[encoded data removed]",
      "text/plain": [
       "<Figure size 504x360 with 1 Axes>"
      ]
     },
     "metadata": {
      "needs_background": "light"
     },
     "output_type": "display_data"
    }
   ],
   "source": [
    "rcParams['figure.figsize'] = 7, 5\n",
    "plt.plot(df[\"y\"], label = \"y\")"
   ]
  },
  {
   "cell_type": "code",
   "execution_count": 22,
   "metadata": {},
   "outputs": [
    {
     "name": "stdout",
     "output_type": "stream",
     "text": [
      "Results of Dickey-Fuller Test:\n",
      "Test Statistic                    2.099988\n",
      "p-value                           0.998790\n",
      "#Lags Used                       36.000000\n",
      "Number of Observations Used    9963.000000\n",
      "Critical Value (1%)              -3.431007\n",
      "Critical Value (5%)              -2.861830\n",
      "Critical Value (10%)             -2.566924\n",
      "dtype: float64\n"
     ]
    }
   ],
   "source": [
    "\n",
    "from statsmodels.tsa.stattools import adfuller\n",
    "\n",
    "def isSeriesStationary(data):\n",
    "  #Calculate rolling statistics\n",
    "  rolling_mean = data.rolling(window=8, center = False).mean()\n",
    "  rolling_std = data.rolling(window=8, center = False).std()\n",
    "\n",
    "  #Perform the Dickey Fuller Test\n",
    "  df_test = adfuller(data)\n",
    "\n",
    "  #orig = plt.plot(data, color='blue',label='Original')\n",
    "  #mean = plt.plot(rolling_mean,color='red', label='Rolling Mean')\n",
    "  #std = plt.plot(rolling_std, color='black', label = 'Rolling Std')\n",
    "  #plt.legend(loc='best')\n",
    "  #plt.title('Rolling Mean & Standard Deviation')\n",
    "  #plt.show(block=False)\n",
    "\n",
    "  print ('Results of Dickey-Fuller Test:')\n",
    "  dfoutput = pd.Series(df_test[0:4], index=['Test Statistic','p-value','#Lags Used','Number of Observations Used'])\n",
    "  for key,value in df_test[4].items():\n",
    "      dfoutput['Critical Value (%s)'%key] = value\n",
    "  print (dfoutput)\n",
    "\n",
    "isSeriesStationary(data.y)"
   ]
  },
  {
   "cell_type": "code",
   "execution_count": 23,
   "metadata": {},
   "outputs": [
    {
     "name": "stdout",
     "output_type": "stream",
     "text": [
      "Results of Dickey-Fuller Test:\n",
      "Test Statistic                -1.611097e+01\n",
      "p-value                        5.013582e-29\n",
      "#Lags Used                     3.800000e+01\n",
      "Number of Observations Used    9.960000e+03\n",
      "Critical Value (1%)           -3.431007e+00\n",
      "Critical Value (5%)           -2.861830e+00\n",
      "Critical Value (10%)          -2.566924e+00\n",
      "dtype: float64\n"
     ]
    }
   ],
   "source": [
    "#Take First difference\n",
    "data_diff=data.y-data.y.shift()\n",
    "data_diff.dropna(inplace = True)\n",
    "isSeriesStationary(data_diff)\n",
    "\n",
    "#Take Second difference\n",
    "#data_diff = data_diff - data_diff.shift()\n",
    "#data_diff.dropna(inplace = True)\n",
    "#isSeriesStationary(data_diff)"
   ]
  },
  {
   "cell_type": "code",
   "execution_count": 24,
   "metadata": {},
   "outputs": [
    {
     "name": "stderr",
     "output_type": "stream",
     "text": [
      "C:\\Users\\Malavika\\Anaconda3\\lib\\site-packages\\statsmodels\\tsa\\stattools.py:541: FutureWarning: fft=True will become the default in a future version of statsmodels. To suppress this warning, explicitly set fft=False.\n",
      "  warnings.warn(msg, FutureWarning)\n"
     ]
    },
    {
     "data": {
      "image/png": "[encoded data removed]",
      "text/plain": [
       "<Figure size 648x432 with 1 Axes>"
      ]
     },
     "metadata": {
      "needs_background": "light"
     },
     "output_type": "display_data"
    },
    {
     "data": {
      "image/png": "[encoded data removed]",
      "text/plain": [
       "<Figure size 648x432 with 1 Axes>"
      ]
     },
     "metadata": {
      "needs_background": "light"
     },
     "output_type": "display_data"
    },
    {
     "data": {
      "text/plain": [
       "<Figure size 648x432 with 0 Axes>"
      ]
     },
     "metadata": {},
     "output_type": "display_data"
    }
   ],
   "source": [
    "from statsmodels.tsa.stattools import acf, pacf\n",
    "\n",
    "lag_acf = acf(data_diff, nlags=20)\n",
    "lag_pacf = pacf(data_diff, nlags=20, method='ols')\n",
    "\n",
    "plt.subplot(121) \n",
    "plt.plot(lag_acf)\n",
    "plt.axhline(y=0,linestyle='--',color='gray')\n",
    "plt.axhline(y=-1.96/np.sqrt(len(data_diff)),linestyle='--',color='gray')\n",
    "plt.axhline(y=1.96/np.sqrt(len(data_diff)),linestyle='--',color='gray')\n",
    "plt.title('Auto-correlation Function')\n",
    "plt.show()\n",
    "\n",
    "plt.subplot(122)\n",
    "plt.plot(lag_pacf)\n",
    "plt.axhline(y=0,linestyle='--',color='gray')\n",
    "plt.axhline(y=-1.96/np.sqrt(len(data_diff)),linestyle='--',color='gray')\n",
    "plt.axhline(y=1.96/np.sqrt(len(data_diff)),linestyle='--',color='gray')\n",
    "plt.title('Partial Auto-correlation Function')\n",
    "plt.show()\n",
    "plt.tight_layout()"
   ]
  },
  {
   "cell_type": "code",
   "execution_count": 25,
   "metadata": {},
   "outputs": [],
   "source": [
    "def smape_kun(y_true, y_pred):\n",
    "    return np.mean((np.abs(y_pred - y_true) * 200/ (np.abs(y_pred) + np.abs(y_true))))"
   ]
  },
  {
   "cell_type": "code",
   "execution_count": null,
   "metadata": {},
   "outputs": [],
   "source": [
    "#BUILD MODEL\n",
    "\n",
    "#Split data\n",
    "train_data, test_data = df[0:int(len(df)*0.9)], df[int(len(df)*0.9):]\n",
    "\n",
    "train_ar = train_data['y'].values\n",
    "test_ar = test_data['y'].values\n",
    "\n",
    "history = [x for x in train_ar]\n",
    "predictions = list()\n",
    "for t in range(len(test_ar)):\n",
    "    model = ARIMA(history, order=(1,1,1))\n",
    "    model_fit = model.fit(disp=0)\n",
    "    output = model_fit.forecast()\n",
    "    yhat = output[0]\n",
    "    predictions.append(yhat)\n",
    "    obs = test_ar[t]\n",
    "    history.append(obs)\n",
    "    #print('predicted=%f, expected=%f' % (yhat, obs))\n",
    "    \n",
    "error = mean_squared_error(test_ar, predictions)\n",
    "print('Testing Mean Squared Error: %.3f' % error)\n",
    "error2 = smape_kun(test_ar, predictions)\n",
    "print('Symmetric mean absolute percentage error: %.3f' % error2)"
   ]
  },
  {
   "cell_type": "code",
   "execution_count": null,
   "metadata": {},
   "outputs": [],
   "source": [
    "test_data=data[-90:]\n",
    "predictions=predictions[-90:]\n",
    "\n",
    "plt.figure(figsize=(12,7))\n",
    "plt.plot(test_data.index, predictions, color='green', label='Predicted Value')\n",
    "plt.plot(test_data.index, test_data.y.values, color='red', label='Actual Value')\n",
    "plt.title('S&P500 Stock Prices Prediction')\n",
    "plt.xlabel('Dates')\n",
    "plt.ylabel('Closing Values')\n",
    "plt.legend()"
   ]
  }
 ],
 "metadata": {
  "kernelspec": {
   "display_name": "Python 3",
   "language": "python",
   "name": "python3"
  },
  "language_info": {
   "codemirror_mode": {
    "name": "ipython",
    "version": 3
   },
   "file_extension": ".py",
   "mimetype": "text/x-python",
   "name": "python",
   "nbconvert_exporter": "python",
   "pygments_lexer": "ipython3",
   "version": "3.8.5"
  }
 },
 "nbformat": 4,
 "nbformat_minor": 4
}
