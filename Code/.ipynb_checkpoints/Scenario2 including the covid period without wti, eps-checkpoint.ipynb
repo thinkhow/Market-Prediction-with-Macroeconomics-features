{
 "cells": [
  {
   "cell_type": "markdown",
   "metadata": {},
   "source": [
    "# Mathematical Theory and Intuition behind Our Improved Model \n",
    "\n",
    "This markdown explains the mathematical theory behind our model. Note that the actual implementation might be different. For simplicity, we are also not including all the datasets we used (otherwise the equations might be too long).\n",
    "\n",
    "Let $i$ denote the $i$th date since the beginning of our dataset and $n$ denote the cutoff date for training-testing . Let the range from $n+1$ to $m$ be the range for testing (forecast). \n",
    "\n",
    "For a given date $i$, let $\\textbf{asp}(i)$ be the actual index for S\\&P500; $\\textbf{fbsp}(i)$ be the index for S\\&P500 bases on a training set of the first $i-1$ many days' market data of S\\&P500; $\\textbf{div}(i)$ be the dividend yield rates of S\\&P500; $\\textbf{eps}(i)$ be the dividen yield rates of S\\&P500; $\\textbf{tby}(i)$ be the 10-year treasury bond yield; $\\textbf{ffr}(i)$ be the fed fund rates;  $\\textbf{fta}(i)$ be the fed total assets.\n",
    "\n",
    "## Linear Model\n",
    "\n",
    "\\begin{equation}\n",
    "    \\textbf{fb}_1(i,a,b,c,d,e):=\\textbf{fbsp}(i)+a*\\textbf{tby}(i)+b*\\textbf{ffr}(i)+c*\\textbf{fta}(i)+d*\\textbf{div}(i)+e*\\textbf{eps}(i)\n",
    "\\end{equation}\n",
    "\n",
    "\\begin{equation}\n",
    "    \\textbf{E}_n(a,b,c,d,e):= \\frac{1}{n-1000}\\sum_{i=1000}^{n} \n",
    "    (\\textbf{fb}_1(i,a,b,c,d,e)-\\textbf{asp}(i))^2\n",
    "\\end{equation}\n",
    "\n",
    "attains its minimum. Namely, finding\n",
    "\n",
    "\\begin{equation}\n",
    "    (a_n,b_n,c_n,d_n,e_n):=\\text{argmin} \\textbf{E}_n(a,b,c,d,e)\n",
    "\\end{equation}\n",
    "\n",
    "Note that it doesn't make sense to start with $i=1$ since the fbprophet itself need to use the first $i-1$ of the data for training\n",
    "\n",
    "## Nonlinear Model\n",
    "\n",
    "All notations are the same as above.\n",
    "\n",
    "Here is a different model (nonlinear revision of fbprophet). In this model, we will the dividend yield rate of S\\&P 500.\n",
    "\n",
    "First, what is the dividend yield rate? Dividend is the money that publicly listed companies pay you (usually four times a year) for holding their stocks (until the so-called ex-dividend dates). It's like the interest paid to your saving accounts from the banks. Some companies pay while some don't, especially for the growth tech stocks. From my experience, the impact of bond rates and fed fund rates on the stock market will change when they rise above or fall below the dividend yield rate}. Stock prices fall when those rates rise above the dividend yield rate of SP500 (investor are selling their stocks to buy bonds or save more money in their bank account!).\n",
    "\n",
    "Based on this idea, it might be useful to consider the differences of those rates and the dividend yield rate of SP500. \n",
    "\n",
    "Normally an increase in the federal fund rate will result in an increase in bank loan interest rate, which will in turn result in an decrease in the net income of S\\&P500-listed companies since they have to pay a higher interest when borrowing money from banks. Based on this thought, I believe it is reasonable to make a correction to $c*\\textbf{eps}(i)$ by replacing the term by $c*\\textbf{eps}(i)(1+d*\\textbf{ffr}(i))$. If my intuition is correct, the generated constant $d$ from the optimization should be a negative number. \n",
    "\n",
    "\n",
    "$$\\textbf{fb}_2(i,a,b,c,d,e):= \\textbf{fbsp}(i)*\\big[1+a*(\\textbf{div}(i)-\\textbf{tby}(i))\\big]\\big[1+b*(\\textbf{div}(i)-\\textbf{ffr}(i))\\big]\\\\\n",
    "+c*\\textbf{eps}(i)(1+d*\\textbf{ffr}(i)+e*\\textbf{fta}(i))$$\n",
    "\n",
    "and consider\n",
    "\n",
    "$$E_n(a,b,c,d,e) := \\frac{1}{n-1000}\\sum_{i=1000}^n(\\textbf{fb}_2(i,a,b,c,d,e)-\\textbf{asp}(i))^2$$\n",
    "\n",
    "Now find (by approximation, SGD, etc.) $(a_n,b_n,c_n,d_n,e_n):=\\text{argmin} E_n(a,b,c,d,e)$ \n",
    "\n",
    "Using $(a_n,b_n,c_n,d_n,e_n)$ as constants, our output will be $\\textbf{fb}_2(i,a_n,b_n,c_n,d_n,e_n)$\n",
    "\n",
    "\n",
    "### The actual implementation of the nonlinear model\n",
    "\n",
    "For the actual implementation of the nonlinear model, we threw away the higher order terms (the products of three things) since they are relatively smaller quantities\n",
    "\n",
    "### The mathematical theory behind our nonlinear model: \n",
    "\n",
    "#### The Taylor's theorem for multivariate functions\n",
    "\n",
    "Let $f :\\mathbb{R}^n → \\mathbb R$ be a $k$-times-differentiable function at the point $a ∈ \\mathbb{R}^n$. Then there exists $h_a:\\mathbb{R}^n → \\mathbb R$ such that:\n",
    "\n",
    "<math>\\begin{align}\n",
    "& f(\\boldsymbol{x}) = \\sum_{|\\alpha|\\leq k} \\frac{D^\\alpha f(\\boldsymbol{a})}{\\alpha!} (\\boldsymbol{x}-\\boldsymbol{a})^\\alpha  + \\sum_{|\\alpha|=k} h_\\alpha(\\boldsymbol{x})(\\boldsymbol{x}-\\boldsymbol{a})^\\alpha, \\\\\n",
    "& \\mbox{and}\\quad \\lim_{\\boldsymbol{x}\\to \\boldsymbol{a}}h_\\alpha(\\boldsymbol{x})=0.\n",
    "\\end{align}</math>\n",
    "\n",
    "In our model, we think of $\\textbf{asp}$ as a function of $\\textbf{fbsp}, \\textbf{tby}, \\textbf{div}, \\textbf{ffr}, \\textbf{fta}$, etc. Say \n",
    "\n",
    "$$\\textbf{asp}:=F(\\textbf{fbsp}, \\textbf{tby}, \\textbf{div}, \\textbf{ffr}, \\textbf{fta},\\cdots)$$\n",
    "\n",
    "With the assumption that $F$ here is regular, we can apply the Taylor's theorem for multivariate functions from above to $F$. Ideally, we have to consider all possible products in our implementation. But in our implementation, we chose to make a balance between our intuitive nonlinear model and Taylor's theorem.\n",
    "\n",
    "## A faster computation scheme\n",
    "One drawback of the models we proposed about is that we have to call fbprophet thousands of times when we implement it.\n",
    "\n",
    "Here is a method that reduces the number of times calling fbprophet:\n",
    "\n",
    "Say in the training process we are considering from i=1,000 to 11,000. Namely based on the current scheme, we have to call fbprophet for 10,000 times.\n",
    "\n",
    "Instead of this, we make a break-down 10,000=100*100 as follows:\n",
    "\n",
    "For i=1,000 to 1,100, we only use the first 999 dates for training;\n",
    "\n",
    "For i=1,100 to 1,200, we only use the first 1,099 dates for training;\n",
    "\n",
    ".............................................\n",
    "\n",
    "For i=10,900 to 11,000, we only use the first 10,899 dates for training;\n",
    "\n",
    "In this way, it seems that we only need to call fbprophet for 100 times. And this doesn't seem harm the accuracy too much."
   ]
  },
  {
   "cell_type": "code",
   "execution_count": 1,
   "metadata": {},
   "outputs": [],
   "source": [
    "import pandas as pd\n",
    "import numpy as np\n",
    "\n",
    "## For plotting\n",
    "import matplotlib.pyplot as plt\n",
    "from matplotlib import style\n",
    "import datetime as dt\n",
    "import seaborn as sns\n",
    "sns.set_style(\"whitegrid\")"
   ]
  },
  {
   "cell_type": "code",
   "execution_count": 2,
   "metadata": {},
   "outputs": [],
   "source": [
    "path = '../Data/dff1.csv'"
   ]
  },
  {
   "cell_type": "code",
   "execution_count": 3,
   "metadata": {
    "scrolled": true
   },
   "outputs": [],
   "source": [
    "df= pd.read_csv(path, parse_dates=['ds'])\n",
    "# df = df.rename(columns = {\"Date\":\"ds\",\"Close\":\"y\"}) \n",
    "df = df[['ds', 'y','fbsp', 'diff','tby', 'ffr', 'fta', 'eps', 'div', 'une', 'wti', 'ppi',\n",
    "       'rfs']]\n",
    "# df"
   ]
  },
  {
   "cell_type": "code",
   "execution_count": 4,
   "metadata": {},
   "outputs": [],
   "source": [
    "df['fbsp_tby'] = df['fbsp'] * df['tby']\n",
    "df['fbsp_ffr'] = df['fbsp'] * df['ffr']\n",
    "df['fbsp_div'] = df['fbsp'] * df['div']\n",
    "df['eps_tby'] = df['eps'] * df['tby']\n",
    "df['eps_ffr'] = df['eps'] * df['ffr']\n",
    "df['eps_div'] = df['eps'] * df['div']"
   ]
  },
  {
   "cell_type": "code",
   "execution_count": 5,
   "metadata": {},
   "outputs": [
    {
     "name": "stdout",
     "output_type": "stream",
     "text": [
      "2300\n"
     ]
    }
   ],
   "source": [
    "# cutoff between test and train data\n",
    "cutoff = len(df) - 252\n",
    "df_train = df[:cutoff].copy()\n",
    "df_test = df[cutoff:].copy()\n",
    "print(cutoff)"
   ]
  },
  {
   "cell_type": "code",
   "execution_count": 6,
   "metadata": {},
   "outputs": [
    {
     "data": {
      "text/plain": [
       "Index(['ds', 'y', 'fbsp', 'diff', 'tby', 'ffr', 'fta', 'eps', 'div', 'une',\n",
       "       'wti', 'ppi', 'rfs', 'fbsp_tby', 'fbsp_ffr', 'fbsp_div', 'eps_tby',\n",
       "       'eps_ffr', 'eps_div'],\n",
       "      dtype='object')"
      ]
     },
     "execution_count": 6,
     "metadata": {},
     "output_type": "execute_result"
    }
   ],
   "source": [
    "df_train.columns"
   ]
  },
  {
   "cell_type": "code",
   "execution_count": 7,
   "metadata": {},
   "outputs": [],
   "source": [
    "#possible_features = ['tby', 'ffr', 'fta', 'eps', 'div', 'une', 'wti',\n",
    "#      'ppi', 'rfs', 'fbsp_tby', 'fbsp_ffr', 'fbsp_div', 'eps_tby',\n",
    "#      'eps_ffr', 'eps_div']\n",
    "\n",
    "from itertools import chain, combinations\n",
    "\n",
    "def powerset(iterable):\n",
    "    #\"powerset([1,2,3]) --> () (1,) (2,) (3,) (1,2) (1,3) (2,3) (1,2,3)\"\n",
    "    s = list(iterable)\n",
    "    return chain.from_iterable(combinations(s, r) for r in range(len(s)+1))\n",
    "\n",
    "#print(list(powerset(possible_features)))"
   ]
  },
  {
   "cell_type": "code",
   "execution_count": 8,
   "metadata": {},
   "outputs": [
    {
     "data": {
      "text/plain": [
       "15"
      ]
     },
     "execution_count": 8,
     "metadata": {},
     "output_type": "execute_result"
    }
   ],
   "source": [
    "len(possible_features)"
   ]
  },
  {
   "cell_type": "code",
   "execution_count": 9,
   "metadata": {},
   "outputs": [
    {
     "name": "stdout",
     "output_type": "stream",
     "text": [
      "tby         305.980303\n",
      "ffr         183.608289\n",
      "fta           0.000065\n",
      "eps          -1.775823\n",
      "div        -142.530009\n",
      "une         -80.692625\n",
      "wti           3.378638\n",
      "ppi          -7.923858\n",
      "rfs           0.006087\n",
      "fbsp_tby     -0.043153\n",
      "fbsp_ffr     -0.146870\n",
      "fbsp_div     -0.391168\n",
      "eps_tby      -2.122760\n",
      "eps_ffr       2.390346\n",
      "eps_div       3.950103\n",
      "dtype: float64\n"
     ]
    }
   ],
   "source": [
    "from statsmodels.regression.linear_model import OLS\n",
    "\n",
    "reg_new = OLS((df_train['diff']).copy(),df_train[possible_features].copy()).fit()\n",
    "print(reg_new.params)\n",
    "\n",
    "#from the output, we can see it's consistent with sklearn output"
   ]
  },
  {
   "cell_type": "code",
   "execution_count": 10,
   "metadata": {},
   "outputs": [
    {
     "data": {
      "text/plain": [
       "32767"
      ]
     },
     "execution_count": 10,
     "metadata": {},
     "output_type": "execute_result"
    }
   ],
   "source": [
    "new_coef = reg_new.params\n",
    "new_possible_feats = new_coef[abs(new_coef)>0].index\n",
    "\n",
    "power_feats = list(powerset(new_possible_feats))\n",
    "power_feats.remove(())\n",
    "\n",
    "power_feats = [ list(feats) for feats in power_feats]\n",
    "len(power_feats)\n"
   ]
  },
  {
   "cell_type": "code",
   "execution_count": 11,
   "metadata": {},
   "outputs": [
    {
     "ename": "KeyboardInterrupt",
     "evalue": "",
     "output_type": "error",
     "traceback": [
      "\u001b[1;31m---------------------------------------------------------------------------\u001b[0m",
      "\u001b[1;31mKeyboardInterrupt\u001b[0m                         Traceback (most recent call last)",
      "\u001b[1;32m<ipython-input-11-27ddff03f08a>\u001b[0m in \u001b[0;36m<module>\u001b[1;34m\u001b[0m\n\u001b[0;32m      3\u001b[0m \u001b[1;33m\u001b[0m\u001b[0m\n\u001b[0;32m      4\u001b[0m \u001b[1;32mfor\u001b[0m \u001b[0mfeats\u001b[0m \u001b[1;32min\u001b[0m \u001b[0mpower_feats\u001b[0m\u001b[1;33m:\u001b[0m\u001b[1;33m\u001b[0m\u001b[1;33m\u001b[0m\u001b[0m\n\u001b[1;32m----> 5\u001b[1;33m     \u001b[0mtmp_reg\u001b[0m \u001b[1;33m=\u001b[0m \u001b[0mOLS\u001b[0m\u001b[1;33m(\u001b[0m\u001b[1;33m(\u001b[0m\u001b[0mdf_train\u001b[0m\u001b[1;33m[\u001b[0m\u001b[1;34m'diff'\u001b[0m\u001b[1;33m]\u001b[0m\u001b[1;33m)\u001b[0m\u001b[1;33m.\u001b[0m\u001b[0mcopy\u001b[0m\u001b[1;33m(\u001b[0m\u001b[1;33m)\u001b[0m\u001b[1;33m,\u001b[0m\u001b[0mdf_train\u001b[0m\u001b[1;33m[\u001b[0m\u001b[0mfeats\u001b[0m\u001b[1;33m]\u001b[0m\u001b[1;33m.\u001b[0m\u001b[0mcopy\u001b[0m\u001b[1;33m(\u001b[0m\u001b[1;33m)\u001b[0m\u001b[1;33m)\u001b[0m\u001b[1;33m.\u001b[0m\u001b[0mfit\u001b[0m\u001b[1;33m(\u001b[0m\u001b[1;33m)\u001b[0m\u001b[1;33m\u001b[0m\u001b[1;33m\u001b[0m\u001b[0m\n\u001b[0m\u001b[0;32m      6\u001b[0m     \u001b[0mAIC_scores\u001b[0m\u001b[1;33m.\u001b[0m\u001b[0mappend\u001b[0m\u001b[1;33m(\u001b[0m\u001b[0mtmp_reg\u001b[0m\u001b[1;33m.\u001b[0m\u001b[0maic\u001b[0m\u001b[1;33m)\u001b[0m\u001b[1;33m\u001b[0m\u001b[1;33m\u001b[0m\u001b[0m\n\u001b[0;32m      7\u001b[0m     \u001b[0mparameters\u001b[0m\u001b[1;33m.\u001b[0m\u001b[0mappend\u001b[0m\u001b[1;33m(\u001b[0m\u001b[0mtmp_reg\u001b[0m\u001b[1;33m.\u001b[0m\u001b[0mparams\u001b[0m\u001b[1;33m)\u001b[0m\u001b[1;33m\u001b[0m\u001b[1;33m\u001b[0m\u001b[0m\n",
      "\u001b[1;32mC:\\Anaconda3\\lib\\site-packages\\pandas\\core\\generic.py\u001b[0m in \u001b[0;36mcopy\u001b[1;34m(self, deep)\u001b[0m\n\u001b[0;32m   5661\u001b[0m         \u001b[0mdtype\u001b[0m\u001b[1;33m:\u001b[0m \u001b[0mobject\u001b[0m\u001b[1;33m\u001b[0m\u001b[1;33m\u001b[0m\u001b[0m\n\u001b[0;32m   5662\u001b[0m         \"\"\"\n\u001b[1;32m-> 5663\u001b[1;33m         \u001b[0mdata\u001b[0m \u001b[1;33m=\u001b[0m \u001b[0mself\u001b[0m\u001b[1;33m.\u001b[0m\u001b[0m_mgr\u001b[0m\u001b[1;33m.\u001b[0m\u001b[0mcopy\u001b[0m\u001b[1;33m(\u001b[0m\u001b[0mdeep\u001b[0m\u001b[1;33m=\u001b[0m\u001b[0mdeep\u001b[0m\u001b[1;33m)\u001b[0m\u001b[1;33m\u001b[0m\u001b[1;33m\u001b[0m\u001b[0m\n\u001b[0m\u001b[0;32m   5664\u001b[0m         \u001b[0mself\u001b[0m\u001b[1;33m.\u001b[0m\u001b[0m_clear_item_cache\u001b[0m\u001b[1;33m(\u001b[0m\u001b[1;33m)\u001b[0m\u001b[1;33m\u001b[0m\u001b[1;33m\u001b[0m\u001b[0m\n\u001b[0;32m   5665\u001b[0m         \u001b[1;32mreturn\u001b[0m \u001b[0mself\u001b[0m\u001b[1;33m.\u001b[0m\u001b[0m_constructor\u001b[0m\u001b[1;33m(\u001b[0m\u001b[0mdata\u001b[0m\u001b[1;33m)\u001b[0m\u001b[1;33m.\u001b[0m\u001b[0m__finalize__\u001b[0m\u001b[1;33m(\u001b[0m\u001b[0mself\u001b[0m\u001b[1;33m,\u001b[0m \u001b[0mmethod\u001b[0m\u001b[1;33m=\u001b[0m\u001b[1;34m\"copy\"\u001b[0m\u001b[1;33m)\u001b[0m\u001b[1;33m\u001b[0m\u001b[1;33m\u001b[0m\u001b[0m\n",
      "\u001b[1;32mC:\\Anaconda3\\lib\\site-packages\\pandas\\core\\internals\\managers.py\u001b[0m in \u001b[0;36mcopy\u001b[1;34m(self, deep)\u001b[0m\n\u001b[0;32m    800\u001b[0m             \u001b[0mnew_axes\u001b[0m \u001b[1;33m=\u001b[0m \u001b[0mlist\u001b[0m\u001b[1;33m(\u001b[0m\u001b[0mself\u001b[0m\u001b[1;33m.\u001b[0m\u001b[0maxes\u001b[0m\u001b[1;33m)\u001b[0m\u001b[1;33m\u001b[0m\u001b[1;33m\u001b[0m\u001b[0m\n\u001b[0;32m    801\u001b[0m \u001b[1;33m\u001b[0m\u001b[0m\n\u001b[1;32m--> 802\u001b[1;33m         \u001b[0mres\u001b[0m \u001b[1;33m=\u001b[0m \u001b[0mself\u001b[0m\u001b[1;33m.\u001b[0m\u001b[0mapply\u001b[0m\u001b[1;33m(\u001b[0m\u001b[1;34m\"copy\"\u001b[0m\u001b[1;33m,\u001b[0m \u001b[0mdeep\u001b[0m\u001b[1;33m=\u001b[0m\u001b[0mdeep\u001b[0m\u001b[1;33m)\u001b[0m\u001b[1;33m\u001b[0m\u001b[1;33m\u001b[0m\u001b[0m\n\u001b[0m\u001b[0;32m    803\u001b[0m         \u001b[0mres\u001b[0m\u001b[1;33m.\u001b[0m\u001b[0maxes\u001b[0m \u001b[1;33m=\u001b[0m \u001b[0mnew_axes\u001b[0m\u001b[1;33m\u001b[0m\u001b[1;33m\u001b[0m\u001b[0m\n\u001b[0;32m    804\u001b[0m         \u001b[1;32mreturn\u001b[0m \u001b[0mres\u001b[0m\u001b[1;33m\u001b[0m\u001b[1;33m\u001b[0m\u001b[0m\n",
      "\u001b[1;32mC:\\Anaconda3\\lib\\site-packages\\pandas\\core\\internals\\managers.py\u001b[0m in \u001b[0;36mapply\u001b[1;34m(self, f, align_keys, **kwargs)\u001b[0m\n\u001b[0;32m    404\u001b[0m                 \u001b[0mapplied\u001b[0m \u001b[1;33m=\u001b[0m \u001b[0mb\u001b[0m\u001b[1;33m.\u001b[0m\u001b[0mapply\u001b[0m\u001b[1;33m(\u001b[0m\u001b[0mf\u001b[0m\u001b[1;33m,\u001b[0m \u001b[1;33m**\u001b[0m\u001b[0mkwargs\u001b[0m\u001b[1;33m)\u001b[0m\u001b[1;33m\u001b[0m\u001b[1;33m\u001b[0m\u001b[0m\n\u001b[0;32m    405\u001b[0m             \u001b[1;32melse\u001b[0m\u001b[1;33m:\u001b[0m\u001b[1;33m\u001b[0m\u001b[1;33m\u001b[0m\u001b[0m\n\u001b[1;32m--> 406\u001b[1;33m                 \u001b[0mapplied\u001b[0m \u001b[1;33m=\u001b[0m \u001b[0mgetattr\u001b[0m\u001b[1;33m(\u001b[0m\u001b[0mb\u001b[0m\u001b[1;33m,\u001b[0m \u001b[0mf\u001b[0m\u001b[1;33m)\u001b[0m\u001b[1;33m(\u001b[0m\u001b[1;33m**\u001b[0m\u001b[0mkwargs\u001b[0m\u001b[1;33m)\u001b[0m\u001b[1;33m\u001b[0m\u001b[1;33m\u001b[0m\u001b[0m\n\u001b[0m\u001b[0;32m    407\u001b[0m             \u001b[0mresult_blocks\u001b[0m \u001b[1;33m=\u001b[0m \u001b[0m_extend_blocks\u001b[0m\u001b[1;33m(\u001b[0m\u001b[0mapplied\u001b[0m\u001b[1;33m,\u001b[0m \u001b[0mresult_blocks\u001b[0m\u001b[1;33m)\u001b[0m\u001b[1;33m\u001b[0m\u001b[1;33m\u001b[0m\u001b[0m\n\u001b[0;32m    408\u001b[0m \u001b[1;33m\u001b[0m\u001b[0m\n",
      "\u001b[1;32mC:\\Anaconda3\\lib\\site-packages\\pandas\\core\\internals\\blocks.py\u001b[0m in \u001b[0;36mcopy\u001b[1;34m(self, deep)\u001b[0m\n\u001b[0;32m    677\u001b[0m         \u001b[0mvalues\u001b[0m \u001b[1;33m=\u001b[0m \u001b[0mself\u001b[0m\u001b[1;33m.\u001b[0m\u001b[0mvalues\u001b[0m\u001b[1;33m\u001b[0m\u001b[1;33m\u001b[0m\u001b[0m\n\u001b[0;32m    678\u001b[0m         \u001b[1;32mif\u001b[0m \u001b[0mdeep\u001b[0m\u001b[1;33m:\u001b[0m\u001b[1;33m\u001b[0m\u001b[1;33m\u001b[0m\u001b[0m\n\u001b[1;32m--> 679\u001b[1;33m             \u001b[0mvalues\u001b[0m \u001b[1;33m=\u001b[0m \u001b[0mvalues\u001b[0m\u001b[1;33m.\u001b[0m\u001b[0mcopy\u001b[0m\u001b[1;33m(\u001b[0m\u001b[1;33m)\u001b[0m\u001b[1;33m\u001b[0m\u001b[1;33m\u001b[0m\u001b[0m\n\u001b[0m\u001b[0;32m    680\u001b[0m         \u001b[1;32mreturn\u001b[0m \u001b[0mself\u001b[0m\u001b[1;33m.\u001b[0m\u001b[0mmake_block_same_class\u001b[0m\u001b[1;33m(\u001b[0m\u001b[0mvalues\u001b[0m\u001b[1;33m,\u001b[0m \u001b[0mndim\u001b[0m\u001b[1;33m=\u001b[0m\u001b[0mself\u001b[0m\u001b[1;33m.\u001b[0m\u001b[0mndim\u001b[0m\u001b[1;33m)\u001b[0m\u001b[1;33m\u001b[0m\u001b[1;33m\u001b[0m\u001b[0m\n\u001b[0;32m    681\u001b[0m \u001b[1;33m\u001b[0m\u001b[0m\n",
      "\u001b[1;31mKeyboardInterrupt\u001b[0m: "
     ]
    }
   ],
   "source": [
    "AIC_scores = []\n",
    "parameters = []\n",
    "\n",
    "for feats in power_feats:\n",
    "    tmp_reg = OLS((df_train['diff']).copy(),df_train[feats].copy()).fit()\n",
    "    AIC_scores.append(tmp_reg.aic)\n",
    "    parameters.append(tmp_reg.params)\n",
    "\n",
    "    \n",
    "Min_AIC_index = AIC_scores.index(min(AIC_scores))\n",
    "Min_AIC_feats = power_feats[Min_AIC_index]  \n",
    "Min_AIC_params  = parameters[Min_AIC_index]\n",
    "print(Min_AIC_feats)\n",
    "print(Min_AIC_params)  "
   ]
  },
  {
   "cell_type": "code",
   "execution_count": null,
   "metadata": {},
   "outputs": [],
   "source": [
    "len(Min_AIC_feats)"
   ]
  },
  {
   "cell_type": "code",
   "execution_count": null,
   "metadata": {},
   "outputs": [],
   "source": [
    "###After selecting the best features, we report the testing error, and make the plot \n",
    "AIC_df_test = df_test[Min_AIC_feats]\n",
    "AIC_pred_test = AIC_df_test.dot(Min_AIC_params)+df_test.fbsp\n",
    "\n",
    "AIC_df_train = df_train[Min_AIC_feats]\n",
    "AIC_pred_train = AIC_df_train.dot(Min_AIC_params)+ df_train.fbsp\n",
    "\n"
   ]
  },
  {
   "cell_type": "code",
   "execution_count": null,
   "metadata": {},
   "outputs": [],
   "source": [
    "from sklearn.metrics import mean_squared_error as MSE\n",
    "\n",
    "mse_train = MSE(df_train.y, AIC_pred_train) \n",
    "mse_test = MSE(df_test.y, AIC_pred_test)\n",
    "\n",
    "\n",
    "#compare with fbprophet()\n",
    "\n",
    "fb_mse_train = MSE(df_train.y, df_train.fbsp) \n",
    "fb_mse_test = MSE(df_test.y, df_test.fbsp)\n",
    "\n",
    "\n",
    "print(mse_train,fb_mse_train)\n",
    "\n",
    "print(mse_test,fb_mse_test)"
   ]
  },
  {
   "cell_type": "code",
   "execution_count": null,
   "metadata": {},
   "outputs": [],
   "source": [
    "df_train.ds"
   ]
  },
  {
   "cell_type": "code",
   "execution_count": null,
   "metadata": {},
   "outputs": [],
   "source": [
    "plt.figure(figsize=(18,10))\n",
    "\n",
    "# plot the training data\n",
    "plt.plot(df_train.ds,df_train.y,'b',\n",
    "            label = \"Training Data\")\n",
    "\n",
    "plt.plot(df_train.ds, AIC_pred_train,'r-',\n",
    "            label = \"Improved Fitted Values by Best_AIC\")\n",
    "\n",
    "# # plot the fit\n",
    "plt.plot(df_train.ds, df_train.fbsp,'g-',\n",
    "            label = \"FB Fitted Values\")\n",
    "\n",
    "# # plot the forecast\n",
    "plt.plot(df_test.ds, df_test.fbsp,'g--',\n",
    "            label = \"FB Forecast\")\n",
    "plt.plot(df_test.ds, AIC_pred_test,'r--',\n",
    "            label = \"Improved Forecast by Best_AIC\")\n",
    "plt.plot(df_test.ds,df_test.y,'b--',\n",
    "            label = \"Test Data\")\n",
    "\n",
    "plt.legend(fontsize=14)\n",
    "\n",
    "plt.xlabel(\"Date\", fontsize=16)\n",
    "plt.ylabel(\"SP&500 Close Price\", fontsize=16)\n",
    "\n",
    "plt.show()"
   ]
  },
  {
   "cell_type": "code",
   "execution_count": null,
   "metadata": {
    "scrolled": true
   },
   "outputs": [],
   "source": [
    "plt.figure(figsize=(18,10))\n",
    "plt.plot(df_test.y,label=\"Training Data\")\n",
    "plt.plot(df_test.fbsp,label=\"FB Forecast\")\n",
    "plt.plot(AIC_pred_test,label=\"Improved Forecast by Best_AIC\")\n",
    "plt.legend(fontsize = 14)\n",
    "plt.show()"
   ]
  },
  {
   "cell_type": "code",
   "execution_count": null,
   "metadata": {},
   "outputs": [],
   "source": []
  },
  {
   "cell_type": "code",
   "execution_count": 18,
   "metadata": {},
   "outputs": [],
   "source": [
    "column = ['tby', 'ffr', 'fta', 'eps', 'div', 'une',\n",
    "                                                  'wti', 'ppi', 'rfs', 'fbsp_tby', 'fbsp_ffr', 'fbsp_div', 'eps_tby', 'eps_ffr', 'eps_div']"
   ]
  },
  {
   "cell_type": "code",
   "execution_count": 19,
   "metadata": {},
   "outputs": [
    {
     "name": "stdout",
     "output_type": "stream",
     "text": [
      "[ 1.50405129  1.03228322  0.27409454  1.17073571  0.31243092 -0.75747342\n",
      "  0.46988206 -0.39944639  2.10369448 -0.69112943 -2.1804296  -2.38576385\n",
      " -1.14196633  1.41832903 -0.34501927]\n"
     ]
    }
   ],
   "source": [
    "from sklearn import preprocessing\n",
    "df1_train = df_train[['diff', 'tby', 'ffr', 'fta', 'eps', 'div', 'une', 'wti', 'ppi', 'rfs', 'fbsp_tby', 'fbsp_ffr', 'fbsp_div', 'eps_tby', 'eps_ffr', 'eps_div']]\n",
    "\n",
    "X = preprocessing.scale(df1_train)\n",
    "from statsmodels.regression.linear_model import OLS\n",
    "\n",
    "reg_new = OLS((X[:,0]).copy(),X[:,1:].copy()).fit()\n",
    "print(reg_new.params)"
   ]
  },
  {
   "cell_type": "code",
   "execution_count": 20,
   "metadata": {},
   "outputs": [],
   "source": [
    "# Before Covid\n",
    "# pd.Series(reg_new.params, index=['tby', 'ffr', 'fta', 'eps', 'div', 'une',\n",
    "#                                                   'wti', 'ppi', 'rfs', 'fbsp_tby', 'fbsp_ffr', 'fbsp_div', 'eps_tby', 'eps_ffr', 'eps_div'] )"
   ]
  },
  {
   "cell_type": "code",
   "execution_count": 21,
   "metadata": {},
   "outputs": [],
   "source": [
    "# before covid\n",
    "coef1 = [ 1.50405129,  1.03228322,  0.27409454,  1.17073571,  0.31243092,\n",
    "       -0.75747342,  0.46988206, -0.39944639,  2.10369448, -0.69112943,\n",
    "       -2.1804296 , -2.38576385, -1.14196633,  1.41832903, -0.34501927]\n",
    "# include covid\n",
    "coef2 = [ 0.65150054,  1.70457239, -0.1573802 , -0.18007979, -0.15221931,\n",
    "       -0.62326075,  0.45065894, -0.38972706,  2.87210843, -1.17604495,\n",
    "       -4.92858316, -2.15459111,  0.11418468,  2.74829778,  0.55520382]"
   ]
  },
  {
   "cell_type": "code",
   "execution_count": 22,
   "metadata": {},
   "outputs": [],
   "source": [
    "# Include Covid\n",
    "# pd.Series( np.append( ['coefficients (before covid)'], np.round(coef1,3)),  index= np.append(['features'], column) ) \n",
    "                                        "
   ]
  },
  {
   "cell_type": "code",
   "execution_count": 26,
   "metadata": {},
   "outputs": [],
   "source": [
    "index1 = ['10 Year U.S Treasury Bond Yield Rates (tby)', 'Federal Funds Rates (ffr)',\n",
    "        'Federal Total Assets (fta)', 'Earning-Per-Share of S&P 500 (eps)', 'Dividend Yield of S&P 500 (div)',\n",
    "        'Unemployment Rates (une) ', 'West Texas Intermediate oil index (wit)', 'Producer Price Index (ppi)',\n",
    "         'Retail and Food Services Sales (rfs)', \n",
    "         'fbsp_tby', 'fbsp_ffr', 'fbsp_div', 'eps_tby', 'eps_ffr', 'eps_div'\n",
    "        ]"
   ]
  },
  {
   "cell_type": "code",
   "execution_count": 27,
   "metadata": {},
   "outputs": [
    {
     "data": {
      "text/plain": [
       "15"
      ]
     },
     "execution_count": 27,
     "metadata": {},
     "output_type": "execute_result"
    }
   ],
   "source": [
    "len(index1)"
   ]
  },
  {
   "cell_type": "code",
   "execution_count": 28,
   "metadata": {},
   "outputs": [
    {
     "data": {
      "text/plain": [
       "10 Year U.S Treasury Bond Yield Rates (tby)    0.651501\n",
       "Federal Funds Rates (ffr)                      1.704572\n",
       "Federal Total Assets (fta)                    -0.157380\n",
       "Earning-Per-Share of S&P 500 (eps)            -0.180080\n",
       "Dividend Yield of S&P 500 (div)               -0.152219\n",
       "Unemployment Rates (une)                      -0.623261\n",
       "West Texas Intermediate oil index (wit)        0.450659\n",
       "Producer Price Index (ppi)                    -0.389727\n",
       "Retail and Food Services Sales (rfs)           2.872108\n",
       "fbsp_tby                                      -1.176045\n",
       "fbsp_ffr                                      -4.928583\n",
       "fbsp_div                                      -2.154591\n",
       "eps_tby                                        0.114185\n",
       "eps_ffr                                        2.748298\n",
       "eps_div                                        0.555204\n",
       "dtype: float64"
      ]
     },
     "execution_count": 28,
     "metadata": {},
     "output_type": "execute_result"
    }
   ],
   "source": [
    "pd.Series(coef2, index =index1)"
   ]
  },
  {
   "cell_type": "code",
   "execution_count": 29,
   "metadata": {},
   "outputs": [
    {
     "data": {
      "text/html": [
       "<div>\n",
       "<style scoped>\n",
       "    .dataframe tbody tr th:only-of-type {\n",
       "        vertical-align: middle;\n",
       "    }\n",
       "\n",
       "    .dataframe tbody tr th {\n",
       "        vertical-align: top;\n",
       "    }\n",
       "\n",
       "    .dataframe thead th {\n",
       "        text-align: right;\n",
       "    }\n",
       "</style>\n",
       "<table border=\"1\" class=\"dataframe\">\n",
       "  <thead>\n",
       "    <tr style=\"text-align: right;\">\n",
       "      <th></th>\n",
       "      <th>coefficients (before covid)</th>\n",
       "      <th>coefficients (include covid)</th>\n",
       "    </tr>\n",
       "  </thead>\n",
       "  <tbody>\n",
       "    <tr>\n",
       "      <th>10 Year U.S Treasury Bond Yield Rates (tby)</th>\n",
       "      <td>1.504051</td>\n",
       "      <td>0.651501</td>\n",
       "    </tr>\n",
       "    <tr>\n",
       "      <th>Federal Funds Rates (ffr)</th>\n",
       "      <td>1.032283</td>\n",
       "      <td>1.704572</td>\n",
       "    </tr>\n",
       "    <tr>\n",
       "      <th>Federal Total Assets (fta)</th>\n",
       "      <td>0.274095</td>\n",
       "      <td>-0.157380</td>\n",
       "    </tr>\n",
       "    <tr>\n",
       "      <th>Earning-Per-Share of S&amp;P 500 (eps)</th>\n",
       "      <td>1.170736</td>\n",
       "      <td>-0.180080</td>\n",
       "    </tr>\n",
       "    <tr>\n",
       "      <th>Dividend Yield of S&amp;P 500 (div)</th>\n",
       "      <td>0.312431</td>\n",
       "      <td>-0.152219</td>\n",
       "    </tr>\n",
       "    <tr>\n",
       "      <th>Unemployment Rates (une)</th>\n",
       "      <td>-0.757473</td>\n",
       "      <td>-0.623261</td>\n",
       "    </tr>\n",
       "    <tr>\n",
       "      <th>West Texas Intermediate oil index (wit)</th>\n",
       "      <td>0.469882</td>\n",
       "      <td>0.450659</td>\n",
       "    </tr>\n",
       "    <tr>\n",
       "      <th>Producer Price Index (ppi)</th>\n",
       "      <td>-0.399446</td>\n",
       "      <td>-0.389727</td>\n",
       "    </tr>\n",
       "    <tr>\n",
       "      <th>Retail and Food Services Sales (rfs)</th>\n",
       "      <td>2.103694</td>\n",
       "      <td>2.872108</td>\n",
       "    </tr>\n",
       "    <tr>\n",
       "      <th>fbsp_tby</th>\n",
       "      <td>-0.691129</td>\n",
       "      <td>-1.176045</td>\n",
       "    </tr>\n",
       "    <tr>\n",
       "      <th>fbsp_ffr</th>\n",
       "      <td>-2.180430</td>\n",
       "      <td>-4.928583</td>\n",
       "    </tr>\n",
       "    <tr>\n",
       "      <th>fbsp_div</th>\n",
       "      <td>-2.385764</td>\n",
       "      <td>-2.154591</td>\n",
       "    </tr>\n",
       "    <tr>\n",
       "      <th>eps_tby</th>\n",
       "      <td>-1.141966</td>\n",
       "      <td>0.114185</td>\n",
       "    </tr>\n",
       "    <tr>\n",
       "      <th>eps_ffr</th>\n",
       "      <td>1.418329</td>\n",
       "      <td>2.748298</td>\n",
       "    </tr>\n",
       "    <tr>\n",
       "      <th>eps_div</th>\n",
       "      <td>-0.345019</td>\n",
       "      <td>0.555204</td>\n",
       "    </tr>\n",
       "  </tbody>\n",
       "</table>\n",
       "</div>"
      ],
      "text/plain": [
       "                                             coefficients (before covid)  \\\n",
       "10 Year U.S Treasury Bond Yield Rates (tby)                     1.504051   \n",
       "Federal Funds Rates (ffr)                                       1.032283   \n",
       "Federal Total Assets (fta)                                      0.274095   \n",
       "Earning-Per-Share of S&P 500 (eps)                              1.170736   \n",
       "Dividend Yield of S&P 500 (div)                                 0.312431   \n",
       "Unemployment Rates (une)                                       -0.757473   \n",
       "West Texas Intermediate oil index (wit)                         0.469882   \n",
       "Producer Price Index (ppi)                                     -0.399446   \n",
       "Retail and Food Services Sales (rfs)                            2.103694   \n",
       "fbsp_tby                                                       -0.691129   \n",
       "fbsp_ffr                                                       -2.180430   \n",
       "fbsp_div                                                       -2.385764   \n",
       "eps_tby                                                        -1.141966   \n",
       "eps_ffr                                                         1.418329   \n",
       "eps_div                                                        -0.345019   \n",
       "\n",
       "                                             coefficients (include covid)  \n",
       "10 Year U.S Treasury Bond Yield Rates (tby)                      0.651501  \n",
       "Federal Funds Rates (ffr)                                        1.704572  \n",
       "Federal Total Assets (fta)                                      -0.157380  \n",
       "Earning-Per-Share of S&P 500 (eps)                              -0.180080  \n",
       "Dividend Yield of S&P 500 (div)                                 -0.152219  \n",
       "Unemployment Rates (une)                                        -0.623261  \n",
       "West Texas Intermediate oil index (wit)                          0.450659  \n",
       "Producer Price Index (ppi)                                      -0.389727  \n",
       "Retail and Food Services Sales (rfs)                             2.872108  \n",
       "fbsp_tby                                                        -1.176045  \n",
       "fbsp_ffr                                                        -4.928583  \n",
       "fbsp_div                                                        -2.154591  \n",
       "eps_tby                                                          0.114185  \n",
       "eps_ffr                                                          2.748298  \n",
       "eps_div                                                          0.555204  "
      ]
     },
     "execution_count": 29,
     "metadata": {},
     "output_type": "execute_result"
    }
   ],
   "source": [
    "df3 = pd.DataFrame(coef1, index = index1, columns = ['coefficients (before covid)'])\n",
    "df3['coefficients (include covid)'] =pd.Series(coef2, index =index1)\n",
    "df3"
   ]
  },
  {
   "cell_type": "code",
   "execution_count": null,
   "metadata": {},
   "outputs": [],
   "source": []
  }
 ],
 "metadata": {
  "kernelspec": {
   "display_name": "Python 3",
   "language": "python",
   "name": "python3"
  },
  "language_info": {
   "codemirror_mode": {
    "name": "ipython",
    "version": 3
   },
   "file_extension": ".py",
   "mimetype": "text/x-python",
   "name": "python",
   "nbconvert_exporter": "python",
   "pygments_lexer": "ipython3",
   "version": "3.8.5"
  }
 },
 "nbformat": 4,
 "nbformat_minor": 5
}
